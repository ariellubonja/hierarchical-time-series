{
 "cells": [
  {
   "cell_type": "code",
   "execution_count": 1,
   "metadata": {},
   "outputs": [],
   "source": [
    "import pandas as pd\n",
    "from matplotlib import pyplot as plt\n",
    "import numpy as np\n",
    "from utils.hts_eda_utils import get_zero_columns, remove_zero_columns\n",
    "from utils import hts_eda_utils"
   ]
  },
  {
   "cell_type": "code",
   "execution_count": 2,
   "metadata": {},
   "outputs": [
    {
     "data": {
      "text/html": [
       "<div>\n",
       "<style scoped>\n",
       "    .dataframe tbody tr th:only-of-type {\n",
       "        vertical-align: middle;\n",
       "    }\n",
       "\n",
       "    .dataframe tbody tr th {\n",
       "        vertical-align: top;\n",
       "    }\n",
       "\n",
       "    .dataframe thead th {\n",
       "        text-align: right;\n",
       "    }\n",
       "</style>\n",
       "<table border=\"1\" class=\"dataframe\">\n",
       "  <thead>\n",
       "    <tr style=\"text-align: right;\">\n",
       "      <th></th>\n",
       "      <th>Дальневосточный ФО - ADRIANOL - Adrianol for adults nasal drops 10 ml #1</th>\n",
       "      <th>Дальневосточный ФО - AGALATES - Agalates tabs 0.5 mg #2</th>\n",
       "      <th>Дальневосточный ФО - AGALATES - Agalates tabs 0.5 mg #8</th>\n",
       "      <th>Дальневосточный ФО - ALMAGEL - Almagel A susp 170 ml #1</th>\n",
       "      <th>Дальневосточный ФО - ALMAGEL - Almagel Neo sachet 10 ml #10</th>\n",
       "      <th>Дальневосточный ФО - ALMAGEL - Almagel Neo susp 170 ml #1</th>\n",
       "      <th>Дальневосточный ФО - ALMAGEL - Almagel sachet 10 ml #10</th>\n",
       "      <th>Дальневосточный ФО - ALMAGEL - Almagel susp 170 ml #1</th>\n",
       "      <th>Дальневосточный ФО - ALMONT - Almont FC tabs 10 mg #28</th>\n",
       "      <th>Дальневосточный ФО - ALMONT - Almont chew tabs 4 mg #28</th>\n",
       "      <th>...</th>\n",
       "      <th>Южный ФО - VELBINE - Velbine solution for inf 10 mg/ml 5ml #1</th>\n",
       "      <th>Южный ФО - VESTIBO - Vestibo tabs 16 mg #30</th>\n",
       "      <th>Южный ФО - VESTIBO - Vestibo tabs 24 mg #30</th>\n",
       "      <th>Южный ФО - VINCRISTINE-TEVA - Vincristine-Teva lyoph for inf 1 mg/ml 1 ml #1</th>\n",
       "      <th>Южный ФО - VINCRISTINE-TEVA - Vincristine-Teva lyoph for inf 1 mg/ml 2 ml #1</th>\n",
       "      <th>Южный ФО - VINORELBINE-TEVA - VINORELBIN-TEVA 50 mg.5 ml</th>\n",
       "      <th>Южный ФО - VINORELBINE-TEVA - VINORELBINE-TEVA concentrate 10 mg.ml 1 ml</th>\n",
       "      <th>Южный ФО - ZINCTERAL - Zincteral-Teva FC tabs 124 mg #150</th>\n",
       "      <th>Южный ФО - ZINCTERAL - Zincteral-Teva FC tabs 124 mg #25</th>\n",
       "      <th>Южный ФО - ZOLEDRONAT-TEVA - Zoledronate-Teva concentrate for inf 4 mg/5ml 5 ml #1</th>\n",
       "    </tr>\n",
       "    <tr>\n",
       "      <th>Month</th>\n",
       "      <th></th>\n",
       "      <th></th>\n",
       "      <th></th>\n",
       "      <th></th>\n",
       "      <th></th>\n",
       "      <th></th>\n",
       "      <th></th>\n",
       "      <th></th>\n",
       "      <th></th>\n",
       "      <th></th>\n",
       "      <th></th>\n",
       "      <th></th>\n",
       "      <th></th>\n",
       "      <th></th>\n",
       "      <th></th>\n",
       "      <th></th>\n",
       "      <th></th>\n",
       "      <th></th>\n",
       "      <th></th>\n",
       "      <th></th>\n",
       "      <th></th>\n",
       "    </tr>\n",
       "  </thead>\n",
       "  <tbody>\n",
       "    <tr>\n",
       "      <th>2018-03-01</th>\n",
       "      <td>200</td>\n",
       "      <td>0</td>\n",
       "      <td>0</td>\n",
       "      <td>9</td>\n",
       "      <td>0</td>\n",
       "      <td>0</td>\n",
       "      <td>0</td>\n",
       "      <td>948</td>\n",
       "      <td>35</td>\n",
       "      <td>87</td>\n",
       "      <td>...</td>\n",
       "      <td>105</td>\n",
       "      <td>0</td>\n",
       "      <td>314</td>\n",
       "      <td>400</td>\n",
       "      <td>0</td>\n",
       "      <td>0</td>\n",
       "      <td>0</td>\n",
       "      <td>0</td>\n",
       "      <td>16</td>\n",
       "      <td>9689</td>\n",
       "    </tr>\n",
       "    <tr>\n",
       "      <th>2018-04-01</th>\n",
       "      <td>1000</td>\n",
       "      <td>0</td>\n",
       "      <td>0</td>\n",
       "      <td>9</td>\n",
       "      <td>0</td>\n",
       "      <td>0</td>\n",
       "      <td>0</td>\n",
       "      <td>1036</td>\n",
       "      <td>35</td>\n",
       "      <td>87</td>\n",
       "      <td>...</td>\n",
       "      <td>1045</td>\n",
       "      <td>0</td>\n",
       "      <td>247</td>\n",
       "      <td>2160</td>\n",
       "      <td>0</td>\n",
       "      <td>0</td>\n",
       "      <td>0</td>\n",
       "      <td>0</td>\n",
       "      <td>0</td>\n",
       "      <td>11704</td>\n",
       "    </tr>\n",
       "    <tr>\n",
       "      <th>2018-05-01</th>\n",
       "      <td>1731</td>\n",
       "      <td>0</td>\n",
       "      <td>0</td>\n",
       "      <td>301</td>\n",
       "      <td>0</td>\n",
       "      <td>0</td>\n",
       "      <td>0</td>\n",
       "      <td>1245</td>\n",
       "      <td>93</td>\n",
       "      <td>147</td>\n",
       "      <td>...</td>\n",
       "      <td>1010</td>\n",
       "      <td>0</td>\n",
       "      <td>247</td>\n",
       "      <td>3245</td>\n",
       "      <td>0</td>\n",
       "      <td>0</td>\n",
       "      <td>0</td>\n",
       "      <td>0</td>\n",
       "      <td>0</td>\n",
       "      <td>15232</td>\n",
       "    </tr>\n",
       "    <tr>\n",
       "      <th>2018-06-01</th>\n",
       "      <td>2090</td>\n",
       "      <td>0</td>\n",
       "      <td>0</td>\n",
       "      <td>490</td>\n",
       "      <td>0</td>\n",
       "      <td>0</td>\n",
       "      <td>0</td>\n",
       "      <td>1786</td>\n",
       "      <td>183</td>\n",
       "      <td>103</td>\n",
       "      <td>...</td>\n",
       "      <td>946</td>\n",
       "      <td>0</td>\n",
       "      <td>0</td>\n",
       "      <td>3235</td>\n",
       "      <td>0</td>\n",
       "      <td>0</td>\n",
       "      <td>0</td>\n",
       "      <td>0</td>\n",
       "      <td>0</td>\n",
       "      <td>6585</td>\n",
       "    </tr>\n",
       "    <tr>\n",
       "      <th>2018-07-01</th>\n",
       "      <td>1547</td>\n",
       "      <td>0</td>\n",
       "      <td>60</td>\n",
       "      <td>490</td>\n",
       "      <td>0</td>\n",
       "      <td>0</td>\n",
       "      <td>0</td>\n",
       "      <td>4131</td>\n",
       "      <td>183</td>\n",
       "      <td>103</td>\n",
       "      <td>...</td>\n",
       "      <td>45</td>\n",
       "      <td>0</td>\n",
       "      <td>0</td>\n",
       "      <td>5085</td>\n",
       "      <td>0</td>\n",
       "      <td>0</td>\n",
       "      <td>0</td>\n",
       "      <td>6</td>\n",
       "      <td>0</td>\n",
       "      <td>6034</td>\n",
       "    </tr>\n",
       "  </tbody>\n",
       "</table>\n",
       "<p>5 rows × 2254 columns</p>\n",
       "</div>"
      ],
      "text/plain": [
       "            Дальневосточный ФО - ADRIANOL - Adrianol for adults nasal drops 10 ml #1  \\\n",
       "Month                                                                                  \n",
       "2018-03-01                                                200                          \n",
       "2018-04-01                                               1000                          \n",
       "2018-05-01                                               1731                          \n",
       "2018-06-01                                               2090                          \n",
       "2018-07-01                                               1547                          \n",
       "\n",
       "            Дальневосточный ФО - AGALATES - Agalates tabs 0.5 mg #2  \\\n",
       "Month                                                                 \n",
       "2018-03-01                                                  0         \n",
       "2018-04-01                                                  0         \n",
       "2018-05-01                                                  0         \n",
       "2018-06-01                                                  0         \n",
       "2018-07-01                                                  0         \n",
       "\n",
       "            Дальневосточный ФО - AGALATES - Agalates tabs 0.5 mg #8  \\\n",
       "Month                                                                 \n",
       "2018-03-01                                                  0         \n",
       "2018-04-01                                                  0         \n",
       "2018-05-01                                                  0         \n",
       "2018-06-01                                                  0         \n",
       "2018-07-01                                                 60         \n",
       "\n",
       "            Дальневосточный ФО - ALMAGEL - Almagel A susp 170 ml #1  \\\n",
       "Month                                                                 \n",
       "2018-03-01                                                  9         \n",
       "2018-04-01                                                  9         \n",
       "2018-05-01                                                301         \n",
       "2018-06-01                                                490         \n",
       "2018-07-01                                                490         \n",
       "\n",
       "            Дальневосточный ФО - ALMAGEL - Almagel Neo sachet 10 ml #10  \\\n",
       "Month                                                                     \n",
       "2018-03-01                                                  0             \n",
       "2018-04-01                                                  0             \n",
       "2018-05-01                                                  0             \n",
       "2018-06-01                                                  0             \n",
       "2018-07-01                                                  0             \n",
       "\n",
       "            Дальневосточный ФО - ALMAGEL - Almagel Neo susp 170 ml #1  \\\n",
       "Month                                                                   \n",
       "2018-03-01                                                  0           \n",
       "2018-04-01                                                  0           \n",
       "2018-05-01                                                  0           \n",
       "2018-06-01                                                  0           \n",
       "2018-07-01                                                  0           \n",
       "\n",
       "            Дальневосточный ФО - ALMAGEL - Almagel sachet 10 ml #10  \\\n",
       "Month                                                                 \n",
       "2018-03-01                                                  0         \n",
       "2018-04-01                                                  0         \n",
       "2018-05-01                                                  0         \n",
       "2018-06-01                                                  0         \n",
       "2018-07-01                                                  0         \n",
       "\n",
       "            Дальневосточный ФО - ALMAGEL - Almagel susp 170 ml #1  \\\n",
       "Month                                                               \n",
       "2018-03-01                                                948       \n",
       "2018-04-01                                               1036       \n",
       "2018-05-01                                               1245       \n",
       "2018-06-01                                               1786       \n",
       "2018-07-01                                               4131       \n",
       "\n",
       "            Дальневосточный ФО - ALMONT - Almont FC tabs 10 mg #28  \\\n",
       "Month                                                                \n",
       "2018-03-01                                                 35        \n",
       "2018-04-01                                                 35        \n",
       "2018-05-01                                                 93        \n",
       "2018-06-01                                                183        \n",
       "2018-07-01                                                183        \n",
       "\n",
       "            Дальневосточный ФО - ALMONT - Almont chew tabs 4 mg #28  ...  \\\n",
       "Month                                                                ...   \n",
       "2018-03-01                                                 87        ...   \n",
       "2018-04-01                                                 87        ...   \n",
       "2018-05-01                                                147        ...   \n",
       "2018-06-01                                                103        ...   \n",
       "2018-07-01                                                103        ...   \n",
       "\n",
       "            Южный ФО - VELBINE - Velbine solution for inf 10 mg/ml 5ml #1  \\\n",
       "Month                                                                       \n",
       "2018-03-01                                                105               \n",
       "2018-04-01                                               1045               \n",
       "2018-05-01                                               1010               \n",
       "2018-06-01                                                946               \n",
       "2018-07-01                                                 45               \n",
       "\n",
       "            Южный ФО - VESTIBO - Vestibo tabs 16 mg #30  \\\n",
       "Month                                                     \n",
       "2018-03-01                                            0   \n",
       "2018-04-01                                            0   \n",
       "2018-05-01                                            0   \n",
       "2018-06-01                                            0   \n",
       "2018-07-01                                            0   \n",
       "\n",
       "            Южный ФО - VESTIBO - Vestibo tabs 24 mg #30  \\\n",
       "Month                                                     \n",
       "2018-03-01                                          314   \n",
       "2018-04-01                                          247   \n",
       "2018-05-01                                          247   \n",
       "2018-06-01                                            0   \n",
       "2018-07-01                                            0   \n",
       "\n",
       "            Южный ФО - VINCRISTINE-TEVA - Vincristine-Teva lyoph for inf 1 mg/ml 1 ml #1  \\\n",
       "Month                                                                                      \n",
       "2018-03-01                                                400                              \n",
       "2018-04-01                                               2160                              \n",
       "2018-05-01                                               3245                              \n",
       "2018-06-01                                               3235                              \n",
       "2018-07-01                                               5085                              \n",
       "\n",
       "            Южный ФО - VINCRISTINE-TEVA - Vincristine-Teva lyoph for inf 1 mg/ml 2 ml #1  \\\n",
       "Month                                                                                      \n",
       "2018-03-01                                                  0                              \n",
       "2018-04-01                                                  0                              \n",
       "2018-05-01                                                  0                              \n",
       "2018-06-01                                                  0                              \n",
       "2018-07-01                                                  0                              \n",
       "\n",
       "            Южный ФО - VINORELBINE-TEVA - VINORELBIN-TEVA 50 mg.5 ml  \\\n",
       "Month                                                                  \n",
       "2018-03-01                                                  0          \n",
       "2018-04-01                                                  0          \n",
       "2018-05-01                                                  0          \n",
       "2018-06-01                                                  0          \n",
       "2018-07-01                                                  0          \n",
       "\n",
       "            Южный ФО - VINORELBINE-TEVA - VINORELBINE-TEVA concentrate 10 mg.ml 1 ml  \\\n",
       "Month                                                                                  \n",
       "2018-03-01                                                  0                          \n",
       "2018-04-01                                                  0                          \n",
       "2018-05-01                                                  0                          \n",
       "2018-06-01                                                  0                          \n",
       "2018-07-01                                                  0                          \n",
       "\n",
       "            Южный ФО - ZINCTERAL - Zincteral-Teva FC tabs 124 mg #150  \\\n",
       "Month                                                                   \n",
       "2018-03-01                                                  0           \n",
       "2018-04-01                                                  0           \n",
       "2018-05-01                                                  0           \n",
       "2018-06-01                                                  0           \n",
       "2018-07-01                                                  6           \n",
       "\n",
       "            Южный ФО - ZINCTERAL - Zincteral-Teva FC tabs 124 mg #25  \\\n",
       "Month                                                                  \n",
       "2018-03-01                                                 16          \n",
       "2018-04-01                                                  0          \n",
       "2018-05-01                                                  0          \n",
       "2018-06-01                                                  0          \n",
       "2018-07-01                                                  0          \n",
       "\n",
       "            Южный ФО - ZOLEDRONAT-TEVA - Zoledronate-Teva concentrate for inf 4 mg/5ml 5 ml #1  \n",
       "Month                                                                                           \n",
       "2018-03-01                                               9689                                   \n",
       "2018-04-01                                              11704                                   \n",
       "2018-05-01                                              15232                                   \n",
       "2018-06-01                                               6585                                   \n",
       "2018-07-01                                               6034                                   \n",
       "\n",
       "[5 rows x 2254 columns]"
      ]
     },
     "execution_count": 2,
     "metadata": {},
     "output_type": "execute_result"
    }
   ],
   "source": [
    "original_df = pd.read_excel('data/Quarterly_smoothing.xlsx', index_col=0)\n",
    "original_df.head()"
   ]
  },
  {
   "cell_type": "code",
   "execution_count": 3,
   "metadata": {},
   "outputs": [
    {
     "data": {
      "text/plain": [
       "['Adrianol for adults nasal drops 10 ml #1',\n",
       " 'Agalates tabs 0.5 mg #2',\n",
       " 'Agalates tabs 0.5 mg #8',\n",
       " 'Almagel A susp 170 ml #1',\n",
       " 'Almagel Neo sachet 10 ml #10']"
      ]
     },
     "execution_count": 3,
     "metadata": {},
     "output_type": "execute_result"
    }
   ],
   "source": [
    "pill_names = [item.split(' - ')[2] for item in original_df.columns]\n",
    "pill_names[:5]"
   ]
  },
  {
   "cell_type": "code",
   "execution_count": 4,
   "metadata": {},
   "outputs": [
    {
     "data": {
      "text/plain": [
       "['Adrianol for adults nasal drops 10 ml',\n",
       " 'Agalates tabs 0.5 mg',\n",
       " 'Agalates tabs 0.5 mg',\n",
       " 'Almagel A susp 170 ml',\n",
       " 'Almagel Neo sachet 10 ml']"
      ]
     },
     "execution_count": 4,
     "metadata": {},
     "output_type": "execute_result"
    }
   ],
   "source": [
    "pill_names = [p.split(' #')[0] for p in pill_names]\n",
    "pill_names[:5]"
   ]
  },
  {
   "cell_type": "code",
   "execution_count": 5,
   "metadata": {},
   "outputs": [
    {
     "data": {
      "text/plain": [
       "2254"
      ]
     },
     "execution_count": 5,
     "metadata": {},
     "output_type": "execute_result"
    }
   ],
   "source": [
    "len(pill_names)"
   ]
  },
  {
   "cell_type": "code",
   "execution_count": 6,
   "metadata": {},
   "outputs": [],
   "source": [
    "unique_pill_names = list(set(pill_names))"
   ]
  },
  {
   "cell_type": "code",
   "execution_count": 7,
   "metadata": {},
   "outputs": [
    {
     "data": {
      "text/plain": [
       "248"
      ]
     },
     "execution_count": 7,
     "metadata": {},
     "output_type": "execute_result"
    }
   ],
   "source": [
    "len(unique_pill_names)"
   ]
  },
  {
   "cell_type": "code",
   "execution_count": 8,
   "metadata": {},
   "outputs": [
    {
     "data": {
      "text/plain": [
       "['Kalymin 60 N tabs 60 mg 100',\n",
       " 'DuoResp Spiromax pwd for inh 320/9 mcg 60 doses',\n",
       " 'Gastal tabs',\n",
       " 'Lestrodex FC tabs 2.5 mg',\n",
       " 'Anastrozole-Teva FC tabs 1 mg',\n",
       " 'Valz Combi FC tabs 5 mg + 80 mg',\n",
       " 'Valz Combi FC tabs 10 mg + 160 mg',\n",
       " 'Eplenor-Teva tabs 50 mg',\n",
       " 'Dolobene gel 45 g',\n",
       " 'Corinfar ER FC tabs 10 mg',\n",
       " 'Finlepsin retard ER tabs 200 mg',\n",
       " 'Sumamed caps 250 mg',\n",
       " 'Adrianol for adults nasal drops 10 ml',\n",
       " 'Diclofenac-Teva gel 1 % 100 g',\n",
       " 'Beclazone Eco aerosol for inh 100 mcg 200 doses',\n",
       " 'Vestibo tabs 16 mg',\n",
       " 'Meloxicam-Teva tabs 7.5 mg',\n",
       " 'Amlodipine-Teva tabs 10 mg',\n",
       " 'Atorvastatin-Teva FC tabs 20 mg',\n",
       " 'Etoricoxib FC tabs 90 mg',\n",
       " 'Cordinorm Cor tabs 2.5 mg',\n",
       " 'Methotrexate-Teva solution vial 25 mg/ml 2 ml',\n",
       " 'Agalates tabs 0.5 mg',\n",
       " 'Fludarabine-Teva concentrate for sol 25 mg/ml 2ml',\n",
       " 'Atorvastatin-Teva FC tabs 10 mg',\n",
       " 'Perindopril-Teva FC tabs 10 mg',\n",
       " 'Levofloxacin-Teva FC tabs 500 mg',\n",
       " 'Rhinonorm-Teva nasal spray for adults 0.1% 20 ml',\n",
       " 'Valz FC tabs 80 mg',\n",
       " 'Equoral solution 100 mg/ml 50 ml',\n",
       " 'Convulsofin-retard ER FC tabs 300 mg',\n",
       " 'Copaxone-Teva solution 20 mg/ml 1ml',\n",
       " 'Dolobene gel 90 g',\n",
       " 'Cinqeiro solution for infusion 10 mg/ml 10 ml',\n",
       " 'Equoral caps 25 mg',\n",
       " 'CLOPIDOGREL ASK-TEVA FC tabs 75 mg + 100mg',\n",
       " 'Sumatriptan-Teva FC tabs 50 mg',\n",
       " 'Ambrobene Stoptussin drops 4 mg+100 mg/ml 50 ml',\n",
       " 'Valz N FC tabs 80 mg/12.5mg',\n",
       " 'Dutasteride-Teva caps 0.5 mg',\n",
       " 'Phezam caps 400 mg+25 mg',\n",
       " 'Metoprolol-Teva tabs 50 mg',\n",
       " 'Cerucal tabs 10 mg',\n",
       " 'Copaxone solution 40 mg/ml 1ml',\n",
       " 'Irinotecan solution for inf. 20 mg/ml 2ml',\n",
       " 'Lisinopril-Teva tabs 5 mg',\n",
       " 'Almagel susp 170 ml',\n",
       " 'Levodopa/Carbidopa/Entacapone tabs 25+200+100 mg',\n",
       " 'Metformin-Teva FC tabs 850 mg',\n",
       " 'Oxaliplatin-Teva  5 mg/ml 20 ml',\n",
       " 'Omeprazole-Teva DR caps 10 mg',\n",
       " 'Gemcitabin 1000 mg',\n",
       " 'VINORELBIN-TEVA 50 mg.5 ml',\n",
       " 'Rosuvastatin-Teva FC tabs 10 mg',\n",
       " 'Valz Combi FC tabs 5 mg + 160 mg',\n",
       " 'Cisplatin-Teva concentrate for sol for inf 0.5 mg/ml 50 ml',\n",
       " 'Stoptussin tabs 4 mg + 100 mg',\n",
       " 'Omeprazole-Teva DR caps 20 mg',\n",
       " 'Topotecan-Actavis lyoph for inf 200 mcg/ml 5 ml',\n",
       " 'Lisinoton tabs 5 mg',\n",
       " 'Sumamed FC tabs 125 mg',\n",
       " 'Ambrobene tabs 30 mg',\n",
       " 'Dynamico FC tabs 50 mg',\n",
       " 'Cuprenil FC tabs 250 mg',\n",
       " 'Indapamide/Perindopril-Teva FC tabs 1.25 mg+5 mg',\n",
       " 'Salbutamol-Teva aerosol for inh 100 mcg 200 doses',\n",
       " 'Diosmin/Hesperidine 900/100 mg',\n",
       " 'Dynamico forward films 100 mg sachet',\n",
       " 'Ambrobene syrup 15 mg/5ml',\n",
       " 'Almont FC tabs 10 mg',\n",
       " 'Tevanate tabs 70 mg',\n",
       " 'Bicalutamide-Teva FC tabs 150 mg',\n",
       " 'Tenzotran FC tabs 0.2 mg',\n",
       " 'EsCordi Cor tabs 2.5 mg',\n",
       " 'Ambrobene Stoptussin drops 4 mg+100 mg/ml 25 ml',\n",
       " 'Valvir FC tabs 500 mg',\n",
       " 'Ambrobene solution for inj 15 mg/2ml 2 ml',\n",
       " 'Ordiss N tabs 12.5 mg+16 mg',\n",
       " 'Panthenol-Teva ointment 5% 35 g',\n",
       " 'Bisoprolol-Teva FC tabs 5 mg',\n",
       " 'Drotaverine-Teva tabs 40 mg',\n",
       " 'Loratadine-Teva tabs 10 mg',\n",
       " 'Valvir FC tabs 1000 mg',\n",
       " 'Velbine solution for inf 10 mg/ml 5ml',\n",
       " 'Clotrimazole-Teva cream 1% 30g',\n",
       " 'Sedalgin Neo tabs',\n",
       " 'Lisinoton tabs 20 mg',\n",
       " 'Haloperidol-ratiopharm drops 30 ml',\n",
       " 'Diuver tabs 5 mg',\n",
       " 'Ambrobene Stoptussin tabs 4+100 mg',\n",
       " 'Paclitaxel-TEVA',\n",
       " 'Stopangin-Teva spray 30 ml',\n",
       " 'Domperidone-Teva FC tabs 10 mg',\n",
       " 'Carvedilol-Teva tabs 25 mg',\n",
       " 'Velbine solution for inf 10 mg/ml 1ml',\n",
       " 'Sumamed forte pwd 200 mg/5 ml 35.573 g',\n",
       " 'Doxazosin-Teva tabs 4 mg',\n",
       " 'Corinfar retard ER FC tabs 20 mg',\n",
       " 'Diclofenac-Teva gel 1% 40 g',\n",
       " 'Sumatriptan-Teva FC tabs 100 mg',\n",
       " 'Fulvestrant-Teva Injectable PFS Solution 50 mg/ml',\n",
       " 'Azilect tabs 1 mg',\n",
       " 'Icatibant Acetate solution for inj 10-1 mg/ml',\n",
       " 'Clarithromycin-Teva FC tabs 500 mg',\n",
       " 'Almagel Neo sachet 10 ml',\n",
       " 'Felodip ER FC tabs 2.5 mg',\n",
       " 'Ondansetron-Teva FC tabs 8 mg',\n",
       " 'TEVANATE tab. 70 mg N. 4',\n",
       " 'Ambrobene oral solution 7.5 mg/ml 40 ml',\n",
       " 'Lisinoton tabs 10 mg',\n",
       " 'Rosuvastatin-Teva FC tabs 20 mg',\n",
       " 'Vestibo tabs 24 mg',\n",
       " 'Etoposide-Teva concentrate for sol for inf 20 mg/ml 5 ml',\n",
       " 'Nazarel nasal spray 50 mcg/dose 120 doses',\n",
       " 'Gastal tabs spearmint',\n",
       " 'Lisinopril-Teva tabs 10 mg',\n",
       " 'Budenit Steri-Neb Inh susp 0.25 mg/ml 2 ml',\n",
       " 'Dynamico FC tabs 100 mg',\n",
       " 'Ambrobene oral solution 7.5 mg/ml 100 ml',\n",
       " 'Amlodipine-Teva tabs 5 mg',\n",
       " 'Felodip ER FC tabs 10 mg',\n",
       " 'Finlepsin retard ER tabs 400 mg',\n",
       " 'Nitrofungin-Teva solution 25 ml',\n",
       " 'Cisplatin-Teva concentrate for sol for inf 0.5 mg/ml 100 ml',\n",
       " 'Equoral caps 50 mg',\n",
       " 'Metformin-Teva FC tabs 1000 mg',\n",
       " 'Ciprofloxacin-Teva FC tabs 500 mg',\n",
       " 'Perindopril-Teva FC tabs 5 mg',\n",
       " 'Oxaliplatin-Teva  5 mg/ml 40 ml',\n",
       " 'Sumamed pwd 100 mg/5 ml 20.925 g',\n",
       " 'Tizanidine-Teva tabs 2 mg',\n",
       " 'Topsaver FC tabs 50 mg',\n",
       " 'Fosicard N tabs 20/12.5 mg',\n",
       " 'Cabazitaxel concentrate for sol for inf 10 mg/ml 6 ml',\n",
       " 'IMATINIB-TEVA caps. 100 mg N. 120',\n",
       " 'Vincristine-Teva lyoph for inf 1 mg/ml 1 ml',\n",
       " 'Almagel Neo susp 170 ml',\n",
       " 'Equoral caps 100 mg',\n",
       " 'Indovasin gel 45 g',\n",
       " 'Ofloxacin-Teva FC tabs 200 mg',\n",
       " 'VINORELBINE-TEVA concentrate 10 mg.ml 1 ml',\n",
       " 'Tevagrastime solution for inj 30 MIU',\n",
       " 'Fosicard tabs 20 mg',\n",
       " 'Vincristine-Teva lyoph for inf 1 mg/ml 2 ml',\n",
       " 'Atorvastatin-Teva FC tabs 40 mg',\n",
       " 'Carvedilol-Teva tabs 12.5 mg',\n",
       " 'Risset FC tabs 2 mg',\n",
       " 'Almagel A susp 170 ml',\n",
       " 'Almont chew tabs 4 mg',\n",
       " 'Topsaver FC tabs 100 mg',\n",
       " 'Etoposide-Teva concentrate for sol for inf 20 mg/ml 10 ml',\n",
       " 'Zoledronate-Teva concentrate for inf 4 mg/5ml 5 ml',\n",
       " 'DuoResp Spiromax pwd for inh 160/4.5 mcg 120 doses',\n",
       " 'Hepabene caps',\n",
       " 'Carvedilol-Teva tabs 6.25 mg',\n",
       " 'Fluconazole-Teva caps 50 mg',\n",
       " 'Beclazone Eco Easy Breathe aerosol for inh 100 mcg 200 doses',\n",
       " 'Trimetazidine MV-Teva ER FC tabs 35 mg',\n",
       " 'Dezrinit nasal spray 50 mcg/dose 18 g',\n",
       " 'Zincteral-Teva FC tabs 124 mg',\n",
       " 'Tenzotran FC tabs 0.4 mg',\n",
       " 'Sumamed forte pwd 200 mg/5 ml 16.74 g',\n",
       " 'Irinotecan solution for inf. 20 mg/ml 5ml',\n",
       " 'Diuver tabs 10 mg',\n",
       " 'Indapamide/Perindopril-Teva FC tabs 0.625 mg+2.5 mg',\n",
       " 'Tizanidine-Teva tabs 4 mg',\n",
       " 'Etoricoxib FC tabs 120 mg',\n",
       " 'TroxActive',\n",
       " 'Almagel A sachet 10 ml',\n",
       " 'Desal oral solution 0.5 mg/ml 100 ml',\n",
       " 'Topsaver FC tabs 25 mg',\n",
       " 'Rhinonorm-Teva nasal spray for children 0.05% 20 ml',\n",
       " 'Almagel sachet 10 ml',\n",
       " 'Rosuvastatin-Teva FC tabs 5 mg',\n",
       " 'Lopirel FC tabs 75 mg',\n",
       " 'Cetirizine-Teva FC tabs 10 mg',\n",
       " 'Troxevasin gel 2% 40 g',\n",
       " 'Finasteride-Teva FC tabs 5 mg',\n",
       " 'Finlepsin tabs 200 mg',\n",
       " 'Levodopa/Benserazide-Teva tabs 200/50 mg',\n",
       " 'Lonquex sol for subc inj 6mg/0.6 ml',\n",
       " 'Sumamed FC tabs 500 mg',\n",
       " 'Fosicard tabs 10 mg',\n",
       " 'Troxevasin gel 2% 100 g',\n",
       " 'Levodopa/Benserazide-Teva tabs 100/25 mg',\n",
       " 'Felodip ER FC tabs 5 mg',\n",
       " 'Risset FC tabs 4 mg',\n",
       " 'Tevagrastime solution for inj 48 MIU',\n",
       " 'Velafax tabs 37.5 mg',\n",
       " 'Dynamico Long FC tabs 5 mg',\n",
       " 'Spasmalgon tabs',\n",
       " 'Beclazone Eco aerosol for inh 50 mcg 200 doses',\n",
       " 'Beclazone Eco aerosol for inh 250 mcg 200 doses',\n",
       " 'Clobir caps 400 mg',\n",
       " 'Nimesulide-Teva tabs 100 mg',\n",
       " 'Ordiss tabs 16 mg',\n",
       " 'Pramipexole-Teva tabs 1 mg',\n",
       " 'Valgancyclovir-Teva FC tabs 450 mg',\n",
       " 'Gastal Liquo sachet 5 ml/mono-stick',\n",
       " 'Ordiss tabs 8 mg',\n",
       " 'Noojeron FC tabs 10 mg',\n",
       " 'Clofarabine concentrate for sol for inf 1mg/ml 20 ml',\n",
       " 'Lisinopril-Teva tabs 20 mg',\n",
       " 'Nasobec nasal spray 50 mcg/dose 200 doses',\n",
       " 'Ordiss tabs 32 mg',\n",
       " 'Colistin 1MIU vial 28 RU NAT',\n",
       " 'Velafax tabs 75 mg',\n",
       " 'Almont chew tabs 5 mg',\n",
       " 'Plizil N FC tabs 20 mg',\n",
       " 'Sindaxel solution for inf 6 mg/ml 43.33 ml',\n",
       " 'Clopidogrel-Teva FC tabs 75 mg',\n",
       " 'Bisoprolol-Teva FC tabs 10 mg',\n",
       " 'Fluconazole-Teva caps 150 mg',\n",
       " 'Dynamico Long FC tabs 20 mg',\n",
       " 'Valz N FC tabs 160 mg/12.5mg',\n",
       " 'Oxaliplatin-Teva 5 mg/ml 10 ml',\n",
       " 'Indapamide retard-Teva ER FC tabs 1.5 mg',\n",
       " 'Meloxicam-Teva tabs 15 mg',\n",
       " 'Convulsofin-retard ER FC tabs 500 mg',\n",
       " 'Cerucal solution for inj 5 mg/ml 2 ml',\n",
       " 'Troxevasin caps 300 mg',\n",
       " 'Sedalgin Plus tabs',\n",
       " 'Metoprolol-Teva tabs 100 mg',\n",
       " 'Levodopa/Carbidopa/Entacapone tabs 37.5+200+150 mg',\n",
       " 'Isoprinosine tabs 500 mg',\n",
       " 'Topotecan-Actavis lyoph for inf 500 mcg/ml 8 ml',\n",
       " 'Omeprazole-Teva DR caps 40 mg',\n",
       " 'Levocetirizine-Teva FC tabs 5 mg',\n",
       " 'Nebivolol 5 mg',\n",
       " 'Pramipexole-Teva tabs 0.25 mg',\n",
       " 'Budenit Steri-Neb Inh susp 0.5 mg/ml 2 ml',\n",
       " 'Fosicard tabs 5 mg',\n",
       " 'Valz FC tabs 160 mg',\n",
       " 'Rhinonorm Comfort nasal spray for children 50 mg/0.5mg',\n",
       " 'Metformin-Teva FC tabs 500 mg',\n",
       " 'Cyproterone-Teva tabs 50 mg',\n",
       " 'Terbinafine-Teva tabs 250 mg',\n",
       " 'Etoricoxib FC tabs 60 mg',\n",
       " 'Indapamide-Teva FC tabs 2.5 mg',\n",
       " 'Eplenor-Teva tabs 25 mg',\n",
       " 'Losartan-Teva FC tabs 50 mg',\n",
       " 'Mycophenolate-Teva caps 250 mg',\n",
       " 'Triampur compositium tabs 12.5 mg+25 mg 50',\n",
       " 'Rhinonorm Comfort nasal spray for adults 50 mg/1mg',\n",
       " 'Trimetazidine-Teva FC tabs 20 mg',\n",
       " 'Ambrobene Stoptussin drops 4 mg+100 mg/ml 10 ml',\n",
       " 'Leukovorin-Teva solution for inj 10 mg/ml 5 ml',\n",
       " 'Bicalutamide-Teva FC tabs 50 mg']"
      ]
     },
     "execution_count": 8,
     "metadata": {},
     "output_type": "execute_result"
    }
   ],
   "source": [
    "unique_pill_names"
   ]
  },
  {
   "cell_type": "markdown",
   "metadata": {},
   "source": [
    "### Get OpenAI Embeddings"
   ]
  },
  {
   "cell_type": "code",
   "execution_count": 9,
   "metadata": {},
   "outputs": [],
   "source": [
    "import openai\n",
    "\n",
    "with open('/Users/ariellubonja/prog/openai-api-key.txt', 'r') as file:\n",
    "    # Read the entire file into a single string\n",
    "    openai_key = file.read()\n",
    "\n",
    "openai.api_key = openai_key"
   ]
  },
  {
   "cell_type": "code",
   "execution_count": 10,
   "metadata": {},
   "outputs": [],
   "source": [
    "def get_embedding(text, model=\"text-embedding-ada-002\"):\n",
    "   text = text.replace(\"\\n\", \" \")\n",
    "   return openai.Embedding.create(input = [text], model=model)['data'][0]['embedding']"
   ]
  },
  {
   "cell_type": "code",
   "execution_count": 11,
   "metadata": {},
   "outputs": [
    {
     "data": {
      "text/html": [
       "<div>\n",
       "<style scoped>\n",
       "    .dataframe tbody tr th:only-of-type {\n",
       "        vertical-align: middle;\n",
       "    }\n",
       "\n",
       "    .dataframe tbody tr th {\n",
       "        vertical-align: top;\n",
       "    }\n",
       "\n",
       "    .dataframe thead th {\n",
       "        text-align: right;\n",
       "    }\n",
       "</style>\n",
       "<table border=\"1\" class=\"dataframe\">\n",
       "  <thead>\n",
       "    <tr style=\"text-align: right;\">\n",
       "      <th></th>\n",
       "      <th>1</th>\n",
       "      <th>2</th>\n",
       "      <th>3</th>\n",
       "      <th>4</th>\n",
       "      <th>5</th>\n",
       "      <th>6</th>\n",
       "      <th>7</th>\n",
       "      <th>8</th>\n",
       "      <th>9</th>\n",
       "      <th>10</th>\n",
       "      <th>...</th>\n",
       "      <th>1527</th>\n",
       "      <th>1528</th>\n",
       "      <th>1529</th>\n",
       "      <th>1530</th>\n",
       "      <th>1531</th>\n",
       "      <th>1532</th>\n",
       "      <th>1533</th>\n",
       "      <th>1534</th>\n",
       "      <th>1535</th>\n",
       "      <th>1536</th>\n",
       "    </tr>\n",
       "    <tr>\n",
       "      <th>0</th>\n",
       "      <th></th>\n",
       "      <th></th>\n",
       "      <th></th>\n",
       "      <th></th>\n",
       "      <th></th>\n",
       "      <th></th>\n",
       "      <th></th>\n",
       "      <th></th>\n",
       "      <th></th>\n",
       "      <th></th>\n",
       "      <th></th>\n",
       "      <th></th>\n",
       "      <th></th>\n",
       "      <th></th>\n",
       "      <th></th>\n",
       "      <th></th>\n",
       "      <th></th>\n",
       "      <th></th>\n",
       "      <th></th>\n",
       "      <th></th>\n",
       "      <th></th>\n",
       "    </tr>\n",
       "  </thead>\n",
       "  <tbody>\n",
       "    <tr>\n",
       "      <th>Equoral solution 100 mg/ml 50 ml</th>\n",
       "      <td>-0.000495</td>\n",
       "      <td>-0.008781</td>\n",
       "      <td>-0.020337</td>\n",
       "      <td>-0.015791</td>\n",
       "      <td>-0.008583</td>\n",
       "      <td>-0.001838</td>\n",
       "      <td>-0.013770</td>\n",
       "      <td>-0.019346</td>\n",
       "      <td>-0.015712</td>\n",
       "      <td>-0.005064</td>\n",
       "      <td>...</td>\n",
       "      <td>-0.016161</td>\n",
       "      <td>-0.001610</td>\n",
       "      <td>0.060893</td>\n",
       "      <td>-0.010387</td>\n",
       "      <td>-0.010902</td>\n",
       "      <td>-0.024037</td>\n",
       "      <td>-0.019650</td>\n",
       "      <td>-0.020932</td>\n",
       "      <td>-0.007261</td>\n",
       "      <td>-0.017338</td>\n",
       "    </tr>\n",
       "    <tr>\n",
       "      <th>Corinfar retard ER FC tabs 20 mg</th>\n",
       "      <td>0.009683</td>\n",
       "      <td>-0.000972</td>\n",
       "      <td>0.013415</td>\n",
       "      <td>-0.019861</td>\n",
       "      <td>-0.002309</td>\n",
       "      <td>-0.000472</td>\n",
       "      <td>-0.038923</td>\n",
       "      <td>-0.023621</td>\n",
       "      <td>-0.003052</td>\n",
       "      <td>-0.010006</td>\n",
       "      <td>...</td>\n",
       "      <td>0.011769</td>\n",
       "      <td>-0.007672</td>\n",
       "      <td>0.053826</td>\n",
       "      <td>-0.027464</td>\n",
       "      <td>-0.001061</td>\n",
       "      <td>-0.000743</td>\n",
       "      <td>-0.019709</td>\n",
       "      <td>0.002508</td>\n",
       "      <td>-0.015068</td>\n",
       "      <td>-0.024420</td>\n",
       "    </tr>\n",
       "    <tr>\n",
       "      <th>Finlepsin tabs 200 mg</th>\n",
       "      <td>0.020015</td>\n",
       "      <td>0.000540</td>\n",
       "      <td>0.000571</td>\n",
       "      <td>-0.021259</td>\n",
       "      <td>-0.034976</td>\n",
       "      <td>0.018434</td>\n",
       "      <td>-0.036192</td>\n",
       "      <td>-0.007156</td>\n",
       "      <td>-0.001477</td>\n",
       "      <td>0.005254</td>\n",
       "      <td>...</td>\n",
       "      <td>0.001450</td>\n",
       "      <td>-0.012069</td>\n",
       "      <td>0.046869</td>\n",
       "      <td>-0.020704</td>\n",
       "      <td>0.019488</td>\n",
       "      <td>-0.005673</td>\n",
       "      <td>0.006139</td>\n",
       "      <td>-0.025043</td>\n",
       "      <td>-0.001125</td>\n",
       "      <td>-0.031624</td>\n",
       "    </tr>\n",
       "    <tr>\n",
       "      <th>Levodopa/Benserazide-Teva tabs 100/25 mg</th>\n",
       "      <td>0.016761</td>\n",
       "      <td>-0.005747</td>\n",
       "      <td>0.027491</td>\n",
       "      <td>-0.009636</td>\n",
       "      <td>-0.025135</td>\n",
       "      <td>0.033988</td>\n",
       "      <td>-0.028422</td>\n",
       "      <td>-0.024889</td>\n",
       "      <td>-0.012451</td>\n",
       "      <td>0.001261</td>\n",
       "      <td>...</td>\n",
       "      <td>-0.001061</td>\n",
       "      <td>-0.012697</td>\n",
       "      <td>0.045740</td>\n",
       "      <td>-0.017033</td>\n",
       "      <td>0.002226</td>\n",
       "      <td>0.004925</td>\n",
       "      <td>-0.016515</td>\n",
       "      <td>-0.018961</td>\n",
       "      <td>-0.010192</td>\n",
       "      <td>-0.031399</td>\n",
       "    </tr>\n",
       "    <tr>\n",
       "      <th>Almagel A susp 170 ml</th>\n",
       "      <td>0.013071</td>\n",
       "      <td>0.018278</td>\n",
       "      <td>0.006499</td>\n",
       "      <td>-0.026326</td>\n",
       "      <td>-0.017739</td>\n",
       "      <td>0.030928</td>\n",
       "      <td>-0.013308</td>\n",
       "      <td>-0.003590</td>\n",
       "      <td>0.001770</td>\n",
       "      <td>-0.024367</td>\n",
       "      <td>...</td>\n",
       "      <td>0.000654</td>\n",
       "      <td>0.001797</td>\n",
       "      <td>0.065539</td>\n",
       "      <td>-0.005727</td>\n",
       "      <td>0.015596</td>\n",
       "      <td>0.000688</td>\n",
       "      <td>-0.033558</td>\n",
       "      <td>-0.024156</td>\n",
       "      <td>-0.013419</td>\n",
       "      <td>0.001303</td>\n",
       "    </tr>\n",
       "  </tbody>\n",
       "</table>\n",
       "<p>5 rows × 1536 columns</p>\n",
       "</div>"
      ],
      "text/plain": [
       "                                              1         2         3     \\\n",
       "0                                                                        \n",
       "Equoral solution 100 mg/ml 50 ml         -0.000495 -0.008781 -0.020337   \n",
       "Corinfar retard ER FC tabs 20 mg          0.009683 -0.000972  0.013415   \n",
       "Finlepsin tabs 200 mg                     0.020015  0.000540  0.000571   \n",
       "Levodopa/Benserazide-Teva tabs 100/25 mg  0.016761 -0.005747  0.027491   \n",
       "Almagel A susp 170 ml                     0.013071  0.018278  0.006499   \n",
       "\n",
       "                                              4         5         6     \\\n",
       "0                                                                        \n",
       "Equoral solution 100 mg/ml 50 ml         -0.015791 -0.008583 -0.001838   \n",
       "Corinfar retard ER FC tabs 20 mg         -0.019861 -0.002309 -0.000472   \n",
       "Finlepsin tabs 200 mg                    -0.021259 -0.034976  0.018434   \n",
       "Levodopa/Benserazide-Teva tabs 100/25 mg -0.009636 -0.025135  0.033988   \n",
       "Almagel A susp 170 ml                    -0.026326 -0.017739  0.030928   \n",
       "\n",
       "                                              7         8         9     \\\n",
       "0                                                                        \n",
       "Equoral solution 100 mg/ml 50 ml         -0.013770 -0.019346 -0.015712   \n",
       "Corinfar retard ER FC tabs 20 mg         -0.038923 -0.023621 -0.003052   \n",
       "Finlepsin tabs 200 mg                    -0.036192 -0.007156 -0.001477   \n",
       "Levodopa/Benserazide-Teva tabs 100/25 mg -0.028422 -0.024889 -0.012451   \n",
       "Almagel A susp 170 ml                    -0.013308 -0.003590  0.001770   \n",
       "\n",
       "                                              10    ...      1527      1528  \\\n",
       "0                                                   ...                       \n",
       "Equoral solution 100 mg/ml 50 ml         -0.005064  ... -0.016161 -0.001610   \n",
       "Corinfar retard ER FC tabs 20 mg         -0.010006  ...  0.011769 -0.007672   \n",
       "Finlepsin tabs 200 mg                     0.005254  ...  0.001450 -0.012069   \n",
       "Levodopa/Benserazide-Teva tabs 100/25 mg  0.001261  ... -0.001061 -0.012697   \n",
       "Almagel A susp 170 ml                    -0.024367  ...  0.000654  0.001797   \n",
       "\n",
       "                                              1529      1530      1531  \\\n",
       "0                                                                        \n",
       "Equoral solution 100 mg/ml 50 ml          0.060893 -0.010387 -0.010902   \n",
       "Corinfar retard ER FC tabs 20 mg          0.053826 -0.027464 -0.001061   \n",
       "Finlepsin tabs 200 mg                     0.046869 -0.020704  0.019488   \n",
       "Levodopa/Benserazide-Teva tabs 100/25 mg  0.045740 -0.017033  0.002226   \n",
       "Almagel A susp 170 ml                     0.065539 -0.005727  0.015596   \n",
       "\n",
       "                                              1532      1533      1534  \\\n",
       "0                                                                        \n",
       "Equoral solution 100 mg/ml 50 ml         -0.024037 -0.019650 -0.020932   \n",
       "Corinfar retard ER FC tabs 20 mg         -0.000743 -0.019709  0.002508   \n",
       "Finlepsin tabs 200 mg                    -0.005673  0.006139 -0.025043   \n",
       "Levodopa/Benserazide-Teva tabs 100/25 mg  0.004925 -0.016515 -0.018961   \n",
       "Almagel A susp 170 ml                     0.000688 -0.033558 -0.024156   \n",
       "\n",
       "                                              1535      1536  \n",
       "0                                                             \n",
       "Equoral solution 100 mg/ml 50 ml         -0.007261 -0.017338  \n",
       "Corinfar retard ER FC tabs 20 mg         -0.015068 -0.024420  \n",
       "Finlepsin tabs 200 mg                    -0.001125 -0.031624  \n",
       "Levodopa/Benserazide-Teva tabs 100/25 mg -0.010192 -0.031399  \n",
       "Almagel A susp 170 ml                    -0.013419  0.001303  \n",
       "\n",
       "[5 rows x 1536 columns]"
      ]
     },
     "execution_count": 11,
     "metadata": {},
     "output_type": "execute_result"
    }
   ],
   "source": [
    "# embeddings = [get_embedding(pill_name) for pill_name in unique_pill_names]\n",
    "df = pd.read_csv('outputs/pill_name_embeddings.csv', index_col=0, header=None)\n",
    "df.head()"
   ]
  },
  {
   "cell_type": "code",
   "execution_count": 12,
   "metadata": {},
   "outputs": [],
   "source": [
    "# df.to_csv('outputs/pill_name_embeddings.csv')\n",
    "# df.to_csv('outputs/pill_name_embeddings.tsv', sep='\\t', index=False, header=False)\n",
    "# pd.DataFrame(unique_pill_names).to_csv('outputs/pill_names.tsv', index=False, header=False, sep='\\t')"
   ]
  },
  {
   "cell_type": "markdown",
   "metadata": {},
   "source": [
    "#### Cluster embeddings to see if similar drugs"
   ]
  },
  {
   "cell_type": "code",
   "execution_count": 13,
   "metadata": {},
   "outputs": [
    {
     "data": {
      "text/plain": [
       "['Kalymin',\n",
       " 'DuoResp',\n",
       " 'Gastal',\n",
       " 'Lestrodex',\n",
       " 'Anastrozole',\n",
       " 'Valz',\n",
       " 'Valz',\n",
       " 'Eplenor',\n",
       " 'Dolobene',\n",
       " 'Corinfar',\n",
       " 'Finlepsin',\n",
       " 'Sumamed',\n",
       " 'Adrianol',\n",
       " 'Diclofenac',\n",
       " 'Beclazone',\n",
       " 'Vestibo',\n",
       " 'Meloxicam',\n",
       " 'Amlodipine',\n",
       " 'Atorvastatin',\n",
       " 'Etoricoxib',\n",
       " 'Cordinorm',\n",
       " 'Methotrexate',\n",
       " 'Agalates',\n",
       " 'Fludarabine',\n",
       " 'Atorvastatin',\n",
       " 'Perindopril',\n",
       " 'Levofloxacin',\n",
       " 'Rhinonorm',\n",
       " 'Valz',\n",
       " 'Equoral',\n",
       " 'Convulsofin',\n",
       " 'Copaxone',\n",
       " 'Dolobene',\n",
       " 'Cinqeiro',\n",
       " 'Equoral',\n",
       " 'CLOPIDOGREL',\n",
       " 'Sumatriptan',\n",
       " 'Ambrobene',\n",
       " 'Valz',\n",
       " 'Dutasteride',\n",
       " 'Phezam',\n",
       " 'Metoprolol',\n",
       " 'Cerucal',\n",
       " 'Copaxone',\n",
       " 'Irinotecan',\n",
       " 'Lisinopril',\n",
       " 'Almagel',\n",
       " 'Levodopa/Carbidopa/Entacapone',\n",
       " 'Metformin',\n",
       " 'Oxaliplatin',\n",
       " 'Omeprazole',\n",
       " 'Gemcitabin',\n",
       " 'VINORELBIN',\n",
       " 'Rosuvastatin',\n",
       " 'Valz',\n",
       " 'Cisplatin',\n",
       " 'Stoptussin',\n",
       " 'Omeprazole',\n",
       " 'Topotecan',\n",
       " 'Lisinoton',\n",
       " 'Sumamed',\n",
       " 'Ambrobene',\n",
       " 'Dynamico',\n",
       " 'Cuprenil',\n",
       " 'Indapamide/Perindopril',\n",
       " 'Salbutamol',\n",
       " 'Diosmin/Hesperidine',\n",
       " 'Dynamico',\n",
       " 'Ambrobene',\n",
       " 'Almont',\n",
       " 'Tevanate',\n",
       " 'Bicalutamide',\n",
       " 'Tenzotran',\n",
       " 'EsCordi',\n",
       " 'Ambrobene',\n",
       " 'Valvir',\n",
       " 'Ambrobene',\n",
       " 'Ordiss',\n",
       " 'Panthenol',\n",
       " 'Bisoprolol',\n",
       " 'Drotaverine',\n",
       " 'Loratadine',\n",
       " 'Valvir',\n",
       " 'Velbine',\n",
       " 'Clotrimazole',\n",
       " 'Sedalgin',\n",
       " 'Lisinoton',\n",
       " 'Haloperidol',\n",
       " 'Diuver',\n",
       " 'Ambrobene',\n",
       " 'Paclitaxel',\n",
       " 'Stopangin',\n",
       " 'Domperidone',\n",
       " 'Carvedilol',\n",
       " 'Velbine',\n",
       " 'Sumamed',\n",
       " 'Doxazosin',\n",
       " 'Corinfar',\n",
       " 'Diclofenac',\n",
       " 'Sumatriptan',\n",
       " 'Fulvestrant',\n",
       " 'Azilect',\n",
       " 'Icatibant',\n",
       " 'Clarithromycin',\n",
       " 'Almagel',\n",
       " 'Felodip',\n",
       " 'Ondansetron',\n",
       " 'TEVANATE',\n",
       " 'Ambrobene',\n",
       " 'Lisinoton',\n",
       " 'Rosuvastatin',\n",
       " 'Vestibo',\n",
       " 'Etoposide',\n",
       " 'Nazarel',\n",
       " 'Gastal',\n",
       " 'Lisinopril',\n",
       " 'Budenit',\n",
       " 'Dynamico',\n",
       " 'Ambrobene',\n",
       " 'Amlodipine',\n",
       " 'Felodip',\n",
       " 'Finlepsin',\n",
       " 'Nitrofungin',\n",
       " 'Cisplatin',\n",
       " 'Equoral',\n",
       " 'Metformin',\n",
       " 'Ciprofloxacin',\n",
       " 'Perindopril',\n",
       " 'Oxaliplatin',\n",
       " 'Sumamed',\n",
       " 'Tizanidine',\n",
       " 'Topsaver',\n",
       " 'Fosicard',\n",
       " 'Cabazitaxel',\n",
       " 'IMATINIB',\n",
       " 'Vincristine',\n",
       " 'Almagel',\n",
       " 'Equoral',\n",
       " 'Indovasin',\n",
       " 'Ofloxacin',\n",
       " 'VINORELBINE',\n",
       " 'Tevagrastime',\n",
       " 'Fosicard',\n",
       " 'Vincristine',\n",
       " 'Atorvastatin',\n",
       " 'Carvedilol',\n",
       " 'Risset',\n",
       " 'Almagel',\n",
       " 'Almont',\n",
       " 'Topsaver',\n",
       " 'Etoposide',\n",
       " 'Zoledronate',\n",
       " 'DuoResp',\n",
       " 'Hepabene',\n",
       " 'Carvedilol',\n",
       " 'Fluconazole',\n",
       " 'Beclazone',\n",
       " 'Trimetazidine',\n",
       " 'Dezrinit',\n",
       " 'Zincteral',\n",
       " 'Tenzotran',\n",
       " 'Sumamed',\n",
       " 'Irinotecan',\n",
       " 'Diuver',\n",
       " 'Indapamide/Perindopril',\n",
       " 'Tizanidine',\n",
       " 'Etoricoxib',\n",
       " 'TroxActive',\n",
       " 'Almagel',\n",
       " 'Desal',\n",
       " 'Topsaver',\n",
       " 'Rhinonorm',\n",
       " 'Almagel',\n",
       " 'Rosuvastatin',\n",
       " 'Lopirel',\n",
       " 'Cetirizine',\n",
       " 'Troxevasin',\n",
       " 'Finasteride',\n",
       " 'Finlepsin',\n",
       " 'Levodopa/Benserazide',\n",
       " 'Lonquex',\n",
       " 'Sumamed',\n",
       " 'Fosicard',\n",
       " 'Troxevasin',\n",
       " 'Levodopa/Benserazide',\n",
       " 'Felodip',\n",
       " 'Risset',\n",
       " 'Tevagrastime',\n",
       " 'Velafax',\n",
       " 'Dynamico',\n",
       " 'Spasmalgon',\n",
       " 'Beclazone',\n",
       " 'Beclazone',\n",
       " 'Clobir',\n",
       " 'Nimesulide',\n",
       " 'Ordiss',\n",
       " 'Pramipexole',\n",
       " 'Valgancyclovir',\n",
       " 'Gastal',\n",
       " 'Ordiss',\n",
       " 'Noojeron',\n",
       " 'Clofarabine',\n",
       " 'Lisinopril',\n",
       " 'Nasobec',\n",
       " 'Ordiss',\n",
       " 'Colistin',\n",
       " 'Velafax',\n",
       " 'Almont',\n",
       " 'Plizil',\n",
       " 'Sindaxel',\n",
       " 'Clopidogrel',\n",
       " 'Bisoprolol',\n",
       " 'Fluconazole',\n",
       " 'Dynamico',\n",
       " 'Valz',\n",
       " 'Oxaliplatin',\n",
       " 'Indapamide',\n",
       " 'Meloxicam',\n",
       " 'Convulsofin',\n",
       " 'Cerucal',\n",
       " 'Troxevasin',\n",
       " 'Sedalgin',\n",
       " 'Metoprolol',\n",
       " 'Levodopa/Carbidopa/Entacapone',\n",
       " 'Isoprinosine',\n",
       " 'Topotecan',\n",
       " 'Omeprazole',\n",
       " 'Levocetirizine',\n",
       " 'Nebivolol',\n",
       " 'Pramipexole',\n",
       " 'Budenit',\n",
       " 'Fosicard',\n",
       " 'Valz',\n",
       " 'Rhinonorm',\n",
       " 'Metformin',\n",
       " 'Cyproterone',\n",
       " 'Terbinafine',\n",
       " 'Etoricoxib',\n",
       " 'Indapamide',\n",
       " 'Eplenor',\n",
       " 'Losartan',\n",
       " 'Mycophenolate',\n",
       " 'Triampur',\n",
       " 'Rhinonorm',\n",
       " 'Trimetazidine',\n",
       " 'Ambrobene',\n",
       " 'Leukovorin',\n",
       " 'Bicalutamide']"
      ]
     },
     "execution_count": 13,
     "metadata": {},
     "output_type": "execute_result"
    }
   ],
   "source": [
    "drug_families = [u.split(' ')[0] for u in unique_pill_names] # Get only first part of name\n",
    "\n",
    "drug_families = [d.split('-')[0] for d in drug_families]# Remove \"-Teva\"\n",
    "\n",
    "drug_families#[:5]"
   ]
  },
  {
   "cell_type": "code",
   "execution_count": 14,
   "metadata": {},
   "outputs": [
    {
     "data": {
      "text/plain": [
       "248"
      ]
     },
     "execution_count": 14,
     "metadata": {},
     "output_type": "execute_result"
    }
   ],
   "source": [
    "len(drug_families)"
   ]
  },
  {
   "cell_type": "code",
   "execution_count": 15,
   "metadata": {},
   "outputs": [
    {
     "data": {
      "text/plain": [
       "137"
      ]
     },
     "execution_count": 15,
     "metadata": {},
     "output_type": "execute_result"
    }
   ],
   "source": [
    "len(set(drug_families))"
   ]
  },
  {
   "cell_type": "code",
   "execution_count": 16,
   "metadata": {},
   "outputs": [],
   "source": [
    "df['class'] = drug_families"
   ]
  },
  {
   "cell_type": "markdown",
   "metadata": {},
   "source": [
    "### Visualizing Embeddings & Classes\n",
    "\n",
    "https://projector.tensorflow.org"
   ]
  },
  {
   "cell_type": "code",
   "execution_count": 21,
   "metadata": {},
   "outputs": [
    {
     "data": {
      "image/png": "[encoded data removed]",
      "text/plain": [
       "<Figure size 1000x700 with 1 Axes>"
      ]
     },
     "metadata": {},
     "output_type": "display_data"
    }
   ],
   "source": [
    "import pandas as pd\n",
    "import numpy as np\n",
    "from sklearn.decomposition import PCA\n",
    "import matplotlib.pyplot as plt\n",
    "\n",
    "# Step 1: Extract embeddings and perform PCA\n",
    "embeddings = df.drop('class', axis=1).values\n",
    "pca = PCA(n_components=3)\n",
    "embeddings_pca = pca.fit_transform(embeddings)\n",
    "\n",
    "# Step 2: Attach PCA results to the DataFrame\n",
    "df[['x', 'y', 'z']] = pd.DataFrame(embeddings_pca, index=df.index)\n",
    "\n",
    "# Step 3: Plot 3D graph\n",
    "fig = plt.figure(figsize=(10, 7))\n",
    "ax = fig.add_subplot(111, projection='3d')\n",
    "\n",
    "# Create a color map based on unique classes\n",
    "colors = plt.cm.jet(np.linspace(0, 1, len(df['class'].unique())))\n",
    "\n",
    "for i, cl in enumerate(df['class'].unique()):\n",
    "    subset = df[df['class'] == cl]\n",
    "    ax.scatter(subset['x'], subset['y'], subset['z'], label=cl, c=[colors[i]]*len(subset), s=50)\n",
    "\n",
    "ax.set_xlabel('PC1')\n",
    "ax.set_ylabel('PC2')\n",
    "ax.set_zlabel('PC3')\n",
    "# ax.legend(loc='upper left', bbox_to_anchor=(1, 1))\n",
    "plt.title(\"3D scatter plot of medicines\")\n",
    "plt.show()"
   ]
  },
  {
   "cell_type": "code",
   "execution_count": 20,
   "metadata": {},
   "outputs": [
    {
     "data": {
      "application/vnd.plotly.v1+json": {
       "config": {
        "plotlyServerURL": "https://plot.ly"
       },
       "data": [
        {
         "hovertemplate": "class=Kalymin<br>PC1=%{x}<br>PC2=%{y}<br>PC3=%{z}<extra></extra>",
         "legendgroup": "Kalymin",
         "marker": {
          "color": "#636efa",
          "symbol": "circle"
         },
         "mode": "markers",
         "name": "Kalymin",
         "scene": "scene",
         "showlegend": true,
         "type": "scatter3d",
         "x": [
          0.3442011553558999
         ],
         "y": [
          -0.04494451833919242
         ],
         "z": [
          -0.033887018097619195
         ]
        },
        {
         "hovertemplate": "class=DuoResp<br>PC1=%{x}<br>PC2=%{y}<br>PC3=%{z}<extra></extra>",
         "legendgroup": "DuoResp",
         "marker": {
          "color": "#EF553B",
          "symbol": "circle"
         },
         "mode": "markers",
         "name": "DuoResp",
         "scene": "scene",
         "showlegend": true,
         "type": "scatter3d",
         "x": [
          -0.14105852252086243,
          -0.12995951339367962
         ],
         "y": [
          -0.09979334507365745,
          -0.10606102940956211
         ],
         "z": [
          -0.19155165083746176,
          -0.06045814935126642
         ]
        },
        {
         "hovertemplate": "class=Gastal<br>PC1=%{x}<br>PC2=%{y}<br>PC3=%{z}<extra></extra>",
         "legendgroup": "Gastal",
         "marker": {
          "color": "#00cc96",
          "symbol": "circle"
         },
         "mode": "markers",
         "name": "Gastal",
         "scene": "scene",
         "showlegend": true,
         "type": "scatter3d",
         "x": [
          -0.13116487972439608,
          -0.20870206977517705,
          -0.10088141967324922
         ],
         "y": [
          -0.09434434053446396,
          0.1380744560034457,
          -0.07323920920441646
         ],
         "z": [
          -0.045889932389114436,
          -0.03541164544591944,
          -0.05974955232284154
         ]
        },
        {
         "hovertemplate": "class=Lestrodex<br>PC1=%{x}<br>PC2=%{y}<br>PC3=%{z}<extra></extra>",
         "legendgroup": "Lestrodex",
         "marker": {
          "color": "#ab63fa",
          "symbol": "circle"
         },
         "mode": "markers",
         "name": "Lestrodex",
         "scene": "scene",
         "showlegend": true,
         "type": "scatter3d",
         "x": [
          -0.1333546388649258
         ],
         "y": [
          0.07627998161582905
         ],
         "z": [
          0.1516116658175628
         ]
        },
        {
         "hovertemplate": "class=Anastrozole<br>PC1=%{x}<br>PC2=%{y}<br>PC3=%{z}<extra></extra>",
         "legendgroup": "Anastrozole",
         "marker": {
          "color": "#FFA15A",
          "symbol": "circle"
         },
         "mode": "markers",
         "name": "Anastrozole",
         "scene": "scene",
         "showlegend": true,
         "type": "scatter3d",
         "x": [
          0.23565386791411366
         ],
         "y": [
          -0.24229140049398745
         ],
         "z": [
          -0.10181899050359952
         ]
        },
        {
         "hovertemplate": "class=Valz<br>PC1=%{x}<br>PC2=%{y}<br>PC3=%{z}<extra></extra>",
         "legendgroup": "Valz",
         "marker": {
          "color": "#19d3f3",
          "symbol": "circle"
         },
         "mode": "markers",
         "name": "Valz",
         "scene": "scene",
         "showlegend": true,
         "type": "scatter3d",
         "x": [
          0.21003390291763516,
          0.25559251951077927,
          0.3693691589649074,
          0.32669608335764155,
          -0.18892389483312866,
          -0.15889013941425395,
          -0.237362608213317
         ],
         "y": [
          -0.13973507886821665,
          -0.18010071530856392,
          0.06265823007396168,
          -0.0526995490979158,
          0.012575824519487543,
          -0.06306511405400476,
          0.1455436503354757
         ],
         "z": [
          0.2451408513863931,
          0.1698176087254227,
          -0.12595023019403834,
          -0.010539543499746128,
          -0.07477423844151733,
          -0.2425480163229755,
          0.0013813735798457677
         ]
        },
        {
         "hovertemplate": "class=Eplenor<br>PC1=%{x}<br>PC2=%{y}<br>PC3=%{z}<extra></extra>",
         "legendgroup": "Eplenor",
         "marker": {
          "color": "#FF6692",
          "symbol": "circle"
         },
         "mode": "markers",
         "name": "Eplenor",
         "scene": "scene",
         "showlegend": true,
         "type": "scatter3d",
         "x": [
          -0.043572196554092425,
          -0.1708735188992454
         ],
         "y": [
          0.08743374594874989,
          0.15790029839537076
         ],
         "z": [
          0.18846654783056727,
          -0.009603296884290855
         ]
        },
        {
         "hovertemplate": "class=Dolobene<br>PC1=%{x}<br>PC2=%{y}<br>PC3=%{z}<extra></extra>",
         "legendgroup": "Dolobene",
         "marker": {
          "color": "#B6E880",
          "symbol": "circle"
         },
         "mode": "markers",
         "name": "Dolobene",
         "scene": "scene",
         "showlegend": true,
         "type": "scatter3d",
         "x": [
          0.28294681180702386,
          -0.12976725801427658
         ],
         "y": [
          -0.17336207810633722,
          0.109035279460167
         ],
         "z": [
          -0.1191032750642091,
          -0.02614481778509579
         ]
        },
        {
         "hovertemplate": "class=Corinfar<br>PC1=%{x}<br>PC2=%{y}<br>PC3=%{z}<extra></extra>",
         "legendgroup": "Corinfar",
         "marker": {
          "color": "#FF97FF",
          "symbol": "circle"
         },
         "mode": "markers",
         "name": "Corinfar",
         "scene": "scene",
         "showlegend": true,
         "type": "scatter3d",
         "x": [
          0.27089363114402454,
          -0.18617582182892578
         ],
         "y": [
          0.1851250042396256,
          0.10944333157292659
         ],
         "z": [
          -0.0266819545237899,
          0.11989141292164421
         ]
        },
        {
         "hovertemplate": "class=Finlepsin<br>PC1=%{x}<br>PC2=%{y}<br>PC3=%{z}<extra></extra>",
         "legendgroup": "Finlepsin",
         "marker": {
          "color": "#FECB52",
          "symbol": "circle"
         },
         "mode": "markers",
         "name": "Finlepsin",
         "scene": "scene",
         "showlegend": true,
         "type": "scatter3d",
         "x": [
          -0.17062549528569837,
          0.19883737434852947,
          -0.025991524557382684
         ],
         "y": [
          -0.06337118120217239,
          -0.05037101784046324,
          0.0909772899111751
         ],
         "z": [
          -0.13058737217214733,
          0.06678854374494327,
          0.18088466291716956
         ]
        },
        {
         "hovertemplate": "class=Sumamed<br>PC1=%{x}<br>PC2=%{y}<br>PC3=%{z}<extra></extra>",
         "legendgroup": "Sumamed",
         "marker": {
          "color": "#636efa",
          "symbol": "circle"
         },
         "mode": "markers",
         "name": "Sumamed",
         "scene": "scene",
         "showlegend": true,
         "type": "scatter3d",
         "x": [
          -0.20605326270188007,
          -0.1632833068317229,
          0.2748383855689057,
          0.35379655090359285,
          -0.21752566533229045,
          -0.17320617017081394
         ],
         "y": [
          0.13395408433956352,
          0.1668813727279733,
          0.16775516758289258,
          0.2335166840267433,
          -0.04935500105149104,
          0.051891832975290576
         ],
         "z": [
          -0.04307882790817098,
          0.08748659761851689,
          -0.006091412330736904,
          -0.17192196037664323,
          -0.18969924348310696,
          0.14431090448769893
         ]
        },
        {
         "hovertemplate": "class=Adrianol<br>PC1=%{x}<br>PC2=%{y}<br>PC3=%{z}<extra></extra>",
         "legendgroup": "Adrianol",
         "marker": {
          "color": "#EF553B",
          "symbol": "circle"
         },
         "mode": "markers",
         "name": "Adrianol",
         "scene": "scene",
         "showlegend": true,
         "type": "scatter3d",
         "x": [
          0.34206208660120985
         ],
         "y": [
          -0.04289927636418193
         ],
         "z": [
          -0.03837019147567788
         ]
        },
        {
         "hovertemplate": "class=Diclofenac<br>PC1=%{x}<br>PC2=%{y}<br>PC3=%{z}<extra></extra>",
         "legendgroup": "Diclofenac",
         "marker": {
          "color": "#00cc96",
          "symbol": "circle"
         },
         "mode": "markers",
         "name": "Diclofenac",
         "scene": "scene",
         "showlegend": true,
         "type": "scatter3d",
         "x": [
          0.3251580962862576,
          -0.15423246703201432
         ],
         "y": [
          0.20344652452904474,
          -0.05499810508797611
         ],
         "z": [
          -0.1319692862180348,
          -0.13425986880606428
         ]
        },
        {
         "hovertemplate": "class=Beclazone<br>PC1=%{x}<br>PC2=%{y}<br>PC3=%{z}<extra></extra>",
         "legendgroup": "Beclazone",
         "marker": {
          "color": "#ab63fa",
          "symbol": "circle"
         },
         "mode": "markers",
         "name": "Beclazone",
         "scene": "scene",
         "showlegend": true,
         "type": "scatter3d",
         "x": [
          -0.19275801357772598,
          -0.16371079206650718,
          0.0328957362688281,
          0.36091041202171714
         ],
         "y": [
          0.02018850624598673,
          0.06138616866710328,
          -0.09732412661900638,
          0.0014702536012200253
         ],
         "z": [
          -0.07742711774484047,
          0.01949266216948154,
          0.15073461727184945,
          -0.11135259232789238
         ]
        },
        {
         "hovertemplate": "class=Vestibo<br>PC1=%{x}<br>PC2=%{y}<br>PC3=%{z}<extra></extra>",
         "legendgroup": "Vestibo",
         "marker": {
          "color": "#FFA15A",
          "symbol": "circle"
         },
         "mode": "markers",
         "name": "Vestibo",
         "scene": "scene",
         "showlegend": true,
         "type": "scatter3d",
         "x": [
          0.04265909633727356,
          -0.20034064414665628
         ],
         "y": [
          -0.13520428785636374,
          0.133284735322499
         ],
         "z": [
          0.15702999893044317,
          0.14084294202254266
         ]
        },
        {
         "hovertemplate": "class=Meloxicam<br>PC1=%{x}<br>PC2=%{y}<br>PC3=%{z}<extra></extra>",
         "legendgroup": "Meloxicam",
         "marker": {
          "color": "#19d3f3",
          "symbol": "circle"
         },
         "mode": "markers",
         "name": "Meloxicam",
         "scene": "scene",
         "showlegend": true,
         "type": "scatter3d",
         "x": [
          -0.1793922293984471,
          0.34746953297313726
         ],
         "y": [
          -0.044067099503880325,
          0.22955723018774207
         ],
         "z": [
          -0.11778751515494089,
          -0.16922862630873417
         ]
        },
        {
         "hovertemplate": "class=Amlodipine<br>PC1=%{x}<br>PC2=%{y}<br>PC3=%{z}<extra></extra>",
         "legendgroup": "Amlodipine",
         "marker": {
          "color": "#FF6692",
          "symbol": "circle"
         },
         "mode": "markers",
         "name": "Amlodipine",
         "scene": "scene",
         "showlegend": true,
         "type": "scatter3d",
         "x": [
          -0.18308708930778878,
          0.1703707517629303
         ],
         "y": [
          -0.0731882001848212,
          -0.06540647706720612
         ],
         "z": [
          -0.1281331001127317,
          0.2705166106478563
         ]
        },
        {
         "hovertemplate": "class=Atorvastatin<br>PC1=%{x}<br>PC2=%{y}<br>PC3=%{z}<extra></extra>",
         "legendgroup": "Atorvastatin",
         "marker": {
          "color": "#B6E880",
          "symbol": "circle"
         },
         "mode": "markers",
         "name": "Atorvastatin",
         "scene": "scene",
         "showlegend": true,
         "type": "scatter3d",
         "x": [
          0.299163985150824,
          -0.11783587141503313,
          -0.020126872049722733
         ],
         "y": [
          0.025100559898973116,
          -0.2675819206591849,
          -0.26854301136699743
         ],
         "z": [
          -0.02914078699670525,
          0.009664845746455644,
          -0.05128918956374475
         ]
        },
        {
         "hovertemplate": "class=Etoricoxib<br>PC1=%{x}<br>PC2=%{y}<br>PC3=%{z}<extra></extra>",
         "legendgroup": "Etoricoxib",
         "marker": {
          "color": "#FF97FF",
          "symbol": "circle"
         },
         "mode": "markers",
         "name": "Etoricoxib",
         "scene": "scene",
         "showlegend": true,
         "type": "scatter3d",
         "x": [
          -0.1459678225869609,
          -0.13278193242610672,
          -0.11206997266837776
         ],
         "y": [
          0.08921882963306267,
          0.0614585981844406,
          -0.2244483519719938
         ],
         "z": [
          0.08294872833202867,
          0.16458682426497906,
          -0.008015353551180356
         ]
        },
        {
         "hovertemplate": "class=Cordinorm<br>PC1=%{x}<br>PC2=%{y}<br>PC3=%{z}<extra></extra>",
         "legendgroup": "Cordinorm",
         "marker": {
          "color": "#FECB52",
          "symbol": "circle"
         },
         "mode": "markers",
         "name": "Cordinorm",
         "scene": "scene",
         "showlegend": true,
         "type": "scatter3d",
         "x": [
          -0.15326188438032756
         ],
         "y": [
          -0.09160237768951966
         ],
         "z": [
          -0.051844700976430506
         ]
        },
        {
         "hovertemplate": "class=Methotrexate<br>PC1=%{x}<br>PC2=%{y}<br>PC3=%{z}<extra></extra>",
         "legendgroup": "Methotrexate",
         "marker": {
          "color": "#636efa",
          "symbol": "circle"
         },
         "mode": "markers",
         "name": "Methotrexate",
         "scene": "scene",
         "showlegend": true,
         "type": "scatter3d",
         "x": [
          -0.12357743256109126
         ],
         "y": [
          0.03940025526206451
         ],
         "z": [
          0.0790542106709051
         ]
        },
        {
         "hovertemplate": "class=Agalates<br>PC1=%{x}<br>PC2=%{y}<br>PC3=%{z}<extra></extra>",
         "legendgroup": "Agalates",
         "marker": {
          "color": "#EF553B",
          "symbol": "circle"
         },
         "mode": "markers",
         "name": "Agalates",
         "scene": "scene",
         "showlegend": true,
         "type": "scatter3d",
         "x": [
          -0.1890074165113293
         ],
         "y": [
          -0.03817084419523611
         ],
         "z": [
          -0.01665722881754724
         ]
        },
        {
         "hovertemplate": "class=Fludarabine<br>PC1=%{x}<br>PC2=%{y}<br>PC3=%{z}<extra></extra>",
         "legendgroup": "Fludarabine",
         "marker": {
          "color": "#00cc96",
          "symbol": "circle"
         },
         "mode": "markers",
         "name": "Fludarabine",
         "scene": "scene",
         "showlegend": true,
         "type": "scatter3d",
         "x": [
          0.1663535046334372
         ],
         "y": [
          0.03630572609457236
         ],
         "z": [
          0.0883182320334658
         ]
        },
        {
         "hovertemplate": "class=Perindopril<br>PC1=%{x}<br>PC2=%{y}<br>PC3=%{z}<extra></extra>",
         "legendgroup": "Perindopril",
         "marker": {
          "color": "#ab63fa",
          "symbol": "circle"
         },
         "mode": "markers",
         "name": "Perindopril",
         "scene": "scene",
         "showlegend": true,
         "type": "scatter3d",
         "x": [
          0.24456297203953545,
          -0.18391114080078882
         ],
         "y": [
          -0.09639427999409635,
          0.09496923834569054
         ],
         "z": [
          0.011887525177232213,
          -0.05015191609350035
         ]
        },
        {
         "hovertemplate": "class=Levofloxacin<br>PC1=%{x}<br>PC2=%{y}<br>PC3=%{z}<extra></extra>",
         "legendgroup": "Levofloxacin",
         "marker": {
          "color": "#FFA15A",
          "symbol": "circle"
         },
         "mode": "markers",
         "name": "Levofloxacin",
         "scene": "scene",
         "showlegend": true,
         "type": "scatter3d",
         "x": [
          -0.1717145131614044
         ],
         "y": [
          0.13958645654434254
         ],
         "z": [
          0.08941611920186009
         ]
        },
        {
         "hovertemplate": "class=Rhinonorm<br>PC1=%{x}<br>PC2=%{y}<br>PC3=%{z}<extra></extra>",
         "legendgroup": "Rhinonorm",
         "marker": {
          "color": "#19d3f3",
          "symbol": "circle"
         },
         "mode": "markers",
         "name": "Rhinonorm",
         "scene": "scene",
         "showlegend": true,
         "type": "scatter3d",
         "x": [
          0.29791438751974153,
          0.3202037118286051,
          -0.24025066394278066,
          -0.18222825501373446
         ],
         "y": [
          -0.17038629347032525,
          0.2542877983708981,
          0.17079984969279705,
          0.06184014745478431
         ],
         "z": [
          0.11203803940123361,
          -0.11992833989582845,
          -0.03916223980228957,
          -0.015273860789379957
         ]
        },
        {
         "hovertemplate": "class=Equoral<br>PC1=%{x}<br>PC2=%{y}<br>PC3=%{z}<extra></extra>",
         "legendgroup": "Equoral",
         "marker": {
          "color": "#FF6692",
          "symbol": "circle"
         },
         "mode": "markers",
         "name": "Equoral",
         "scene": "scene",
         "showlegend": true,
         "type": "scatter3d",
         "x": [
          -0.13698335426229175,
          0.16984615370471737,
          -0.20501418936439922,
          -0.1605759317865917
         ],
         "y": [
          -0.08926094218936746,
          -0.02128030088920275,
          0.14822128315120142,
          0.05916888347774636
         ],
         "z": [
          -0.07095914281939994,
          0.2362136253302366,
          -0.0533578173407185,
          -0.056008250885250424
         ]
        },
        {
         "hovertemplate": "class=Convulsofin<br>PC1=%{x}<br>PC2=%{y}<br>PC3=%{z}<extra></extra>",
         "legendgroup": "Convulsofin",
         "marker": {
          "color": "#B6E880",
          "symbol": "circle"
         },
         "mode": "markers",
         "name": "Convulsofin",
         "scene": "scene",
         "showlegend": true,
         "type": "scatter3d",
         "x": [
          -0.08111712667725707,
          -0.16419348281187157
         ],
         "y": [
          -0.24588965987067024,
          0.17275819223626895
         ],
         "z": [
          -0.07782775643948807,
          -0.026270983268592448
         ]
        },
        {
         "hovertemplate": "class=Copaxone<br>PC1=%{x}<br>PC2=%{y}<br>PC3=%{z}<extra></extra>",
         "legendgroup": "Copaxone",
         "marker": {
          "color": "#FF97FF",
          "symbol": "circle"
         },
         "mode": "markers",
         "name": "Copaxone",
         "scene": "scene",
         "showlegend": true,
         "type": "scatter3d",
         "x": [
          0.19467345588578336,
          0.2896100953105515
         ],
         "y": [
          -0.21826143967925898,
          -0.02607894416642843
         ],
         "z": [
          0.04240469248965181,
          0.11457427855406727
         ]
        },
        {
         "hovertemplate": "class=Cinqeiro<br>PC1=%{x}<br>PC2=%{y}<br>PC3=%{z}<extra></extra>",
         "legendgroup": "Cinqeiro",
         "marker": {
          "color": "#FECB52",
          "symbol": "circle"
         },
         "mode": "markers",
         "name": "Cinqeiro",
         "scene": "scene",
         "showlegend": true,
         "type": "scatter3d",
         "x": [
          0.28900597310208215
         ],
         "y": [
          0.21203006227757562
         ],
         "z": [
          -0.10613225163657708
         ]
        },
        {
         "hovertemplate": "class=CLOPIDOGREL<br>PC1=%{x}<br>PC2=%{y}<br>PC3=%{z}<extra></extra>",
         "legendgroup": "CLOPIDOGREL",
         "marker": {
          "color": "#636efa",
          "symbol": "circle"
         },
         "mode": "markers",
         "name": "CLOPIDOGREL",
         "scene": "scene",
         "showlegend": true,
         "type": "scatter3d",
         "x": [
          -0.15249977642140233
         ],
         "y": [
          0.07584104276002428
         ],
         "z": [
          0.09574657199982751
         ]
        },
        {
         "hovertemplate": "class=Sumatriptan<br>PC1=%{x}<br>PC2=%{y}<br>PC3=%{z}<extra></extra>",
         "legendgroup": "Sumatriptan",
         "marker": {
          "color": "#EF553B",
          "symbol": "circle"
         },
         "mode": "markers",
         "name": "Sumatriptan",
         "scene": "scene",
         "showlegend": true,
         "type": "scatter3d",
         "x": [
          -0.11041502642683552,
          0.13229559060351267
         ],
         "y": [
          -0.1051288267684341,
          -0.11564778431543347
         ],
         "z": [
          -0.057253988848421214,
          -0.026641723386913292
         ]
        },
        {
         "hovertemplate": "class=Ambrobene<br>PC1=%{x}<br>PC2=%{y}<br>PC3=%{z}<extra></extra>",
         "legendgroup": "Ambrobene",
         "marker": {
          "color": "#00cc96",
          "symbol": "circle"
         },
         "mode": "markers",
         "name": "Ambrobene",
         "scene": "scene",
         "showlegend": true,
         "type": "scatter3d",
         "x": [
          -0.1650176939161982,
          0.21875017159418786,
          -0.16128199487410158,
          -0.192297116561636,
          -0.0746916957472911,
          -0.047380477221794524,
          -0.17291435236898914,
          0.18954956755056862,
          0.008744376203389727
         ],
         "y": [
          0.01340509935891325,
          0.0805502884718342,
          -0.042650004040957236,
          0.1101069844507924,
          0.0775543177631148,
          -0.16237871728492975,
          -0.10499301044900536,
          -0.06632341590598899,
          0.04299945000263929
         ],
         "z": [
          -0.0262411716104906,
          0.0023038757992724333,
          -0.04345969289077365,
          -0.005839332441526474,
          0.10359126111982835,
          0.05212083377170866,
          -0.1464889654983366,
          -0.05094567379732829,
          0.1353684045543567
         ]
        },
        {
         "hovertemplate": "class=Dutasteride<br>PC1=%{x}<br>PC2=%{y}<br>PC3=%{z}<extra></extra>",
         "legendgroup": "Dutasteride",
         "marker": {
          "color": "#ab63fa",
          "symbol": "circle"
         },
         "mode": "markers",
         "name": "Dutasteride",
         "scene": "scene",
         "showlegend": true,
         "type": "scatter3d",
         "x": [
          -0.07995435681346946
         ],
         "y": [
          -0.20455799416570503
         ],
         "z": [
          0.013760281704987012
         ]
        },
        {
         "hovertemplate": "class=Phezam<br>PC1=%{x}<br>PC2=%{y}<br>PC3=%{z}<extra></extra>",
         "legendgroup": "Phezam",
         "marker": {
          "color": "#FFA15A",
          "symbol": "circle"
         },
         "mode": "markers",
         "name": "Phezam",
         "scene": "scene",
         "showlegend": true,
         "type": "scatter3d",
         "x": [
          -0.23253033076728347
         ],
         "y": [
          0.18149558425233492
         ],
         "z": [
          0.022625738359472125
         ]
        },
        {
         "hovertemplate": "class=Metoprolol<br>PC1=%{x}<br>PC2=%{y}<br>PC3=%{z}<extra></extra>",
         "legendgroup": "Metoprolol",
         "marker": {
          "color": "#19d3f3",
          "symbol": "circle"
         },
         "mode": "markers",
         "name": "Metoprolol",
         "scene": "scene",
         "showlegend": true,
         "type": "scatter3d",
         "x": [
          0.20652160561835986,
          0.20443530751627545
         ],
         "y": [
          0.0825489275578262,
          -0.03341702167091401
         ],
         "z": [
          -0.11285541212449365,
          0.03148681559168015
         ]
        },
        {
         "hovertemplate": "class=Cerucal<br>PC1=%{x}<br>PC2=%{y}<br>PC3=%{z}<extra></extra>",
         "legendgroup": "Cerucal",
         "marker": {
          "color": "#FF6692",
          "symbol": "circle"
         },
         "mode": "markers",
         "name": "Cerucal",
         "scene": "scene",
         "showlegend": true,
         "type": "scatter3d",
         "x": [
          0.0982765925333943,
          -0.13044276815487943
         ],
         "y": [
          -0.09805463036472638,
          0.1529298313528994
         ],
         "z": [
          0.01937444265088103,
          0.024308473690143273
         ]
        },
        {
         "hovertemplate": "class=Irinotecan<br>PC1=%{x}<br>PC2=%{y}<br>PC3=%{z}<extra></extra>",
         "legendgroup": "Irinotecan",
         "marker": {
          "color": "#B6E880",
          "symbol": "circle"
         },
         "mode": "markers",
         "name": "Irinotecan",
         "scene": "scene",
         "showlegend": true,
         "type": "scatter3d",
         "x": [
          -0.10979311354919451,
          0.23847828614023758
         ],
         "y": [
          -0.10690960585210552,
          -0.14915508889834161
         ],
         "z": [
          -0.0594669837295165,
          0.24328859024734623
         ]
        },
        {
         "hovertemplate": "class=Lisinopril<br>PC1=%{x}<br>PC2=%{y}<br>PC3=%{z}<extra></extra>",
         "legendgroup": "Lisinopril",
         "marker": {
          "color": "#FF97FF",
          "symbol": "circle"
         },
         "mode": "markers",
         "name": "Lisinopril",
         "scene": "scene",
         "showlegend": true,
         "type": "scatter3d",
         "x": [
          0.2958312544103462,
          -0.04433483026986599,
          -0.09528441414177997
         ],
         "y": [
          -0.030529159271946667,
          0.09147547240721926,
          0.0031999191925403342
         ],
         "z": [
          0.10191952946453389,
          0.16834628727135054,
          0.14083000747765034
         ]
        },
        {
         "hovertemplate": "class=Almagel<br>PC1=%{x}<br>PC2=%{y}<br>PC3=%{z}<extra></extra>",
         "legendgroup": "Almagel",
         "marker": {
          "color": "#FECB52",
          "symbol": "circle"
         },
         "mode": "markers",
         "name": "Almagel",
         "scene": "scene",
         "showlegend": true,
         "type": "scatter3d",
         "x": [
          0.18740978802201494,
          -0.23261403291093696,
          0.001235322795516294,
          0.20454657154801592,
          0.26946267133399365,
          0.06614018365290564
         ],
         "y": [
          -0.0769476135210934,
          -0.07074049816637562,
          -0.10814562694752344,
          0.1655734633314049,
          0.20941355327844316,
          -0.05088492595934686
         ],
         "z": [
          0.26605619980459033,
          -0.04058149931617696,
          0.17799543596795966,
          0.03559157079358408,
          -0.13263179727525262,
          0.12331843722286497
         ]
        },
        {
         "hovertemplate": "class=Levodopa/Carbidopa/Entacapone<br>PC1=%{x}<br>PC2=%{y}<br>PC3=%{z}<extra></extra>",
         "legendgroup": "Levodopa/Carbidopa/Entacapone",
         "marker": {
          "color": "#636efa",
          "symbol": "circle"
         },
         "mode": "markers",
         "name": "Levodopa/Carbidopa/Entacapone",
         "scene": "scene",
         "showlegend": true,
         "type": "scatter3d",
         "x": [
          -0.20579666792555093,
          0.10990775999980529
         ],
         "y": [
          0.16150933369381731,
          -0.08737909419550519
         ],
         "z": [
          -0.0410111034624292,
          0.058566675487637984
         ]
        },
        {
         "hovertemplate": "class=Metformin<br>PC1=%{x}<br>PC2=%{y}<br>PC3=%{z}<extra></extra>",
         "legendgroup": "Metformin",
         "marker": {
          "color": "#EF553B",
          "symbol": "circle"
         },
         "mode": "markers",
         "name": "Metformin",
         "scene": "scene",
         "showlegend": true,
         "type": "scatter3d",
         "x": [
          -0.21848834124094563,
          -0.23918368507880058,
          0.017897428265633362
         ],
         "y": [
          -0.10617805921523145,
          0.19993705652782442,
          -0.14280258046088548
         ],
         "z": [
          -0.1308193152097676,
          -0.011514932970419172,
          0.11390569049972038
         ]
        },
        {
         "hovertemplate": "class=Oxaliplatin<br>PC1=%{x}<br>PC2=%{y}<br>PC3=%{z}<extra></extra>",
         "legendgroup": "Oxaliplatin",
         "marker": {
          "color": "#00cc96",
          "symbol": "circle"
         },
         "mode": "markers",
         "name": "Oxaliplatin",
         "scene": "scene",
         "showlegend": true,
         "type": "scatter3d",
         "x": [
          -0.14865045485485814,
          -0.10019161098177909,
          -0.20106876170613716
         ],
         "y": [
          0.09449441670245895,
          -0.01666045758899631,
          0.15554871493593528
         ],
         "z": [
          0.072980507968932,
          0.015221539038993932,
          0.027094449985428024
         ]
        },
        {
         "hovertemplate": "class=Omeprazole<br>PC1=%{x}<br>PC2=%{y}<br>PC3=%{z}<extra></extra>",
         "legendgroup": "Omeprazole",
         "marker": {
          "color": "#ab63fa",
          "symbol": "circle"
         },
         "mode": "markers",
         "name": "Omeprazole",
         "scene": "scene",
         "showlegend": true,
         "type": "scatter3d",
         "x": [
          0.34391014508401463,
          -0.13228992067371698,
          0.07579205194534466
         ],
         "y": [
          -0.03793399767714634,
          0.10580041371014379,
          0.08404281476514153
         ],
         "z": [
          -0.06009671125916316,
          0.15494314638879575,
          0.18147410701621183
         ]
        },
        {
         "hovertemplate": "class=Gemcitabin<br>PC1=%{x}<br>PC2=%{y}<br>PC3=%{z}<extra></extra>",
         "legendgroup": "Gemcitabin",
         "marker": {
          "color": "#FFA15A",
          "symbol": "circle"
         },
         "mode": "markers",
         "name": "Gemcitabin",
         "scene": "scene",
         "showlegend": true,
         "type": "scatter3d",
         "x": [
          0.28560470870997307
         ],
         "y": [
          0.19971771745150158
         ],
         "z": [
          -0.08949620081006272
         ]
        },
        {
         "hovertemplate": "class=VINORELBIN<br>PC1=%{x}<br>PC2=%{y}<br>PC3=%{z}<extra></extra>",
         "legendgroup": "VINORELBIN",
         "marker": {
          "color": "#19d3f3",
          "symbol": "circle"
         },
         "mode": "markers",
         "name": "VINORELBIN",
         "scene": "scene",
         "showlegend": true,
         "type": "scatter3d",
         "x": [
          0.14335696324939495
         ],
         "y": [
          -0.19558706169884466
         ],
         "z": [
          0.012083240333705536
         ]
        },
        {
         "hovertemplate": "class=Rosuvastatin<br>PC1=%{x}<br>PC2=%{y}<br>PC3=%{z}<extra></extra>",
         "legendgroup": "Rosuvastatin",
         "marker": {
          "color": "#FF6692",
          "symbol": "circle"
         },
         "mode": "markers",
         "name": "Rosuvastatin",
         "scene": "scene",
         "showlegend": true,
         "type": "scatter3d",
         "x": [
          0.1845180527827829,
          0.31664027563204333,
          -0.20037091106138144
         ],
         "y": [
          -0.0733195104566359,
          0.0009325547038783293,
          -0.08164911567718013
         ],
         "z": [
          0.28139654185461777,
          -0.038909108607145915,
          -0.13206321857775383
         ]
        },
        {
         "hovertemplate": "class=Cisplatin<br>PC1=%{x}<br>PC2=%{y}<br>PC3=%{z}<extra></extra>",
         "legendgroup": "Cisplatin",
         "marker": {
          "color": "#B6E880",
          "symbol": "circle"
         },
         "mode": "markers",
         "name": "Cisplatin",
         "scene": "scene",
         "showlegend": true,
         "type": "scatter3d",
         "x": [
          -0.23440251898544448,
          0.05460303767475294
         ],
         "y": [
          0.14446919312488238,
          -0.22412059272151205
         ],
         "z": [
          0.02027327225282391,
          0.12544612163119812
         ]
        },
        {
         "hovertemplate": "class=Stoptussin<br>PC1=%{x}<br>PC2=%{y}<br>PC3=%{z}<extra></extra>",
         "legendgroup": "Stoptussin",
         "marker": {
          "color": "#FF97FF",
          "symbol": "circle"
         },
         "mode": "markers",
         "name": "Stoptussin",
         "scene": "scene",
         "showlegend": true,
         "type": "scatter3d",
         "x": [
          -0.13085426469677072
         ],
         "y": [
          0.0812539385561834
         ],
         "z": [
          0.1044239005044649
         ]
        },
        {
         "hovertemplate": "class=Topotecan<br>PC1=%{x}<br>PC2=%{y}<br>PC3=%{z}<extra></extra>",
         "legendgroup": "Topotecan",
         "marker": {
          "color": "#FECB52",
          "symbol": "circle"
         },
         "mode": "markers",
         "name": "Topotecan",
         "scene": "scene",
         "showlegend": true,
         "type": "scatter3d",
         "x": [
          -0.09193267110573482,
          -0.15541304065001038
         ],
         "y": [
          -0.13357768872995443,
          -0.1698457888436748
         ],
         "z": [
          -0.08692159910903775,
          -0.1396828020117792
         ]
        },
        {
         "hovertemplate": "class=Lisinoton<br>PC1=%{x}<br>PC2=%{y}<br>PC3=%{z}<extra></extra>",
         "legendgroup": "Lisinoton",
         "marker": {
          "color": "#636efa",
          "symbol": "circle"
         },
         "mode": "markers",
         "name": "Lisinoton",
         "scene": "scene",
         "showlegend": true,
         "type": "scatter3d",
         "x": [
          -0.21536901670111816,
          -0.14235374181854374,
          -0.14671296272607207
         ],
         "y": [
          0.15897424268813032,
          0.04979989440344106,
          0.09314208728048892
         ],
         "z": [
          -0.03985502522032017,
          0.00047284977922039563,
          0.09199523744913735
         ]
        },
        {
         "hovertemplate": "class=Dynamico<br>PC1=%{x}<br>PC2=%{y}<br>PC3=%{z}<extra></extra>",
         "legendgroup": "Dynamico",
         "marker": {
          "color": "#EF553B",
          "symbol": "circle"
         },
         "mode": "markers",
         "name": "Dynamico",
         "scene": "scene",
         "showlegend": true,
         "type": "scatter3d",
         "x": [
          0.24041685731779486,
          -0.2283960081436188,
          -0.11205753218407742,
          0.1348895326423708,
          -0.1449991813862816
         ],
         "y": [
          -0.04695305074085731,
          0.21159023127149312,
          -0.12660637657065643,
          0.21326915485595616,
          0.05336217744122299
         ],
         "z": [
          -0.05171823542711376,
          -0.023951991759826048,
          0.02330666537516725,
          0.05966107466005182,
          0.1159857251293262
         ]
        },
        {
         "hovertemplate": "class=Cuprenil<br>PC1=%{x}<br>PC2=%{y}<br>PC3=%{z}<extra></extra>",
         "legendgroup": "Cuprenil",
         "marker": {
          "color": "#00cc96",
          "symbol": "circle"
         },
         "mode": "markers",
         "name": "Cuprenil",
         "scene": "scene",
         "showlegend": true,
         "type": "scatter3d",
         "x": [
          -0.19281520167386856
         ],
         "y": [
          -0.03558158621007528
         ],
         "z": [
          -0.10422719669787447
         ]
        },
        {
         "hovertemplate": "class=Indapamide/Perindopril<br>PC1=%{x}<br>PC2=%{y}<br>PC3=%{z}<extra></extra>",
         "legendgroup": "Indapamide/Perindopril",
         "marker": {
          "color": "#ab63fa",
          "symbol": "circle"
         },
         "mode": "markers",
         "name": "Indapamide/Perindopril",
         "scene": "scene",
         "showlegend": true,
         "type": "scatter3d",
         "x": [
          -0.15050190074160827,
          0.32564601532491566
         ],
         "y": [
          -0.0004958370427911384,
          0.21546763409854564
         ],
         "z": [
          -0.03906325684634943,
          -0.12800487818244966
         ]
        },
        {
         "hovertemplate": "class=Salbutamol<br>PC1=%{x}<br>PC2=%{y}<br>PC3=%{z}<extra></extra>",
         "legendgroup": "Salbutamol",
         "marker": {
          "color": "#FFA15A",
          "symbol": "circle"
         },
         "mode": "markers",
         "name": "Salbutamol",
         "scene": "scene",
         "showlegend": true,
         "type": "scatter3d",
         "x": [
          0.33716654007360675
         ],
         "y": [
          -0.03794153744026825
         ],
         "z": [
          -0.05328686307796024
         ]
        },
        {
         "hovertemplate": "class=Diosmin/Hesperidine<br>PC1=%{x}<br>PC2=%{y}<br>PC3=%{z}<extra></extra>",
         "legendgroup": "Diosmin/Hesperidine",
         "marker": {
          "color": "#19d3f3",
          "symbol": "circle"
         },
         "mode": "markers",
         "name": "Diosmin/Hesperidine",
         "scene": "scene",
         "showlegend": true,
         "type": "scatter3d",
         "x": [
          -0.17037569604295263
         ],
         "y": [
          0.1555168994543727
         ],
         "z": [
          0.04591061647565157
         ]
        },
        {
         "hovertemplate": "class=Almont<br>PC1=%{x}<br>PC2=%{y}<br>PC3=%{z}<extra></extra>",
         "legendgroup": "Almont",
         "marker": {
          "color": "#FF6692",
          "symbol": "circle"
         },
         "mode": "markers",
         "name": "Almont",
         "scene": "scene",
         "showlegend": true,
         "type": "scatter3d",
         "x": [
          0.2258901705180548,
          -0.03373197146365698,
          -0.23665154064037225
         ],
         "y": [
          -0.25924639177306613,
          -0.11495875375240346,
          0.18980035155981023
         ],
         "z": [
          -0.10142085238324307,
          0.031868925247792446,
          -0.038992047008272614
         ]
        },
        {
         "hovertemplate": "class=Tevanate<br>PC1=%{x}<br>PC2=%{y}<br>PC3=%{z}<extra></extra>",
         "legendgroup": "Tevanate",
         "marker": {
          "color": "#B6E880",
          "symbol": "circle"
         },
         "mode": "markers",
         "name": "Tevanate",
         "scene": "scene",
         "showlegend": true,
         "type": "scatter3d",
         "x": [
          -0.1078747553638127
         ],
         "y": [
          0.06653607960099593
         ],
         "z": [
          0.12202010145912232
         ]
        },
        {
         "hovertemplate": "class=Bicalutamide<br>PC1=%{x}<br>PC2=%{y}<br>PC3=%{z}<extra></extra>",
         "legendgroup": "Bicalutamide",
         "marker": {
          "color": "#FF97FF",
          "symbol": "circle"
         },
         "mode": "markers",
         "name": "Bicalutamide",
         "scene": "scene",
         "showlegend": true,
         "type": "scatter3d",
         "x": [
          -0.21105821301616762,
          0.15053623790053866
         ],
         "y": [
          0.11306050204911278,
          -0.10505232069789143
         ],
         "z": [
          -0.017984385014326327,
          -0.041259627475931177
         ]
        },
        {
         "hovertemplate": "class=Tenzotran<br>PC1=%{x}<br>PC2=%{y}<br>PC3=%{z}<extra></extra>",
         "legendgroup": "Tenzotran",
         "marker": {
          "color": "#FECB52",
          "symbol": "circle"
         },
         "mode": "markers",
         "name": "Tenzotran",
         "scene": "scene",
         "showlegend": true,
         "type": "scatter3d",
         "x": [
          0.21955550399013196,
          -0.00469761700890455
         ],
         "y": [
          -0.22494887850577044,
          0.13172795114512637
         ],
         "z": [
          -0.12727894745374838,
          0.2360777000007506
         ]
        },
        {
         "hovertemplate": "class=EsCordi<br>PC1=%{x}<br>PC2=%{y}<br>PC3=%{z}<extra></extra>",
         "legendgroup": "EsCordi",
         "marker": {
          "color": "#636efa",
          "symbol": "circle"
         },
         "mode": "markers",
         "name": "EsCordi",
         "scene": "scene",
         "showlegend": true,
         "type": "scatter3d",
         "x": [
          -0.08750723703840588
         ],
         "y": [
          -0.0984210908279383
         ],
         "z": [
          -0.04065438658848386
         ]
        },
        {
         "hovertemplate": "class=Valvir<br>PC1=%{x}<br>PC2=%{y}<br>PC3=%{z}<extra></extra>",
         "legendgroup": "Valvir",
         "marker": {
          "color": "#EF553B",
          "symbol": "circle"
         },
         "mode": "markers",
         "name": "Valvir",
         "scene": "scene",
         "showlegend": true,
         "type": "scatter3d",
         "x": [
          0.3569120748936758,
          0.17913857169368302
         ],
         "y": [
          0.2452263558103256,
          0.0007272130772310246
         ],
         "z": [
          -0.1345188679326755,
          -0.004851929679397646
         ]
        },
        {
         "hovertemplate": "class=Ordiss<br>PC1=%{x}<br>PC2=%{y}<br>PC3=%{z}<extra></extra>",
         "legendgroup": "Ordiss",
         "marker": {
          "color": "#00cc96",
          "symbol": "circle"
         },
         "mode": "markers",
         "name": "Ordiss",
         "scene": "scene",
         "showlegend": true,
         "type": "scatter3d",
         "x": [
          0.18379811908000238,
          -0.1982653556568696,
          -0.17520735985159033,
          -0.180373743272752
         ],
         "y": [
          -0.08595628475127276,
          -0.10384935221124789,
          0.12279311890110647,
          0.020608065112421463
         ],
         "z": [
          0.28168569575000935,
          -0.09999751418737961,
          0.038096898996120086,
          -0.0909498250892021
         ]
        },
        {
         "hovertemplate": "class=Panthenol<br>PC1=%{x}<br>PC2=%{y}<br>PC3=%{z}<extra></extra>",
         "legendgroup": "Panthenol",
         "marker": {
          "color": "#ab63fa",
          "symbol": "circle"
         },
         "mode": "markers",
         "name": "Panthenol",
         "scene": "scene",
         "showlegend": true,
         "type": "scatter3d",
         "x": [
          -0.20397841320756388
         ],
         "y": [
          0.1601431144823793
         ],
         "z": [
          -0.009416154024988863
         ]
        },
        {
         "hovertemplate": "class=Bisoprolol<br>PC1=%{x}<br>PC2=%{y}<br>PC3=%{z}<extra></extra>",
         "legendgroup": "Bisoprolol",
         "marker": {
          "color": "#FFA15A",
          "symbol": "circle"
         },
         "mode": "markers",
         "name": "Bisoprolol",
         "scene": "scene",
         "showlegend": true,
         "type": "scatter3d",
         "x": [
          -0.13072828286619004,
          -0.21368240000419444
         ],
         "y": [
          -0.06778559037640768,
          0.10745593979915387
         ],
         "z": [
          -0.045526687744115904,
          -0.02540381036387734
         ]
        },
        {
         "hovertemplate": "class=Drotaverine<br>PC1=%{x}<br>PC2=%{y}<br>PC3=%{z}<extra></extra>",
         "legendgroup": "Drotaverine",
         "marker": {
          "color": "#19d3f3",
          "symbol": "circle"
         },
         "mode": "markers",
         "name": "Drotaverine",
         "scene": "scene",
         "showlegend": true,
         "type": "scatter3d",
         "x": [
          -0.16363313629858636
         ],
         "y": [
          -0.06959686821043036
         ],
         "z": [
          -0.08860188812715404
         ]
        },
        {
         "hovertemplate": "class=Loratadine<br>PC1=%{x}<br>PC2=%{y}<br>PC3=%{z}<extra></extra>",
         "legendgroup": "Loratadine",
         "marker": {
          "color": "#FF6692",
          "symbol": "circle"
         },
         "mode": "markers",
         "name": "Loratadine",
         "scene": "scene",
         "showlegend": true,
         "type": "scatter3d",
         "x": [
          0.3213920652309199
         ],
         "y": [
          0.07070151281517963
         ],
         "z": [
          -0.13194766083437853
         ]
        },
        {
         "hovertemplate": "class=Velbine<br>PC1=%{x}<br>PC2=%{y}<br>PC3=%{z}<extra></extra>",
         "legendgroup": "Velbine",
         "marker": {
          "color": "#B6E880",
          "symbol": "circle"
         },
         "mode": "markers",
         "name": "Velbine",
         "scene": "scene",
         "showlegend": true,
         "type": "scatter3d",
         "x": [
          0.3252101790338335,
          0.24267429540045668
         ],
         "y": [
          0.1592307069506773,
          -0.21183202594909709
         ],
         "z": [
          -0.1687104255000407,
          -0.10806111448895109
         ]
        },
        {
         "hovertemplate": "class=Clotrimazole<br>PC1=%{x}<br>PC2=%{y}<br>PC3=%{z}<extra></extra>",
         "legendgroup": "Clotrimazole",
         "marker": {
          "color": "#FF97FF",
          "symbol": "circle"
         },
         "mode": "markers",
         "name": "Clotrimazole",
         "scene": "scene",
         "showlegend": true,
         "type": "scatter3d",
         "x": [
          0.13515804127526462
         ],
         "y": [
          -0.09994772315218467
         ],
         "z": [
          0.21040004005058308
         ]
        },
        {
         "hovertemplate": "class=Sedalgin<br>PC1=%{x}<br>PC2=%{y}<br>PC3=%{z}<extra></extra>",
         "legendgroup": "Sedalgin",
         "marker": {
          "color": "#FECB52",
          "symbol": "circle"
         },
         "mode": "markers",
         "name": "Sedalgin",
         "scene": "scene",
         "showlegend": true,
         "type": "scatter3d",
         "x": [
          -0.226023099007513,
          -0.12609404064860597
         ],
         "y": [
          -0.04544993647811779,
          0.10192542770900756
         ],
         "z": [
          -0.2200947420170081,
          0.018815942849042262
         ]
        },
        {
         "hovertemplate": "class=Haloperidol<br>PC1=%{x}<br>PC2=%{y}<br>PC3=%{z}<extra></extra>",
         "legendgroup": "Haloperidol",
         "marker": {
          "color": "#636efa",
          "symbol": "circle"
         },
         "mode": "markers",
         "name": "Haloperidol",
         "scene": "scene",
         "showlegend": true,
         "type": "scatter3d",
         "x": [
          -0.24212345105442687
         ],
         "y": [
          0.1644793339398695
         ],
         "z": [
          -0.0206116384443835
         ]
        },
        {
         "hovertemplate": "class=Diuver<br>PC1=%{x}<br>PC2=%{y}<br>PC3=%{z}<extra></extra>",
         "legendgroup": "Diuver",
         "marker": {
          "color": "#EF553B",
          "symbol": "circle"
         },
         "mode": "markers",
         "name": "Diuver",
         "scene": "scene",
         "showlegend": true,
         "type": "scatter3d",
         "x": [
          -0.18099567794879642,
          0.24890610386931422
         ],
         "y": [
          -0.13586292037570918,
          0.0022906270160254387
         ],
         "z": [
          -0.10773208968435705,
          -0.06212683597848875
         ]
        },
        {
         "hovertemplate": "class=Paclitaxel<br>PC1=%{x}<br>PC2=%{y}<br>PC3=%{z}<extra></extra>",
         "legendgroup": "Paclitaxel",
         "marker": {
          "color": "#00cc96",
          "symbol": "circle"
         },
         "mode": "markers",
         "name": "Paclitaxel",
         "scene": "scene",
         "showlegend": true,
         "type": "scatter3d",
         "x": [
          -0.1429233379478482
         ],
         "y": [
          -0.07951313347638143
         ],
         "z": [
          0.07896853253631435
         ]
        },
        {
         "hovertemplate": "class=Stopangin<br>PC1=%{x}<br>PC2=%{y}<br>PC3=%{z}<extra></extra>",
         "legendgroup": "Stopangin",
         "marker": {
          "color": "#ab63fa",
          "symbol": "circle"
         },
         "mode": "markers",
         "name": "Stopangin",
         "scene": "scene",
         "showlegend": true,
         "type": "scatter3d",
         "x": [
          0.29779583223520617
         ],
         "y": [
          -0.16762010346885428
         ],
         "z": [
          0.11715410640658085
         ]
        },
        {
         "hovertemplate": "class=Domperidone<br>PC1=%{x}<br>PC2=%{y}<br>PC3=%{z}<extra></extra>",
         "legendgroup": "Domperidone",
         "marker": {
          "color": "#FFA15A",
          "symbol": "circle"
         },
         "mode": "markers",
         "name": "Domperidone",
         "scene": "scene",
         "showlegend": true,
         "type": "scatter3d",
         "x": [
          -0.19954100177504902
         ],
         "y": [
          0.0020819850650983214
         ],
         "z": [
          -0.06835447209742741
         ]
        },
        {
         "hovertemplate": "class=Carvedilol<br>PC1=%{x}<br>PC2=%{y}<br>PC3=%{z}<extra></extra>",
         "legendgroup": "Carvedilol",
         "marker": {
          "color": "#19d3f3",
          "symbol": "circle"
         },
         "mode": "markers",
         "name": "Carvedilol",
         "scene": "scene",
         "showlegend": true,
         "type": "scatter3d",
         "x": [
          -0.21799786384792333,
          -0.15463715735330716,
          -0.11430731036877682
         ],
         "y": [
          -0.026049849649995915,
          0.1762473194282205,
          -0.039177172711250145
         ],
         "z": [
          -0.19973014466856437,
          0.029064072085218495,
          0.06362809421926705
         ]
        },
        {
         "hovertemplate": "class=Doxazosin<br>PC1=%{x}<br>PC2=%{y}<br>PC3=%{z}<extra></extra>",
         "legendgroup": "Doxazosin",
         "marker": {
          "color": "#FF6692",
          "symbol": "circle"
         },
         "mode": "markers",
         "name": "Doxazosin",
         "scene": "scene",
         "showlegend": true,
         "type": "scatter3d",
         "x": [
          -0.24222671516662747
         ],
         "y": [
          0.1617782997214105
         ],
         "z": [
          0.010555962217745414
         ]
        },
        {
         "hovertemplate": "class=Fulvestrant<br>PC1=%{x}<br>PC2=%{y}<br>PC3=%{z}<extra></extra>",
         "legendgroup": "Fulvestrant",
         "marker": {
          "color": "#B6E880",
          "symbol": "circle"
         },
         "mode": "markers",
         "name": "Fulvestrant",
         "scene": "scene",
         "showlegend": true,
         "type": "scatter3d",
         "x": [
          0.374001780516066
         ],
         "y": [
          0.21041355151485835
         ],
         "z": [
          -0.1948121582873325
         ]
        },
        {
         "hovertemplate": "class=Azilect<br>PC1=%{x}<br>PC2=%{y}<br>PC3=%{z}<extra></extra>",
         "legendgroup": "Azilect",
         "marker": {
          "color": "#FF97FF",
          "symbol": "circle"
         },
         "mode": "markers",
         "name": "Azilect",
         "scene": "scene",
         "showlegend": true,
         "type": "scatter3d",
         "x": [
          -0.15265143026217073
         ],
         "y": [
          -0.16074346675943807
         ],
         "z": [
          -0.16302435692871659
         ]
        },
        {
         "hovertemplate": "class=Icatibant<br>PC1=%{x}<br>PC2=%{y}<br>PC3=%{z}<extra></extra>",
         "legendgroup": "Icatibant",
         "marker": {
          "color": "#FECB52",
          "symbol": "circle"
         },
         "mode": "markers",
         "name": "Icatibant",
         "scene": "scene",
         "showlegend": true,
         "type": "scatter3d",
         "x": [
          0.19991564820008137
         ],
         "y": [
          0.015913481903958714
         ],
         "z": [
          0.03430199543602422
         ]
        },
        {
         "hovertemplate": "class=Clarithromycin<br>PC1=%{x}<br>PC2=%{y}<br>PC3=%{z}<extra></extra>",
         "legendgroup": "Clarithromycin",
         "marker": {
          "color": "#636efa",
          "symbol": "circle"
         },
         "mode": "markers",
         "name": "Clarithromycin",
         "scene": "scene",
         "showlegend": true,
         "type": "scatter3d",
         "x": [
          0.30750054716564823
         ],
         "y": [
          0.12682363020548607
         ],
         "z": [
          -0.2270662194295009
         ]
        },
        {
         "hovertemplate": "class=Felodip<br>PC1=%{x}<br>PC2=%{y}<br>PC3=%{z}<extra></extra>",
         "legendgroup": "Felodip",
         "marker": {
          "color": "#EF553B",
          "symbol": "circle"
         },
         "mode": "markers",
         "name": "Felodip",
         "scene": "scene",
         "showlegend": true,
         "type": "scatter3d",
         "x": [
          -0.18977011400472824,
          -0.1898072297780827,
          -0.19375762355843457
         ],
         "y": [
          -0.018346904801630492,
          -0.07562628086508154,
          0.11739178385877154
         ],
         "z": [
          -0.021139674949353978,
          -0.10160034995422294,
          -0.03929806887076547
         ]
        },
        {
         "hovertemplate": "class=Ondansetron<br>PC1=%{x}<br>PC2=%{y}<br>PC3=%{z}<extra></extra>",
         "legendgroup": "Ondansetron",
         "marker": {
          "color": "#00cc96",
          "symbol": "circle"
         },
         "mode": "markers",
         "name": "Ondansetron",
         "scene": "scene",
         "showlegend": true,
         "type": "scatter3d",
         "x": [
          0.2930886296376485
         ],
         "y": [
          0.2596721980788156
         ],
         "z": [
          -0.0492976123141087
         ]
        },
        {
         "hovertemplate": "class=TEVANATE<br>PC1=%{x}<br>PC2=%{y}<br>PC3=%{z}<extra></extra>",
         "legendgroup": "TEVANATE",
         "marker": {
          "color": "#ab63fa",
          "symbol": "circle"
         },
         "mode": "markers",
         "name": "TEVANATE",
         "scene": "scene",
         "showlegend": true,
         "type": "scatter3d",
         "x": [
          0.28344179279884796
         ],
         "y": [
          0.2695057098051057
         ],
         "z": [
          -0.0543223508525555
         ]
        },
        {
         "hovertemplate": "class=Etoposide<br>PC1=%{x}<br>PC2=%{y}<br>PC3=%{z}<extra></extra>",
         "legendgroup": "Etoposide",
         "marker": {
          "color": "#FFA15A",
          "symbol": "circle"
         },
         "mode": "markers",
         "name": "Etoposide",
         "scene": "scene",
         "showlegend": true,
         "type": "scatter3d",
         "x": [
          -0.11499792831107279,
          0.2717378117459975
         ],
         "y": [
          -0.2375934211358945,
          0.12209535400006605
         ],
         "z": [
          -0.026611170209736044,
          0.007482772757194097
         ]
        },
        {
         "hovertemplate": "class=Nazarel<br>PC1=%{x}<br>PC2=%{y}<br>PC3=%{z}<extra></extra>",
         "legendgroup": "Nazarel",
         "marker": {
          "color": "#19d3f3",
          "symbol": "circle"
         },
         "mode": "markers",
         "name": "Nazarel",
         "scene": "scene",
         "showlegend": true,
         "type": "scatter3d",
         "x": [
          -0.15822332128051866
         ],
         "y": [
          0.07471744691701443
         ],
         "z": [
          0.10358316066041878
         ]
        },
        {
         "hovertemplate": "class=Budenit<br>PC1=%{x}<br>PC2=%{y}<br>PC3=%{z}<extra></extra>",
         "legendgroup": "Budenit",
         "marker": {
          "color": "#FF6692",
          "symbol": "circle"
         },
         "mode": "markers",
         "name": "Budenit",
         "scene": "scene",
         "showlegend": true,
         "type": "scatter3d",
         "x": [
          0.3709594165387019,
          -0.13073504826250737
         ],
         "y": [
          0.19389847408746258,
          0.08025186253213838
         ],
         "z": [
          -0.19031436237673507,
          0.10244137603319335
         ]
        },
        {
         "hovertemplate": "class=Nitrofungin<br>PC1=%{x}<br>PC2=%{y}<br>PC3=%{z}<extra></extra>",
         "legendgroup": "Nitrofungin",
         "marker": {
          "color": "#B6E880",
          "symbol": "circle"
         },
         "mode": "markers",
         "name": "Nitrofungin",
         "scene": "scene",
         "showlegend": true,
         "type": "scatter3d",
         "x": [
          -0.15133489815759815
         ],
         "y": [
          -0.10918461304754173
         ],
         "z": [
          -0.13486483535668842
         ]
        },
        {
         "hovertemplate": "class=Ciprofloxacin<br>PC1=%{x}<br>PC2=%{y}<br>PC3=%{z}<extra></extra>",
         "legendgroup": "Ciprofloxacin",
         "marker": {
          "color": "#FF97FF",
          "symbol": "circle"
         },
         "mode": "markers",
         "name": "Ciprofloxacin",
         "scene": "scene",
         "showlegend": true,
         "type": "scatter3d",
         "x": [
          0.22846938675160275
         ],
         "y": [
          -0.21554109317735307
         ],
         "z": [
          -0.12402282006881461
         ]
        },
        {
         "hovertemplate": "class=Tizanidine<br>PC1=%{x}<br>PC2=%{y}<br>PC3=%{z}<extra></extra>",
         "legendgroup": "Tizanidine",
         "marker": {
          "color": "#FECB52",
          "symbol": "circle"
         },
         "mode": "markers",
         "name": "Tizanidine",
         "scene": "scene",
         "showlegend": true,
         "type": "scatter3d",
         "x": [
          0.2247545060719474,
          -0.021454237522564874
         ],
         "y": [
          -0.0005704329218366212,
          -0.1649643293958652
         ],
         "z": [
          0.11239838629061888,
          0.03076110778035018
         ]
        },
        {
         "hovertemplate": "class=Topsaver<br>PC1=%{x}<br>PC2=%{y}<br>PC3=%{z}<extra></extra>",
         "legendgroup": "Topsaver",
         "marker": {
          "color": "#636efa",
          "symbol": "circle"
         },
         "mode": "markers",
         "name": "Topsaver",
         "scene": "scene",
         "showlegend": true,
         "type": "scatter3d",
         "x": [
          -0.16444384836606185,
          0.283474982771685,
          0.25480329594352835
         ],
         "y": [
          0.13674142767680209,
          0.22857399908874904,
          -0.2384705264177018
         ],
         "z": [
          0.0322392371665918,
          -0.01377320243519124,
          -0.08932211133512515
         ]
        },
        {
         "hovertemplate": "class=Fosicard<br>PC1=%{x}<br>PC2=%{y}<br>PC3=%{z}<extra></extra>",
         "legendgroup": "Fosicard",
         "marker": {
          "color": "#EF553B",
          "symbol": "circle"
         },
         "mode": "markers",
         "name": "Fosicard",
         "scene": "scene",
         "showlegend": true,
         "type": "scatter3d",
         "x": [
          0.0006769996526829439,
          -0.18916682051719363,
          -0.13918092052336392,
          0.14699359658603975
         ],
         "y": [
          -0.1451374996410689,
          0.012000416498823715,
          -0.11949150636465802,
          -0.07703422988122635
         ],
         "z": [
          0.12900974231841375,
          -0.07802437339418826,
          -0.041350384631819996,
          0.20955762140029258
         ]
        },
        {
         "hovertemplate": "class=Cabazitaxel<br>PC1=%{x}<br>PC2=%{y}<br>PC3=%{z}<extra></extra>",
         "legendgroup": "Cabazitaxel",
         "marker": {
          "color": "#00cc96",
          "symbol": "circle"
         },
         "mode": "markers",
         "name": "Cabazitaxel",
         "scene": "scene",
         "showlegend": true,
         "type": "scatter3d",
         "x": [
          -0.07579572714683322
         ],
         "y": [
          -0.25532454876194816
         ],
         "z": [
          -0.06747138583905864
         ]
        },
        {
         "hovertemplate": "class=IMATINIB<br>PC1=%{x}<br>PC2=%{y}<br>PC3=%{z}<extra></extra>",
         "legendgroup": "IMATINIB",
         "marker": {
          "color": "#ab63fa",
          "symbol": "circle"
         },
         "mode": "markers",
         "name": "IMATINIB",
         "scene": "scene",
         "showlegend": true,
         "type": "scatter3d",
         "x": [
          -0.17651964171756301
         ],
         "y": [
          -0.03430406244872187
         ],
         "z": [
          -0.07945705594357191
         ]
        },
        {
         "hovertemplate": "class=Vincristine<br>PC1=%{x}<br>PC2=%{y}<br>PC3=%{z}<extra></extra>",
         "legendgroup": "Vincristine",
         "marker": {
          "color": "#FFA15A",
          "symbol": "circle"
         },
         "mode": "markers",
         "name": "Vincristine",
         "scene": "scene",
         "showlegend": true,
         "type": "scatter3d",
         "x": [
          -0.01884773945570751,
          0.1929659078276433
         ],
         "y": [
          0.11144079767886818,
          -0.17606489596675845
         ],
         "z": [
          0.1943209868759836,
          -0.05195510108865245
         ]
        },
        {
         "hovertemplate": "class=Indovasin<br>PC1=%{x}<br>PC2=%{y}<br>PC3=%{z}<extra></extra>",
         "legendgroup": "Indovasin",
         "marker": {
          "color": "#19d3f3",
          "symbol": "circle"
         },
         "mode": "markers",
         "name": "Indovasin",
         "scene": "scene",
         "showlegend": true,
         "type": "scatter3d",
         "x": [
          -0.19873931701317765
         ],
         "y": [
          -0.09628904322234472
         ],
         "z": [
          -0.12392865859253518
         ]
        },
        {
         "hovertemplate": "class=Ofloxacin<br>PC1=%{x}<br>PC2=%{y}<br>PC3=%{z}<extra></extra>",
         "legendgroup": "Ofloxacin",
         "marker": {
          "color": "#FF6692",
          "symbol": "circle"
         },
         "mode": "markers",
         "name": "Ofloxacin",
         "scene": "scene",
         "showlegend": true,
         "type": "scatter3d",
         "x": [
          -0.14961722453736148
         ],
         "y": [
          0.14947917463471172
         ],
         "z": [
          -0.029236474801120665
         ]
        },
        {
         "hovertemplate": "class=VINORELBINE<br>PC1=%{x}<br>PC2=%{y}<br>PC3=%{z}<extra></extra>",
         "legendgroup": "VINORELBINE",
         "marker": {
          "color": "#B6E880",
          "symbol": "circle"
         },
         "mode": "markers",
         "name": "VINORELBINE",
         "scene": "scene",
         "showlegend": true,
         "type": "scatter3d",
         "x": [
          0.2977188351171325
         ],
         "y": [
          -0.157799553612472
         ],
         "z": [
          0.09928254834832438
         ]
        },
        {
         "hovertemplate": "class=Tevagrastime<br>PC1=%{x}<br>PC2=%{y}<br>PC3=%{z}<extra></extra>",
         "legendgroup": "Tevagrastime",
         "marker": {
          "color": "#FF97FF",
          "symbol": "circle"
         },
         "mode": "markers",
         "name": "Tevagrastime",
         "scene": "scene",
         "showlegend": true,
         "type": "scatter3d",
         "x": [
          -0.1030096298294267,
          -0.10694604573887803
         ],
         "y": [
          0.048519103827421986,
          -0.09266821138571318
         ],
         "z": [
          0.06694264094528297,
          -0.08521930754861458
         ]
        },
        {
         "hovertemplate": "class=Risset<br>PC1=%{x}<br>PC2=%{y}<br>PC3=%{z}<extra></extra>",
         "legendgroup": "Risset",
         "marker": {
          "color": "#FECB52",
          "symbol": "circle"
         },
         "mode": "markers",
         "name": "Risset",
         "scene": "scene",
         "showlegend": true,
         "type": "scatter3d",
         "x": [
          0.38609927934837424,
          0.17546812098869222
         ],
         "y": [
          0.09652857912137472,
          -0.004632892205722443
         ],
         "z": [
          -0.12601075759779257,
          -0.007820514082991888
         ]
        },
        {
         "hovertemplate": "class=Zoledronate<br>PC1=%{x}<br>PC2=%{y}<br>PC3=%{z}<extra></extra>",
         "legendgroup": "Zoledronate",
         "marker": {
          "color": "#636efa",
          "symbol": "circle"
         },
         "mode": "markers",
         "name": "Zoledronate",
         "scene": "scene",
         "showlegend": true,
         "type": "scatter3d",
         "x": [
          0.03820118532288234
         ],
         "y": [
          -0.10873095422565665
         ],
         "z": [
          0.13482076279403496
         ]
        },
        {
         "hovertemplate": "class=Hepabene<br>PC1=%{x}<br>PC2=%{y}<br>PC3=%{z}<extra></extra>",
         "legendgroup": "Hepabene",
         "marker": {
          "color": "#EF553B",
          "symbol": "circle"
         },
         "mode": "markers",
         "name": "Hepabene",
         "scene": "scene",
         "showlegend": true,
         "type": "scatter3d",
         "x": [
          -0.10108677389628083
         ],
         "y": [
          0.09174996344538909
         ],
         "z": [
          0.0982143124069308
         ]
        },
        {
         "hovertemplate": "class=Fluconazole<br>PC1=%{x}<br>PC2=%{y}<br>PC3=%{z}<extra></extra>",
         "legendgroup": "Fluconazole",
         "marker": {
          "color": "#00cc96",
          "symbol": "circle"
         },
         "mode": "markers",
         "name": "Fluconazole",
         "scene": "scene",
         "showlegend": true,
         "type": "scatter3d",
         "x": [
          -0.0984435639007824,
          -0.15298527857252284
         ],
         "y": [
          -0.14284258445133297,
          -0.02033720151600488
         ],
         "z": [
          0.014813968225679939,
          -0.031585717912290354
         ]
        },
        {
         "hovertemplate": "class=Trimetazidine<br>PC1=%{x}<br>PC2=%{y}<br>PC3=%{z}<extra></extra>",
         "legendgroup": "Trimetazidine",
         "marker": {
          "color": "#ab63fa",
          "symbol": "circle"
         },
         "mode": "markers",
         "name": "Trimetazidine",
         "scene": "scene",
         "showlegend": true,
         "type": "scatter3d",
         "x": [
          -0.0675929527463868,
          -0.19500542247535813
         ],
         "y": [
          -0.22614741427835608,
          0.1113146387992728
         ],
         "z": [
          -0.05439848589548779,
          0.13935311092639535
         ]
        },
        {
         "hovertemplate": "class=Dezrinit<br>PC1=%{x}<br>PC2=%{y}<br>PC3=%{z}<extra></extra>",
         "legendgroup": "Dezrinit",
         "marker": {
          "color": "#FFA15A",
          "symbol": "circle"
         },
         "mode": "markers",
         "name": "Dezrinit",
         "scene": "scene",
         "showlegend": true,
         "type": "scatter3d",
         "x": [
          -0.17751004881383456
         ],
         "y": [
          -0.13528198912840786
         ],
         "z": [
          -0.12320400052212375
         ]
        },
        {
         "hovertemplate": "class=Zincteral<br>PC1=%{x}<br>PC2=%{y}<br>PC3=%{z}<extra></extra>",
         "legendgroup": "Zincteral",
         "marker": {
          "color": "#19d3f3",
          "symbol": "circle"
         },
         "mode": "markers",
         "name": "Zincteral",
         "scene": "scene",
         "showlegend": true,
         "type": "scatter3d",
         "x": [
          -0.17085962930453447
         ],
         "y": [
          -0.1648096053517494
         ],
         "z": [
          -0.20369862355069987
         ]
        },
        {
         "hovertemplate": "class=TroxActive<br>PC1=%{x}<br>PC2=%{y}<br>PC3=%{z}<extra></extra>",
         "legendgroup": "TroxActive",
         "marker": {
          "color": "#FF6692",
          "symbol": "circle"
         },
         "mode": "markers",
         "name": "TroxActive",
         "scene": "scene",
         "showlegend": true,
         "type": "scatter3d",
         "x": [
          0.01161525529942913
         ],
         "y": [
          0.13645784790193644
         ],
         "z": [
          0.1911616955273001
         ]
        },
        {
         "hovertemplate": "class=Desal<br>PC1=%{x}<br>PC2=%{y}<br>PC3=%{z}<extra></extra>",
         "legendgroup": "Desal",
         "marker": {
          "color": "#B6E880",
          "symbol": "circle"
         },
         "mode": "markers",
         "name": "Desal",
         "scene": "scene",
         "showlegend": true,
         "type": "scatter3d",
         "x": [
          -0.12318882246403964
         ],
         "y": [
          -0.12334023925203134
         ],
         "z": [
          -0.07647496800998507
         ]
        },
        {
         "hovertemplate": "class=Lopirel<br>PC1=%{x}<br>PC2=%{y}<br>PC3=%{z}<extra></extra>",
         "legendgroup": "Lopirel",
         "marker": {
          "color": "#FF97FF",
          "symbol": "circle"
         },
         "mode": "markers",
         "name": "Lopirel",
         "scene": "scene",
         "showlegend": true,
         "type": "scatter3d",
         "x": [
          -0.05989354644621183
         ],
         "y": [
          -0.2153438386584011
         ],
         "z": [
          -0.06154676384216705
         ]
        },
        {
         "hovertemplate": "class=Cetirizine<br>PC1=%{x}<br>PC2=%{y}<br>PC3=%{z}<extra></extra>",
         "legendgroup": "Cetirizine",
         "marker": {
          "color": "#FECB52",
          "symbol": "circle"
         },
         "mode": "markers",
         "name": "Cetirizine",
         "scene": "scene",
         "showlegend": true,
         "type": "scatter3d",
         "x": [
          -0.04593385885502211
         ],
         "y": [
          0.07311935770184042
         ],
         "z": [
          0.2092039924031133
         ]
        },
        {
         "hovertemplate": "class=Troxevasin<br>PC1=%{x}<br>PC2=%{y}<br>PC3=%{z}<extra></extra>",
         "legendgroup": "Troxevasin",
         "marker": {
          "color": "#636efa",
          "symbol": "circle"
         },
         "mode": "markers",
         "name": "Troxevasin",
         "scene": "scene",
         "showlegend": true,
         "type": "scatter3d",
         "x": [
          0.3212187842227997,
          0.2672887890196552,
          0.22245395791384473
         ],
         "y": [
          0.07022894754653132,
          -0.1277356228316793,
          -0.21606870346492463
         ],
         "z": [
          -0.12865089729179763,
          0.01404622218906813,
          0.03073171658140168
         ]
        },
        {
         "hovertemplate": "class=Finasteride<br>PC1=%{x}<br>PC2=%{y}<br>PC3=%{z}<extra></extra>",
         "legendgroup": "Finasteride",
         "marker": {
          "color": "#EF553B",
          "symbol": "circle"
         },
         "mode": "markers",
         "name": "Finasteride",
         "scene": "scene",
         "showlegend": true,
         "type": "scatter3d",
         "x": [
          -0.19976954170053488
         ],
         "y": [
          0.11360265079127264
         ],
         "z": [
          0.17662824873269783
         ]
        },
        {
         "hovertemplate": "class=Levodopa/Benserazide<br>PC1=%{x}<br>PC2=%{y}<br>PC3=%{z}<extra></extra>",
         "legendgroup": "Levodopa/Benserazide",
         "marker": {
          "color": "#00cc96",
          "symbol": "circle"
         },
         "mode": "markers",
         "name": "Levodopa/Benserazide",
         "scene": "scene",
         "showlegend": true,
         "type": "scatter3d",
         "x": [
          -0.17166441766532944,
          0.36415827050152166
         ],
         "y": [
          0.1525525690351446,
          0.23879130428981
         ],
         "z": [
          0.06781665727069164,
          -0.1400560597328417
         ]
        },
        {
         "hovertemplate": "class=Lonquex<br>PC1=%{x}<br>PC2=%{y}<br>PC3=%{z}<extra></extra>",
         "legendgroup": "Lonquex",
         "marker": {
          "color": "#ab63fa",
          "symbol": "circle"
         },
         "mode": "markers",
         "name": "Lonquex",
         "scene": "scene",
         "showlegend": true,
         "type": "scatter3d",
         "x": [
          0.28875295529473444
         ],
         "y": [
          0.22281534788442536
         ],
         "z": [
          0.0043799147451051654
         ]
        },
        {
         "hovertemplate": "class=Velafax<br>PC1=%{x}<br>PC2=%{y}<br>PC3=%{z}<extra></extra>",
         "legendgroup": "Velafax",
         "marker": {
          "color": "#FFA15A",
          "symbol": "circle"
         },
         "mode": "markers",
         "name": "Velafax",
         "scene": "scene",
         "showlegend": true,
         "type": "scatter3d",
         "x": [
          -0.1749577961835678,
          -0.16693457448496513
         ],
         "y": [
          0.14551352308171472,
          -0.08009411636188873
         ],
         "z": [
          0.04539521489371491,
          -0.14259388222907515
         ]
        },
        {
         "hovertemplate": "class=Spasmalgon<br>PC1=%{x}<br>PC2=%{y}<br>PC3=%{z}<extra></extra>",
         "legendgroup": "Spasmalgon",
         "marker": {
          "color": "#19d3f3",
          "symbol": "circle"
         },
         "mode": "markers",
         "name": "Spasmalgon",
         "scene": "scene",
         "showlegend": true,
         "type": "scatter3d",
         "x": [
          0.24268369589660707
         ],
         "y": [
          -0.1780253719142501
         ],
         "z": [
          0.19083600826255437
         ]
        },
        {
         "hovertemplate": "class=Clobir<br>PC1=%{x}<br>PC2=%{y}<br>PC3=%{z}<extra></extra>",
         "legendgroup": "Clobir",
         "marker": {
          "color": "#FF6692",
          "symbol": "circle"
         },
         "mode": "markers",
         "name": "Clobir",
         "scene": "scene",
         "showlegend": true,
         "type": "scatter3d",
         "x": [
          -0.17228675729320558
         ],
         "y": [
          0.07020469116613136
         ],
         "z": [
          0.03753388889773627
         ]
        },
        {
         "hovertemplate": "class=Nimesulide<br>PC1=%{x}<br>PC2=%{y}<br>PC3=%{z}<extra></extra>",
         "legendgroup": "Nimesulide",
         "marker": {
          "color": "#B6E880",
          "symbol": "circle"
         },
         "mode": "markers",
         "name": "Nimesulide",
         "scene": "scene",
         "showlegend": true,
         "type": "scatter3d",
         "x": [
          0.28563871173043914
         ],
         "y": [
          0.18406314683390512
         ],
         "z": [
          -0.07602529571471331
         ]
        },
        {
         "hovertemplate": "class=Pramipexole<br>PC1=%{x}<br>PC2=%{y}<br>PC3=%{z}<extra></extra>",
         "legendgroup": "Pramipexole",
         "marker": {
          "color": "#FF97FF",
          "symbol": "circle"
         },
         "mode": "markers",
         "name": "Pramipexole",
         "scene": "scene",
         "showlegend": true,
         "type": "scatter3d",
         "x": [
          -0.1925562272917482,
          0.060641124214288224
         ],
         "y": [
          -0.10395676333571605,
          -0.14192414371669054
         ],
         "z": [
          -0.10824078635932002,
          0.14381187150732822
         ]
        },
        {
         "hovertemplate": "class=Valgancyclovir<br>PC1=%{x}<br>PC2=%{y}<br>PC3=%{z}<extra></extra>",
         "legendgroup": "Valgancyclovir",
         "marker": {
          "color": "#FECB52",
          "symbol": "circle"
         },
         "mode": "markers",
         "name": "Valgancyclovir",
         "scene": "scene",
         "showlegend": true,
         "type": "scatter3d",
         "x": [
          0.14861639046232222
         ],
         "y": [
          -0.017069781939329735
         ],
         "z": [
          0.02381737570843314
         ]
        },
        {
         "hovertemplate": "class=Noojeron<br>PC1=%{x}<br>PC2=%{y}<br>PC3=%{z}<extra></extra>",
         "legendgroup": "Noojeron",
         "marker": {
          "color": "#636efa",
          "symbol": "circle"
         },
         "mode": "markers",
         "name": "Noojeron",
         "scene": "scene",
         "showlegend": true,
         "type": "scatter3d",
         "x": [
          0.3334719606357333
         ],
         "y": [
          -0.05388069687126124
         ],
         "z": [
          -0.013444846745350654
         ]
        },
        {
         "hovertemplate": "class=Clofarabine<br>PC1=%{x}<br>PC2=%{y}<br>PC3=%{z}<extra></extra>",
         "legendgroup": "Clofarabine",
         "marker": {
          "color": "#EF553B",
          "symbol": "circle"
         },
         "mode": "markers",
         "name": "Clofarabine",
         "scene": "scene",
         "showlegend": true,
         "type": "scatter3d",
         "x": [
          0.26955590741019986
         ],
         "y": [
          -0.016519603244584454
         ],
         "z": [
          -0.035484327972386126
         ]
        },
        {
         "hovertemplate": "class=Nasobec<br>PC1=%{x}<br>PC2=%{y}<br>PC3=%{z}<extra></extra>",
         "legendgroup": "Nasobec",
         "marker": {
          "color": "#00cc96",
          "symbol": "circle"
         },
         "mode": "markers",
         "name": "Nasobec",
         "scene": "scene",
         "showlegend": true,
         "type": "scatter3d",
         "x": [
          0.2132255713242662
         ],
         "y": [
          -0.14324892897591204
         ],
         "z": [
          0.21758254601597363
         ]
        },
        {
         "hovertemplate": "class=Colistin<br>PC1=%{x}<br>PC2=%{y}<br>PC3=%{z}<extra></extra>",
         "legendgroup": "Colistin",
         "marker": {
          "color": "#ab63fa",
          "symbol": "circle"
         },
         "mode": "markers",
         "name": "Colistin",
         "scene": "scene",
         "showlegend": true,
         "type": "scatter3d",
         "x": [
          -0.011267846711567905
         ],
         "y": [
          -0.1823681595993329
         ],
         "z": [
          0.13748597177498612
         ]
        },
        {
         "hovertemplate": "class=Plizil<br>PC1=%{x}<br>PC2=%{y}<br>PC3=%{z}<extra></extra>",
         "legendgroup": "Plizil",
         "marker": {
          "color": "#FFA15A",
          "symbol": "circle"
         },
         "mode": "markers",
         "name": "Plizil",
         "scene": "scene",
         "showlegend": true,
         "type": "scatter3d",
         "x": [
          -0.1337947857391057
         ],
         "y": [
          -0.2113953006420572
         ],
         "z": [
          -0.036141747873782964
         ]
        },
        {
         "hovertemplate": "class=Sindaxel<br>PC1=%{x}<br>PC2=%{y}<br>PC3=%{z}<extra></extra>",
         "legendgroup": "Sindaxel",
         "marker": {
          "color": "#19d3f3",
          "symbol": "circle"
         },
         "mode": "markers",
         "name": "Sindaxel",
         "scene": "scene",
         "showlegend": true,
         "type": "scatter3d",
         "x": [
          -0.09830340674972533
         ],
         "y": [
          0.024063139288663972
         ],
         "z": [
          0.0863974994239513
         ]
        },
        {
         "hovertemplate": "class=Clopidogrel<br>PC1=%{x}<br>PC2=%{y}<br>PC3=%{z}<extra></extra>",
         "legendgroup": "Clopidogrel",
         "marker": {
          "color": "#FF6692",
          "symbol": "circle"
         },
         "mode": "markers",
         "name": "Clopidogrel",
         "scene": "scene",
         "showlegend": true,
         "type": "scatter3d",
         "x": [
          -0.19576601614366917
         ],
         "y": [
          0.10689102433451926
         ],
         "z": [
          0.15543908008157736
         ]
        },
        {
         "hovertemplate": "class=Indapamide<br>PC1=%{x}<br>PC2=%{y}<br>PC3=%{z}<extra></extra>",
         "legendgroup": "Indapamide",
         "marker": {
          "color": "#B6E880",
          "symbol": "circle"
         },
         "mode": "markers",
         "name": "Indapamide",
         "scene": "scene",
         "showlegend": true,
         "type": "scatter3d",
         "x": [
          -0.17686870814871852,
          -0.11331700591466713
         ],
         "y": [
          -0.11624769169584624,
          -0.22754234162801923
         ],
         "z": [
          -0.12777047337158806,
          -0.005307325675806107
         ]
        },
        {
         "hovertemplate": "class=Isoprinosine<br>PC1=%{x}<br>PC2=%{y}<br>PC3=%{z}<extra></extra>",
         "legendgroup": "Isoprinosine",
         "marker": {
          "color": "#FF97FF",
          "symbol": "circle"
         },
         "mode": "markers",
         "name": "Isoprinosine",
         "scene": "scene",
         "showlegend": true,
         "type": "scatter3d",
         "x": [
          -0.1474845640900817
         ],
         "y": [
          -0.06696688152087477
         ],
         "z": [
          0.06484520502912602
         ]
        },
        {
         "hovertemplate": "class=Levocetirizine<br>PC1=%{x}<br>PC2=%{y}<br>PC3=%{z}<extra></extra>",
         "legendgroup": "Levocetirizine",
         "marker": {
          "color": "#FECB52",
          "symbol": "circle"
         },
         "mode": "markers",
         "name": "Levocetirizine",
         "scene": "scene",
         "showlegend": true,
         "type": "scatter3d",
         "x": [
          -0.16493489162987413
         ],
         "y": [
          0.13772317325201627
         ],
         "z": [
          0.05953237298121206
         ]
        },
        {
         "hovertemplate": "class=Nebivolol<br>PC1=%{x}<br>PC2=%{y}<br>PC3=%{z}<extra></extra>",
         "legendgroup": "Nebivolol",
         "marker": {
          "color": "#636efa",
          "symbol": "circle"
         },
         "mode": "markers",
         "name": "Nebivolol",
         "scene": "scene",
         "showlegend": true,
         "type": "scatter3d",
         "x": [
          -0.19574380918180442
         ],
         "y": [
          0.18026089705647527
         ],
         "z": [
          -0.02550627616431184
         ]
        },
        {
         "hovertemplate": "class=Cyproterone<br>PC1=%{x}<br>PC2=%{y}<br>PC3=%{z}<extra></extra>",
         "legendgroup": "Cyproterone",
         "marker": {
          "color": "#EF553B",
          "symbol": "circle"
         },
         "mode": "markers",
         "name": "Cyproterone",
         "scene": "scene",
         "showlegend": true,
         "type": "scatter3d",
         "x": [
          0.29501755343076763
         ],
         "y": [
          0.2631373603539108
         ],
         "z": [
          -0.058314509898960525
         ]
        },
        {
         "hovertemplate": "class=Terbinafine<br>PC1=%{x}<br>PC2=%{y}<br>PC3=%{z}<extra></extra>",
         "legendgroup": "Terbinafine",
         "marker": {
          "color": "#00cc96",
          "symbol": "circle"
         },
         "mode": "markers",
         "name": "Terbinafine",
         "scene": "scene",
         "showlegend": true,
         "type": "scatter3d",
         "x": [
          -0.1522161292138092
         ],
         "y": [
          -0.08903287001928704
         ],
         "z": [
          -0.12363313310896816
         ]
        },
        {
         "hovertemplate": "class=Losartan<br>PC1=%{x}<br>PC2=%{y}<br>PC3=%{z}<extra></extra>",
         "legendgroup": "Losartan",
         "marker": {
          "color": "#ab63fa",
          "symbol": "circle"
         },
         "mode": "markers",
         "name": "Losartan",
         "scene": "scene",
         "showlegend": true,
         "type": "scatter3d",
         "x": [
          -0.09974485841807701
         ],
         "y": [
          -0.007534449775297657
         ],
         "z": [
          0.14266591240813845
         ]
        },
        {
         "hovertemplate": "class=Mycophenolate<br>PC1=%{x}<br>PC2=%{y}<br>PC3=%{z}<extra></extra>",
         "legendgroup": "Mycophenolate",
         "marker": {
          "color": "#FFA15A",
          "symbol": "circle"
         },
         "mode": "markers",
         "name": "Mycophenolate",
         "scene": "scene",
         "showlegend": true,
         "type": "scatter3d",
         "x": [
          0.25129638825318384
         ],
         "y": [
          -0.054700770343610816
         ],
         "z": [
          -0.05104676363685244
         ]
        },
        {
         "hovertemplate": "class=Triampur<br>PC1=%{x}<br>PC2=%{y}<br>PC3=%{z}<extra></extra>",
         "legendgroup": "Triampur",
         "marker": {
          "color": "#19d3f3",
          "symbol": "circle"
         },
         "mode": "markers",
         "name": "Triampur",
         "scene": "scene",
         "showlegend": true,
         "type": "scatter3d",
         "x": [
          -0.23339457761119173
         ],
         "y": [
          -0.03990862203694891
         ],
         "z": [
          -0.048742678587583035
         ]
        },
        {
         "hovertemplate": "class=Leukovorin<br>PC1=%{x}<br>PC2=%{y}<br>PC3=%{z}<extra></extra>",
         "legendgroup": "Leukovorin",
         "marker": {
          "color": "#FF6692",
          "symbol": "circle"
         },
         "mode": "markers",
         "name": "Leukovorin",
         "scene": "scene",
         "showlegend": true,
         "type": "scatter3d",
         "x": [
          -0.21266897165965418
         ],
         "y": [
          -0.10979208970498375
         ],
         "z": [
          -0.13074459433535685
         ]
        }
       ],
       "layout": {
        "legend": {
         "title": {
          "text": "class"
         },
         "tracegroupgap": 0
        },
        "scene": {
         "domain": {
          "x": [
           0,
           1
          ],
          "y": [
           0,
           1
          ]
         },
         "xaxis": {
          "title": {
           "text": "PC1"
          }
         },
         "yaxis": {
          "title": {
           "text": "PC2"
          }
         },
         "zaxis": {
          "title": {
           "text": "PC3"
          }
         }
        },
        "template": {
         "data": {
          "bar": [
           {
            "error_x": {
             "color": "#2a3f5f"
            },
            "error_y": {
             "color": "#2a3f5f"
            },
            "marker": {
             "line": {
              "color": "#E5ECF6",
              "width": 0.5
             },
             "pattern": {
              "fillmode": "overlay",
              "size": 10,
              "solidity": 0.2
             }
            },
            "type": "bar"
           }
          ],
          "barpolar": [
           {
            "marker": {
             "line": {
              "color": "#E5ECF6",
              "width": 0.5
             },
             "pattern": {
              "fillmode": "overlay",
              "size": 10,
              "solidity": 0.2
             }
            },
            "type": "barpolar"
           }
          ],
          "carpet": [
           {
            "aaxis": {
             "endlinecolor": "#2a3f5f",
             "gridcolor": "white",
             "linecolor": "white",
             "minorgridcolor": "white",
             "startlinecolor": "#2a3f5f"
            },
            "baxis": {
             "endlinecolor": "#2a3f5f",
             "gridcolor": "white",
             "linecolor": "white",
             "minorgridcolor": "white",
             "startlinecolor": "#2a3f5f"
            },
            "type": "carpet"
           }
          ],
          "choropleth": [
           {
            "colorbar": {
             "outlinewidth": 0,
             "ticks": ""
            },
            "type": "choropleth"
           }
          ],
          "contour": [
           {
            "colorbar": {
             "outlinewidth": 0,
             "ticks": ""
            },
            "colorscale": [
             [
              0,
              "#0d0887"
             ],
             [
              0.1111111111111111,
              "#46039f"
             ],
             [
              0.2222222222222222,
              "#7201a8"
             ],
             [
              0.3333333333333333,
              "#9c179e"
             ],
             [
              0.4444444444444444,
              "#bd3786"
             ],
             [
              0.5555555555555556,
              "#d8576b"
             ],
             [
              0.6666666666666666,
              "#ed7953"
             ],
             [
              0.7777777777777778,
              "#fb9f3a"
             ],
             [
              0.8888888888888888,
              "#fdca26"
             ],
             [
              1,
              "#f0f921"
             ]
            ],
            "type": "contour"
           }
          ],
          "contourcarpet": [
           {
            "colorbar": {
             "outlinewidth": 0,
             "ticks": ""
            },
            "type": "contourcarpet"
           }
          ],
          "heatmap": [
           {
            "colorbar": {
             "outlinewidth": 0,
             "ticks": ""
            },
            "colorscale": [
             [
              0,
              "#0d0887"
             ],
             [
              0.1111111111111111,
              "#46039f"
             ],
             [
              0.2222222222222222,
              "#7201a8"
             ],
             [
              0.3333333333333333,
              "#9c179e"
             ],
             [
              0.4444444444444444,
              "#bd3786"
             ],
             [
              0.5555555555555556,
              "#d8576b"
             ],
             [
              0.6666666666666666,
              "#ed7953"
             ],
             [
              0.7777777777777778,
              "#fb9f3a"
             ],
             [
              0.8888888888888888,
              "#fdca26"
             ],
             [
              1,
              "#f0f921"
             ]
            ],
            "type": "heatmap"
           }
          ],
          "heatmapgl": [
           {
            "colorbar": {
             "outlinewidth": 0,
             "ticks": ""
            },
            "colorscale": [
             [
              0,
              "#0d0887"
             ],
             [
              0.1111111111111111,
              "#46039f"
             ],
             [
              0.2222222222222222,
              "#7201a8"
             ],
             [
              0.3333333333333333,
              "#9c179e"
             ],
             [
              0.4444444444444444,
              "#bd3786"
             ],
             [
              0.5555555555555556,
              "#d8576b"
             ],
             [
              0.6666666666666666,
              "#ed7953"
             ],
             [
              0.7777777777777778,
              "#fb9f3a"
             ],
             [
              0.8888888888888888,
              "#fdca26"
             ],
             [
              1,
              "#f0f921"
             ]
            ],
            "type": "heatmapgl"
           }
          ],
          "histogram": [
           {
            "marker": {
             "pattern": {
              "fillmode": "overlay",
              "size": 10,
              "solidity": 0.2
             }
            },
            "type": "histogram"
           }
          ],
          "histogram2d": [
           {
            "colorbar": {
             "outlinewidth": 0,
             "ticks": ""
            },
            "colorscale": [
             [
              0,
              "#0d0887"
             ],
             [
              0.1111111111111111,
              "#46039f"
             ],
             [
              0.2222222222222222,
              "#7201a8"
             ],
             [
              0.3333333333333333,
              "#9c179e"
             ],
             [
              0.4444444444444444,
              "#bd3786"
             ],
             [
              0.5555555555555556,
              "#d8576b"
             ],
             [
              0.6666666666666666,
              "#ed7953"
             ],
             [
              0.7777777777777778,
              "#fb9f3a"
             ],
             [
              0.8888888888888888,
              "#fdca26"
             ],
             [
              1,
              "#f0f921"
             ]
            ],
            "type": "histogram2d"
           }
          ],
          "histogram2dcontour": [
           {
            "colorbar": {
             "outlinewidth": 0,
             "ticks": ""
            },
            "colorscale": [
             [
              0,
              "#0d0887"
             ],
             [
              0.1111111111111111,
              "#46039f"
             ],
             [
              0.2222222222222222,
              "#7201a8"
             ],
             [
              0.3333333333333333,
              "#9c179e"
             ],
             [
              0.4444444444444444,
              "#bd3786"
             ],
             [
              0.5555555555555556,
              "#d8576b"
             ],
             [
              0.6666666666666666,
              "#ed7953"
             ],
             [
              0.7777777777777778,
              "#fb9f3a"
             ],
             [
              0.8888888888888888,
              "#fdca26"
             ],
             [
              1,
              "#f0f921"
             ]
            ],
            "type": "histogram2dcontour"
           }
          ],
          "mesh3d": [
           {
            "colorbar": {
             "outlinewidth": 0,
             "ticks": ""
            },
            "type": "mesh3d"
           }
          ],
          "parcoords": [
           {
            "line": {
             "colorbar": {
              "outlinewidth": 0,
              "ticks": ""
             }
            },
            "type": "parcoords"
           }
          ],
          "pie": [
           {
            "automargin": true,
            "type": "pie"
           }
          ],
          "scatter": [
           {
            "fillpattern": {
             "fillmode": "overlay",
             "size": 10,
             "solidity": 0.2
            },
            "type": "scatter"
           }
          ],
          "scatter3d": [
           {
            "line": {
             "colorbar": {
              "outlinewidth": 0,
              "ticks": ""
             }
            },
            "marker": {
             "colorbar": {
              "outlinewidth": 0,
              "ticks": ""
             }
            },
            "type": "scatter3d"
           }
          ],
          "scattercarpet": [
           {
            "marker": {
             "colorbar": {
              "outlinewidth": 0,
              "ticks": ""
             }
            },
            "type": "scattercarpet"
           }
          ],
          "scattergeo": [
           {
            "marker": {
             "colorbar": {
              "outlinewidth": 0,
              "ticks": ""
             }
            },
            "type": "scattergeo"
           }
          ],
          "scattergl": [
           {
            "marker": {
             "colorbar": {
              "outlinewidth": 0,
              "ticks": ""
             }
            },
            "type": "scattergl"
           }
          ],
          "scattermapbox": [
           {
            "marker": {
             "colorbar": {
              "outlinewidth": 0,
              "ticks": ""
             }
            },
            "type": "scattermapbox"
           }
          ],
          "scatterpolar": [
           {
            "marker": {
             "colorbar": {
              "outlinewidth": 0,
              "ticks": ""
             }
            },
            "type": "scatterpolar"
           }
          ],
          "scatterpolargl": [
           {
            "marker": {
             "colorbar": {
              "outlinewidth": 0,
              "ticks": ""
             }
            },
            "type": "scatterpolargl"
           }
          ],
          "scatterternary": [
           {
            "marker": {
             "colorbar": {
              "outlinewidth": 0,
              "ticks": ""
             }
            },
            "type": "scatterternary"
           }
          ],
          "surface": [
           {
            "colorbar": {
             "outlinewidth": 0,
             "ticks": ""
            },
            "colorscale": [
             [
              0,
              "#0d0887"
             ],
             [
              0.1111111111111111,
              "#46039f"
             ],
             [
              0.2222222222222222,
              "#7201a8"
             ],
             [
              0.3333333333333333,
              "#9c179e"
             ],
             [
              0.4444444444444444,
              "#bd3786"
             ],
             [
              0.5555555555555556,
              "#d8576b"
             ],
             [
              0.6666666666666666,
              "#ed7953"
             ],
             [
              0.7777777777777778,
              "#fb9f3a"
             ],
             [
              0.8888888888888888,
              "#fdca26"
             ],
             [
              1,
              "#f0f921"
             ]
            ],
            "type": "surface"
           }
          ],
          "table": [
           {
            "cells": {
             "fill": {
              "color": "#EBF0F8"
             },
             "line": {
              "color": "white"
             }
            },
            "header": {
             "fill": {
              "color": "#C8D4E3"
             },
             "line": {
              "color": "white"
             }
            },
            "type": "table"
           }
          ]
         },
         "layout": {
          "annotationdefaults": {
           "arrowcolor": "#2a3f5f",
           "arrowhead": 0,
           "arrowwidth": 1
          },
          "autotypenumbers": "strict",
          "coloraxis": {
           "colorbar": {
            "outlinewidth": 0,
            "ticks": ""
           }
          },
          "colorscale": {
           "diverging": [
            [
             0,
             "#8e0152"
            ],
            [
             0.1,
             "#c51b7d"
            ],
            [
             0.2,
             "#de77ae"
            ],
            [
             0.3,
             "#f1b6da"
            ],
            [
             0.4,
             "#fde0ef"
            ],
            [
             0.5,
             "#f7f7f7"
            ],
            [
             0.6,
             "#e6f5d0"
            ],
            [
             0.7,
             "#b8e186"
            ],
            [
             0.8,
             "#7fbc41"
            ],
            [
             0.9,
             "#4d9221"
            ],
            [
             1,
             "#276419"
            ]
           ],
           "sequential": [
            [
             0,
             "#0d0887"
            ],
            [
             0.1111111111111111,
             "#46039f"
            ],
            [
             0.2222222222222222,
             "#7201a8"
            ],
            [
             0.3333333333333333,
             "#9c179e"
            ],
            [
             0.4444444444444444,
             "#bd3786"
            ],
            [
             0.5555555555555556,
             "#d8576b"
            ],
            [
             0.6666666666666666,
             "#ed7953"
            ],
            [
             0.7777777777777778,
             "#fb9f3a"
            ],
            [
             0.8888888888888888,
             "#fdca26"
            ],
            [
             1,
             "#f0f921"
            ]
           ],
           "sequentialminus": [
            [
             0,
             "#0d0887"
            ],
            [
             0.1111111111111111,
             "#46039f"
            ],
            [
             0.2222222222222222,
             "#7201a8"
            ],
            [
             0.3333333333333333,
             "#9c179e"
            ],
            [
             0.4444444444444444,
             "#bd3786"
            ],
            [
             0.5555555555555556,
             "#d8576b"
            ],
            [
             0.6666666666666666,
             "#ed7953"
            ],
            [
             0.7777777777777778,
             "#fb9f3a"
            ],
            [
             0.8888888888888888,
             "#fdca26"
            ],
            [
             1,
             "#f0f921"
            ]
           ]
          },
          "colorway": [
           "#636efa",
           "#EF553B",
           "#00cc96",
           "#ab63fa",
           "#FFA15A",
           "#19d3f3",
           "#FF6692",
           "#B6E880",
           "#FF97FF",
           "#FECB52"
          ],
          "font": {
           "color": "#2a3f5f"
          },
          "geo": {
           "bgcolor": "white",
           "lakecolor": "white",
           "landcolor": "#E5ECF6",
           "showlakes": true,
           "showland": true,
           "subunitcolor": "white"
          },
          "hoverlabel": {
           "align": "left"
          },
          "hovermode": "closest",
          "mapbox": {
           "style": "light"
          },
          "paper_bgcolor": "white",
          "plot_bgcolor": "#E5ECF6",
          "polar": {
           "angularaxis": {
            "gridcolor": "white",
            "linecolor": "white",
            "ticks": ""
           },
           "bgcolor": "#E5ECF6",
           "radialaxis": {
            "gridcolor": "white",
            "linecolor": "white",
            "ticks": ""
           }
          },
          "scene": {
           "xaxis": {
            "backgroundcolor": "#E5ECF6",
            "gridcolor": "white",
            "gridwidth": 2,
            "linecolor": "white",
            "showbackground": true,
            "ticks": "",
            "zerolinecolor": "white"
           },
           "yaxis": {
            "backgroundcolor": "#E5ECF6",
            "gridcolor": "white",
            "gridwidth": 2,
            "linecolor": "white",
            "showbackground": true,
            "ticks": "",
            "zerolinecolor": "white"
           },
           "zaxis": {
            "backgroundcolor": "#E5ECF6",
            "gridcolor": "white",
            "gridwidth": 2,
            "linecolor": "white",
            "showbackground": true,
            "ticks": "",
            "zerolinecolor": "white"
           }
          },
          "shapedefaults": {
           "line": {
            "color": "#2a3f5f"
           }
          },
          "ternary": {
           "aaxis": {
            "gridcolor": "white",
            "linecolor": "white",
            "ticks": ""
           },
           "baxis": {
            "gridcolor": "white",
            "linecolor": "white",
            "ticks": ""
           },
           "bgcolor": "#E5ECF6",
           "caxis": {
            "gridcolor": "white",
            "linecolor": "white",
            "ticks": ""
           }
          },
          "title": {
           "x": 0.05
          },
          "xaxis": {
           "automargin": true,
           "gridcolor": "white",
           "linecolor": "white",
           "ticks": "",
           "title": {
            "standoff": 15
           },
           "zerolinecolor": "white",
           "zerolinewidth": 2
          },
          "yaxis": {
           "automargin": true,
           "gridcolor": "white",
           "linecolor": "white",
           "ticks": "",
           "title": {
            "standoff": 15
           },
           "zerolinecolor": "white",
           "zerolinewidth": 2
          }
         }
        },
        "title": {
         "text": "3D scatter plot of medicines"
        }
       }
      }
     },
     "metadata": {},
     "output_type": "display_data"
    }
   ],
   "source": [
    "import pandas as pd\n",
    "from sklearn.decomposition import PCA\n",
    "import plotly.express as px\n",
    "\n",
    "# Extract embeddings and perform PCA\n",
    "embeddings = df.drop('class', axis=1).values\n",
    "pca = PCA(n_components=3)\n",
    "embeddings_pca = pca.fit_transform(embeddings)\n",
    "\n",
    "# Attach PCA results to the DataFrame\n",
    "df[['x', 'y', 'z']] = pd.DataFrame(embeddings_pca, index=df.index)\n",
    "\n",
    "# Create interactive 3D scatter plot using plotly\n",
    "fig = px.scatter_3d(df, x='x', y='y', z='z', color='class', \n",
    "                    labels={'x':'PC1', 'y':'PC2', 'z':'PC3'}, \n",
    "                    title=\"3D scatter plot of medicines\")\n",
    "fig.show()\n"
   ]
  }
 ],
 "metadata": {
  "kernelspec": {
   "display_name": "hierarchicalforecast",
   "language": "python",
   "name": "python3"
  },
  "language_info": {
   "codemirror_mode": {
    "name": "ipython",
    "version": 3
   },
   "file_extension": ".py",
   "mimetype": "text/x-python",
   "name": "python",
   "nbconvert_exporter": "python",
   "pygments_lexer": "ipython3",
   "version": "3.11.5"
  },
  "orig_nbformat": 4
 },
 "nbformat": 4,
 "nbformat_minor": 2
}
