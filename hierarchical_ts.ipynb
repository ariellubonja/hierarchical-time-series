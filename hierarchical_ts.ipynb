{
 "cells": [
  {
   "cell_type": "markdown",
   "id": "c0a54210",
   "metadata": {
    "id": "c0a54210"
   },
   "source": [
    "## Upload data under data/ and hts_utils.py under utils/"
   ]
  },
  {
   "cell_type": "markdown",
   "id": "jcykmCvNUmgI",
   "metadata": {
    "id": "jcykmCvNUmgI"
   },
   "source": [
    "This notebook was heavily modified from here:\n",
    "\n",
    "<a href=\"https://colab.research.google.com/github/Nixtla/hierarchicalforecast/blob/main/nbs/examples/NonNegativeReconciliation.ipynb\" target=\"_parent\"><img src=\"https://colab.research.google.com/assets/colab-badge.svg\" alt=\"Open In Colab\"/></a>"
   ]
  },
  {
   "cell_type": "code",
   "execution_count": 1,
   "id": "7f777bdd-dff4-4bc0-8529-b492874de6f0",
   "metadata": {
    "id": "7f777bdd-dff4-4bc0-8529-b492874de6f0"
   },
   "outputs": [],
   "source": [
    "# %%capture\n",
    "# !pip install hierarchicalforecast statsforecast"
   ]
  },
  {
   "cell_type": "code",
   "execution_count": 2,
   "id": "51af708b",
   "metadata": {
    "id": "51af708b"
   },
   "outputs": [
    {
     "name": "stderr",
     "output_type": "stream",
     "text": [
      "/Users/ariellubonja/anaconda3/envs/hierarchicalforecast/lib/python3.8/site-packages/statsforecast/core.py:21: TqdmExperimentalWarning: Using `tqdm.autonotebook.tqdm` in notebook mode. Use `tqdm.tqdm` instead to force console mode (e.g. in jupyter console)\n",
      "  from tqdm.autonotebook import tqdm\n"
     ]
    }
   ],
   "source": [
    "import numpy as np\n",
    "import pandas as pd\n",
    "\n",
    "from utils.hts_eda_utils import *\n",
    "\n",
    "from hierarchicalforecast.utils import HierarchicalPlot\n",
    "from statsforecast.models import * # ARIMA, ETS, etc.\n",
    "from statsforecast.core import StatsForecast\n",
    "\n",
    "# TODO TopDown() reconciler causes KeyError 'ETS, Naive'. Same with Empirical Risk Minimization. Why?\n",
    "from hierarchicalforecast.methods import * # Reconcialiation methods: BottomUp, TopDown, MinTrace etc.\n",
    "from hierarchicalforecast.core import HierarchicalReconciliation\n",
    "\n",
    "from hierarchicalforecast.evaluation import HierarchicalEvaluation"
   ]
  },
  {
   "cell_type": "code",
   "execution_count": 3,
   "id": "AZaCmPwQTsQW",
   "metadata": {
    "id": "AZaCmPwQTsQW"
   },
   "outputs": [
    {
     "name": "stderr",
     "output_type": "stream",
     "text": [
      "/Users/ariellubonja/anaconda3/envs/hierarchicalforecast/lib/python3.8/site-packages/statsforecast/models.py:732: FutureWarning: `ETS` will be deprecated in future versions of `StatsForecast`. Please use `AutoETS` instead.\n",
      "  ETS._warn()\n"
     ]
    }
   ],
   "source": [
    "# dataset subset to use? # Use full initially\n",
    "#     deal_w_zeros_method = remove_zero_columns(df, any_or_all='any')\n",
    "\n",
    "SELECT_TOP_K_PRODUCTS = None # None = keep all\n",
    "\n",
    "\n",
    "# CHOOSE TIME SERIES METHODS HERE! https://nixtla.github.io/statsforecast/src/core/models_intro.html\n",
    "TSModels = [\n",
    "    ETS(season_length=7, model='ZAA'),\n",
    "    Naive(),\n",
    "    AutoETS(season_length=7, model='ZAA'), # I think this is newer version of ETS()\n",
    "    ARIMA(),\n",
    "    SeasonalExponentialSmoothingOptimized(season_length=7),\n",
    "    AutoRegressive(lags=6),\n",
    "    RandomWalkWithDrift()\n",
    "    ]\n",
    "\n",
    "# https://nixtla.github.io/hierarchicalforecast/methods.html\n",
    "reconciliation_methods = [\n",
    "    BottomUp(),\n",
    "    TopDown(method='forecast_proportions'), # 'average_proportions' causes KeyError below\n",
    "    MinTrace(method='wls_struct'), # Ols seems to not converge (SVD error)\n",
    "    OptimalCombination(method='wls_struct'), # Same\n",
    "    # ERM(method='closed') # Empirical Risk Minimization - KeyError\n",
    "]\n",
    "\n",
    "TIME_SERIES_FREQ = 'M'\n",
    "df = pd.read_excel('data/Quarterly_smoothing.xlsx', index_col=0)#.iloc[:,:5])"
   ]
  },
  {
   "cell_type": "code",
   "execution_count": 4,
   "id": "B88cc41sMEyr",
   "metadata": {
    "id": "B88cc41sMEyr"
   },
   "outputs": [],
   "source": [
    "dataset_hierarchy_delimiter = ' - ' # The delimiter currently used in the dataset\n",
    "HIERARCHY_DELIMITER = '_' # '_' is needed by HierarchicalForecast. Need to replace"
   ]
  },
  {
   "cell_type": "markdown",
   "id": "2a910ea0",
   "metadata": {
    "id": "2a910ea0"
   },
   "source": [
    "## 1. Load Data"
   ]
  },
  {
   "cell_type": "markdown",
   "id": "mJO3_qHO8_mN",
   "metadata": {
    "id": "mJO3_qHO8_mN"
   },
   "source": [
    "<font color='blue'>Ariel: Replace ` - ` with `_`. I think `_` is used as Hierarchy level split by HF package (not sure)</font>"
   ]
  },
  {
   "cell_type": "code",
   "execution_count": 5,
   "id": "PwL002u1FgHo",
   "metadata": {
    "id": "PwL002u1FgHo"
   },
   "outputs": [],
   "source": [
    "df.columns = df.columns.str.replace(' - ', HIERARCHY_DELIMITER) # Replace Hierarchy delimiter"
   ]
  },
  {
   "cell_type": "markdown",
   "id": "764a4aae",
   "metadata": {
    "id": "764a4aae"
   },
   "source": [
    "##### Columns of all zeros cause errors (Division by zero in Covariance calc.). Need to fix"
   ]
  },
  {
   "cell_type": "code",
   "execution_count": 6,
   "id": "71cdf49a",
   "metadata": {
    "id": "71cdf49a"
   },
   "outputs": [
    {
     "data": {
      "text/html": [
       "<div>\n",
       "<style scoped>\n",
       "    .dataframe tbody tr th:only-of-type {\n",
       "        vertical-align: middle;\n",
       "    }\n",
       "\n",
       "    .dataframe tbody tr th {\n",
       "        vertical-align: top;\n",
       "    }\n",
       "\n",
       "    .dataframe thead th {\n",
       "        text-align: right;\n",
       "    }\n",
       "</style>\n",
       "<table border=\"1\" class=\"dataframe\">\n",
       "  <thead>\n",
       "    <tr style=\"text-align: right;\">\n",
       "      <th></th>\n",
       "      <th>Дальневосточный ФО_ADRIANOL_Adrianol for adults nasal drops 10 ml #1</th>\n",
       "      <th>Дальневосточный ФО_AGALATES_Agalates tabs 0.5 mg #2</th>\n",
       "      <th>Дальневосточный ФО_AGALATES_Agalates tabs 0.5 mg #8</th>\n",
       "      <th>Дальневосточный ФО_ALMAGEL_Almagel A susp 170 ml #1</th>\n",
       "      <th>Дальневосточный ФО_ALMAGEL_Almagel Neo sachet 10 ml #10</th>\n",
       "      <th>Дальневосточный ФО_ALMAGEL_Almagel Neo susp 170 ml #1</th>\n",
       "      <th>Дальневосточный ФО_ALMAGEL_Almagel sachet 10 ml #10</th>\n",
       "      <th>Дальневосточный ФО_ALMAGEL_Almagel susp 170 ml #1</th>\n",
       "      <th>Дальневосточный ФО_ALMONT_Almont FC tabs 10 mg #28</th>\n",
       "      <th>Дальневосточный ФО_ALMONT_Almont chew tabs 4 mg #28</th>\n",
       "      <th>...</th>\n",
       "      <th>Южный ФО_VELBINE_Velbine solution for inf 10 mg/ml 5ml #1</th>\n",
       "      <th>Южный ФО_VESTIBO_Vestibo tabs 16 mg #30</th>\n",
       "      <th>Южный ФО_VESTIBO_Vestibo tabs 24 mg #30</th>\n",
       "      <th>Южный ФО_VINCRISTINE-TEVA_Vincristine-Teva lyoph for inf 1 mg/ml 1 ml #1</th>\n",
       "      <th>Южный ФО_VINCRISTINE-TEVA_Vincristine-Teva lyoph for inf 1 mg/ml 2 ml #1</th>\n",
       "      <th>Южный ФО_VINORELBINE-TEVA_VINORELBIN-TEVA 50 mg.5 ml</th>\n",
       "      <th>Южный ФО_VINORELBINE-TEVA_VINORELBINE-TEVA concentrate 10 mg.ml 1 ml</th>\n",
       "      <th>Южный ФО_ZINCTERAL_Zincteral-Teva FC tabs 124 mg #150</th>\n",
       "      <th>Южный ФО_ZINCTERAL_Zincteral-Teva FC tabs 124 mg #25</th>\n",
       "      <th>Южный ФО_ZOLEDRONAT-TEVA_Zoledronate-Teva concentrate for inf 4 mg/5ml 5 ml #1</th>\n",
       "    </tr>\n",
       "    <tr>\n",
       "      <th>Month</th>\n",
       "      <th></th>\n",
       "      <th></th>\n",
       "      <th></th>\n",
       "      <th></th>\n",
       "      <th></th>\n",
       "      <th></th>\n",
       "      <th></th>\n",
       "      <th></th>\n",
       "      <th></th>\n",
       "      <th></th>\n",
       "      <th></th>\n",
       "      <th></th>\n",
       "      <th></th>\n",
       "      <th></th>\n",
       "      <th></th>\n",
       "      <th></th>\n",
       "      <th></th>\n",
       "      <th></th>\n",
       "      <th></th>\n",
       "      <th></th>\n",
       "      <th></th>\n",
       "    </tr>\n",
       "  </thead>\n",
       "  <tbody>\n",
       "    <tr>\n",
       "      <th>2018-03-01</th>\n",
       "      <td>200</td>\n",
       "      <td>1</td>\n",
       "      <td>1</td>\n",
       "      <td>10</td>\n",
       "      <td>1</td>\n",
       "      <td>1</td>\n",
       "      <td>1</td>\n",
       "      <td>949</td>\n",
       "      <td>36</td>\n",
       "      <td>88</td>\n",
       "      <td>...</td>\n",
       "      <td>106</td>\n",
       "      <td>1</td>\n",
       "      <td>315</td>\n",
       "      <td>401</td>\n",
       "      <td>1</td>\n",
       "      <td>1</td>\n",
       "      <td>1</td>\n",
       "      <td>1</td>\n",
       "      <td>17</td>\n",
       "      <td>9690</td>\n",
       "    </tr>\n",
       "    <tr>\n",
       "      <th>2018-04-01</th>\n",
       "      <td>1000</td>\n",
       "      <td>1</td>\n",
       "      <td>1</td>\n",
       "      <td>10</td>\n",
       "      <td>1</td>\n",
       "      <td>1</td>\n",
       "      <td>1</td>\n",
       "      <td>1037</td>\n",
       "      <td>36</td>\n",
       "      <td>88</td>\n",
       "      <td>...</td>\n",
       "      <td>1046</td>\n",
       "      <td>1</td>\n",
       "      <td>248</td>\n",
       "      <td>2161</td>\n",
       "      <td>1</td>\n",
       "      <td>1</td>\n",
       "      <td>1</td>\n",
       "      <td>1</td>\n",
       "      <td>1</td>\n",
       "      <td>11705</td>\n",
       "    </tr>\n",
       "    <tr>\n",
       "      <th>2018-05-01</th>\n",
       "      <td>1731</td>\n",
       "      <td>1</td>\n",
       "      <td>1</td>\n",
       "      <td>302</td>\n",
       "      <td>1</td>\n",
       "      <td>1</td>\n",
       "      <td>1</td>\n",
       "      <td>1246</td>\n",
       "      <td>94</td>\n",
       "      <td>148</td>\n",
       "      <td>...</td>\n",
       "      <td>1011</td>\n",
       "      <td>1</td>\n",
       "      <td>248</td>\n",
       "      <td>3246</td>\n",
       "      <td>1</td>\n",
       "      <td>1</td>\n",
       "      <td>1</td>\n",
       "      <td>1</td>\n",
       "      <td>1</td>\n",
       "      <td>15233</td>\n",
       "    </tr>\n",
       "    <tr>\n",
       "      <th>2018-06-01</th>\n",
       "      <td>2090</td>\n",
       "      <td>1</td>\n",
       "      <td>1</td>\n",
       "      <td>491</td>\n",
       "      <td>1</td>\n",
       "      <td>1</td>\n",
       "      <td>1</td>\n",
       "      <td>1787</td>\n",
       "      <td>184</td>\n",
       "      <td>104</td>\n",
       "      <td>...</td>\n",
       "      <td>947</td>\n",
       "      <td>1</td>\n",
       "      <td>1</td>\n",
       "      <td>3236</td>\n",
       "      <td>1</td>\n",
       "      <td>1</td>\n",
       "      <td>1</td>\n",
       "      <td>1</td>\n",
       "      <td>1</td>\n",
       "      <td>6586</td>\n",
       "    </tr>\n",
       "    <tr>\n",
       "      <th>2018-07-01</th>\n",
       "      <td>1547</td>\n",
       "      <td>1</td>\n",
       "      <td>61</td>\n",
       "      <td>491</td>\n",
       "      <td>1</td>\n",
       "      <td>1</td>\n",
       "      <td>1</td>\n",
       "      <td>4132</td>\n",
       "      <td>184</td>\n",
       "      <td>104</td>\n",
       "      <td>...</td>\n",
       "      <td>46</td>\n",
       "      <td>1</td>\n",
       "      <td>1</td>\n",
       "      <td>5086</td>\n",
       "      <td>1</td>\n",
       "      <td>1</td>\n",
       "      <td>1</td>\n",
       "      <td>7</td>\n",
       "      <td>1</td>\n",
       "      <td>6035</td>\n",
       "    </tr>\n",
       "  </tbody>\n",
       "</table>\n",
       "<p>5 rows × 2254 columns</p>\n",
       "</div>"
      ],
      "text/plain": [
       "            Дальневосточный ФО_ADRIANOL_Adrianol for adults nasal drops 10 ml #1  \\\n",
       "Month                                                                              \n",
       "2018-03-01                                                200                      \n",
       "2018-04-01                                               1000                      \n",
       "2018-05-01                                               1731                      \n",
       "2018-06-01                                               2090                      \n",
       "2018-07-01                                               1547                      \n",
       "\n",
       "            Дальневосточный ФО_AGALATES_Agalates tabs 0.5 mg #2  \\\n",
       "Month                                                             \n",
       "2018-03-01                                                  1     \n",
       "2018-04-01                                                  1     \n",
       "2018-05-01                                                  1     \n",
       "2018-06-01                                                  1     \n",
       "2018-07-01                                                  1     \n",
       "\n",
       "            Дальневосточный ФО_AGALATES_Agalates tabs 0.5 mg #8  \\\n",
       "Month                                                             \n",
       "2018-03-01                                                  1     \n",
       "2018-04-01                                                  1     \n",
       "2018-05-01                                                  1     \n",
       "2018-06-01                                                  1     \n",
       "2018-07-01                                                 61     \n",
       "\n",
       "            Дальневосточный ФО_ALMAGEL_Almagel A susp 170 ml #1  \\\n",
       "Month                                                             \n",
       "2018-03-01                                                 10     \n",
       "2018-04-01                                                 10     \n",
       "2018-05-01                                                302     \n",
       "2018-06-01                                                491     \n",
       "2018-07-01                                                491     \n",
       "\n",
       "            Дальневосточный ФО_ALMAGEL_Almagel Neo sachet 10 ml #10  \\\n",
       "Month                                                                 \n",
       "2018-03-01                                                  1         \n",
       "2018-04-01                                                  1         \n",
       "2018-05-01                                                  1         \n",
       "2018-06-01                                                  1         \n",
       "2018-07-01                                                  1         \n",
       "\n",
       "            Дальневосточный ФО_ALMAGEL_Almagel Neo susp 170 ml #1  \\\n",
       "Month                                                               \n",
       "2018-03-01                                                  1       \n",
       "2018-04-01                                                  1       \n",
       "2018-05-01                                                  1       \n",
       "2018-06-01                                                  1       \n",
       "2018-07-01                                                  1       \n",
       "\n",
       "            Дальневосточный ФО_ALMAGEL_Almagel sachet 10 ml #10  \\\n",
       "Month                                                             \n",
       "2018-03-01                                                  1     \n",
       "2018-04-01                                                  1     \n",
       "2018-05-01                                                  1     \n",
       "2018-06-01                                                  1     \n",
       "2018-07-01                                                  1     \n",
       "\n",
       "            Дальневосточный ФО_ALMAGEL_Almagel susp 170 ml #1  \\\n",
       "Month                                                           \n",
       "2018-03-01                                                949   \n",
       "2018-04-01                                               1037   \n",
       "2018-05-01                                               1246   \n",
       "2018-06-01                                               1787   \n",
       "2018-07-01                                               4132   \n",
       "\n",
       "            Дальневосточный ФО_ALMONT_Almont FC tabs 10 mg #28  \\\n",
       "Month                                                            \n",
       "2018-03-01                                                 36    \n",
       "2018-04-01                                                 36    \n",
       "2018-05-01                                                 94    \n",
       "2018-06-01                                                184    \n",
       "2018-07-01                                                184    \n",
       "\n",
       "            Дальневосточный ФО_ALMONT_Almont chew tabs 4 mg #28  ...  \\\n",
       "Month                                                            ...   \n",
       "2018-03-01                                                 88    ...   \n",
       "2018-04-01                                                 88    ...   \n",
       "2018-05-01                                                148    ...   \n",
       "2018-06-01                                                104    ...   \n",
       "2018-07-01                                                104    ...   \n",
       "\n",
       "            Южный ФО_VELBINE_Velbine solution for inf 10 mg/ml 5ml #1  \\\n",
       "Month                                                                   \n",
       "2018-03-01                                                106           \n",
       "2018-04-01                                               1046           \n",
       "2018-05-01                                               1011           \n",
       "2018-06-01                                                947           \n",
       "2018-07-01                                                 46           \n",
       "\n",
       "            Южный ФО_VESTIBO_Vestibo tabs 16 mg #30  \\\n",
       "Month                                                 \n",
       "2018-03-01                                        1   \n",
       "2018-04-01                                        1   \n",
       "2018-05-01                                        1   \n",
       "2018-06-01                                        1   \n",
       "2018-07-01                                        1   \n",
       "\n",
       "            Южный ФО_VESTIBO_Vestibo tabs 24 mg #30  \\\n",
       "Month                                                 \n",
       "2018-03-01                                      315   \n",
       "2018-04-01                                      248   \n",
       "2018-05-01                                      248   \n",
       "2018-06-01                                        1   \n",
       "2018-07-01                                        1   \n",
       "\n",
       "            Южный ФО_VINCRISTINE-TEVA_Vincristine-Teva lyoph for inf 1 mg/ml 1 ml #1  \\\n",
       "Month                                                                                  \n",
       "2018-03-01                                                401                          \n",
       "2018-04-01                                               2161                          \n",
       "2018-05-01                                               3246                          \n",
       "2018-06-01                                               3236                          \n",
       "2018-07-01                                               5086                          \n",
       "\n",
       "            Южный ФО_VINCRISTINE-TEVA_Vincristine-Teva lyoph for inf 1 mg/ml 2 ml #1  \\\n",
       "Month                                                                                  \n",
       "2018-03-01                                                  1                          \n",
       "2018-04-01                                                  1                          \n",
       "2018-05-01                                                  1                          \n",
       "2018-06-01                                                  1                          \n",
       "2018-07-01                                                  1                          \n",
       "\n",
       "            Южный ФО_VINORELBINE-TEVA_VINORELBIN-TEVA 50 mg.5 ml  \\\n",
       "Month                                                              \n",
       "2018-03-01                                                  1      \n",
       "2018-04-01                                                  1      \n",
       "2018-05-01                                                  1      \n",
       "2018-06-01                                                  1      \n",
       "2018-07-01                                                  1      \n",
       "\n",
       "            Южный ФО_VINORELBINE-TEVA_VINORELBINE-TEVA concentrate 10 mg.ml 1 ml  \\\n",
       "Month                                                                              \n",
       "2018-03-01                                                  1                      \n",
       "2018-04-01                                                  1                      \n",
       "2018-05-01                                                  1                      \n",
       "2018-06-01                                                  1                      \n",
       "2018-07-01                                                  1                      \n",
       "\n",
       "            Южный ФО_ZINCTERAL_Zincteral-Teva FC tabs 124 mg #150  \\\n",
       "Month                                                               \n",
       "2018-03-01                                                  1       \n",
       "2018-04-01                                                  1       \n",
       "2018-05-01                                                  1       \n",
       "2018-06-01                                                  1       \n",
       "2018-07-01                                                  7       \n",
       "\n",
       "            Южный ФО_ZINCTERAL_Zincteral-Teva FC tabs 124 mg #25  \\\n",
       "Month                                                              \n",
       "2018-03-01                                                 17      \n",
       "2018-04-01                                                  1      \n",
       "2018-05-01                                                  1      \n",
       "2018-06-01                                                  1      \n",
       "2018-07-01                                                  1      \n",
       "\n",
       "            Южный ФО_ZOLEDRONAT-TEVA_Zoledronate-Teva concentrate for inf 4 mg/5ml 5 ml #1  \n",
       "Month                                                                                       \n",
       "2018-03-01                                               9690                               \n",
       "2018-04-01                                              11705                               \n",
       "2018-05-01                                              15233                               \n",
       "2018-06-01                                               6586                               \n",
       "2018-07-01                                               6035                               \n",
       "\n",
       "[5 rows x 2254 columns]"
      ]
     },
     "execution_count": 6,
     "metadata": {},
     "output_type": "execute_result"
    }
   ],
   "source": [
    "# TODO make this transform a parameter too\n",
    "df = add_1_to_all_df_cells(df)\n",
    "\n",
    "df.head()"
   ]
  },
  {
   "cell_type": "markdown",
   "id": "6c2185c1",
   "metadata": {
    "id": "6c2185c1"
   },
   "source": [
    "##### Optional: Select only top Products\n",
    "\n",
    "Saves compute"
   ]
  },
  {
   "cell_type": "code",
   "execution_count": 7,
   "id": "JpUI6D2HOgX_",
   "metadata": {
    "id": "JpUI6D2HOgX_"
   },
   "outputs": [],
   "source": [
    "if SELECT_TOP_K_PRODUCTS is not None:\n",
    "    df = select_top_n_brands(df, n=SELECT_TOP_K_PRODUCTS)\n",
    "\n",
    "# df.head(5)"
   ]
  },
  {
   "cell_type": "code",
   "execution_count": 8,
   "id": "W2WyxjjiGxKC",
   "metadata": {
    "id": "W2WyxjjiGxKC"
   },
   "outputs": [],
   "source": [
    "%%capture\n",
    "df_with_aggregates, hierarchy = prep_data_for_scikit_hts(df)"
   ]
  },
  {
   "cell_type": "markdown",
   "id": "Pf8W_T54OclO",
   "metadata": {
    "id": "Pf8W_T54OclO"
   },
   "source": [
    "<font color='cyan'>HierarchicalForecast likes data to be Drug | Date | Sales, rather than having DrugName as columns</font>\n",
    "\n",
    "\n",
    "### Melt data into format required by HierarchicalForecast\n",
    "\n",
    "Following how their example code's data looks"
   ]
  },
  {
   "cell_type": "code",
   "execution_count": 9,
   "id": "qVNVuErdNqrf",
   "metadata": {
    "id": "qVNVuErdNqrf"
   },
   "outputs": [
    {
     "name": "stdout",
     "output_type": "stream",
     "text": [
      "                                           unique_id         ds     y\n",
      "0  Дальневосточный ФО_ADRIANOL_Adrianol for adult... 2018-03-01   200\n",
      "1  Дальневосточный ФО_ADRIANOL_Adrianol for adult... 2018-04-01  1000\n",
      "2  Дальневосточный ФО_ADRIANOL_Adrianol for adult... 2018-05-01  1731\n",
      "3  Дальневосточный ФО_ADRIANOL_Adrianol for adult... 2018-06-01  2090\n",
      "4  Дальневосточный ФО_ADRIANOL_Adrianol for adult... 2018-07-01  1547\n",
      "       unique_id         ds         y\n",
      "190489     Total 2022-07-01  49450935\n",
      "190490     Total 2022-08-01  52831983\n",
      "190491     Total 2022-09-01  52573920\n",
      "190492     Total 2022-10-01  61896441\n",
      "190493     Total 2022-11-01  68698749\n"
     ]
    },
    {
     "name": "stderr",
     "output_type": "stream",
     "text": [
      "/var/folders/21/rybqmdj15yz5lp1lppq1761m0000gn/T/ipykernel_5907/4208350657.py:2: PerformanceWarning: DataFrame is highly fragmented.  This is usually the result of calling `frame.insert` many times, which has poor performance.  Consider joining all columns at once using pd.concat(axis=1) instead. To get a de-fragmented frame, use `newframe = frame.copy()`\n",
      "  df_with_aggregates.reset_index(inplace=True) # Move Month index to column (package requirement)\n"
     ]
    }
   ],
   "source": [
    "# Melt the DataFrame - convert ColNames to rows to match input to HierForecast\n",
    "df_with_aggregates.reset_index(inplace=True) # Move Month index to column (package requirement)\n",
    "\n",
    "# TODO Check these for prediction error\n",
    "melted_df = df_with_aggregates.melt(id_vars=['Month'], var_name='Drug', value_name='Sales')\n",
    "\n",
    "# Convert melted DataFrame to the required format\n",
    "melted_df = melted_df[['Drug', 'Month', 'Sales']]\n",
    "\n",
    "# Col names seem to need to be thus for package\n",
    "melted_df.rename(columns={'Drug': 'unique_id', 'Month':'ds', 'Sales':'y'}, inplace=True)\n",
    "\n",
    "\n",
    "print(melted_df.head())\n",
    "print(melted_df.tail())\n"
   ]
  },
  {
   "cell_type": "markdown",
   "id": "0Kuum0MFCs_o",
   "metadata": {
    "id": "0Kuum0MFCs_o"
   },
   "source": [
    "### Creating `S_df`\n",
    "\n",
    "All colored font is Ariel\n",
    "\n",
    "<font color='turquoise'>We've created `Y_df, tags`. All we need is `S_df`</font>\n",
    "This is like a tree representing the hierarchy, with aggregations at each level\n",
    "\n",
    "<font color='blue'>`S_df` is a representation of the Hierarchy - 1 means that column name (item, Drugs in our case), belongs to the Total row. Rows represent totals at each level of the hierarchy, for each node</font>"
   ]
  },
  {
   "cell_type": "code",
   "execution_count": null,
   "id": "FfHLMVaDtnEx",
   "metadata": {
    "id": "FfHLMVaDtnEx"
   },
   "outputs": [],
   "source": [
    "S_df = create_S_df(df)\n",
    "\n",
    "S_df.head()"
   ]
  },
  {
   "cell_type": "markdown",
   "id": "vtUguNs09xmE",
   "metadata": {
    "id": "vtUguNs09xmE"
   },
   "source": [
    "### Create `tags`, which is a description of the Hierarchy as `dict`\n",
    "\n",
    "Original `tags` loaded from example Dataset - they didn't create it programmatically"
   ]
  },
  {
   "cell_type": "code",
   "execution_count": 11,
   "id": "dlVTOnCmHIjO",
   "metadata": {
    "id": "dlVTOnCmHIjO"
   },
   "outputs": [],
   "source": [
    "# hierarchy"
   ]
  },
  {
   "cell_type": "code",
   "execution_count": 12,
   "id": "6F0EQvHuYvnA",
   "metadata": {
    "id": "6F0EQvHuYvnA"
   },
   "outputs": [],
   "source": [
    "# TODO wtf did chatgpt do here?\n",
    "transformed_data = { # Need names for hierarchy levels IMO\n",
    "    \"Sales\": [\"Total\"],\n",
    "    \"Sales/Region\": hierarchy['Total'],\n",
    "    \"Sales/Region/DrugName\": sum([hierarchy[region] for region in hierarchy['Total']], []),\n",
    "    \"Sales/Region/DrugName/DrugDosage\": sum([hierarchy[key] for key in sum([hierarchy[region] for region in hierarchy['Total']], [])], []),\n",
    "}\n",
    "\n",
    "# Convert the lists to numpy arrays for consistency with the format\n",
    "for key in transformed_data:\n",
    "    transformed_data[key] = np.array(transformed_data[key], dtype=object)\n",
    "\n",
    "# print(transformed_data)\n",
    "tags = transformed_data"
   ]
  },
  {
   "cell_type": "markdown",
   "id": "56a7aadb-6e2c-456a-a0b5-b29b30deadb5",
   "metadata": {
    "id": "56a7aadb-6e2c-456a-a0b5-b29b30deadb5"
   },
   "source": [
    "We split the dataframe in train/test splits."
   ]
  },
  {
   "cell_type": "code",
   "execution_count": 13,
   "id": "0FZ9L2tnPzmW",
   "metadata": {
    "id": "0FZ9L2tnPzmW"
   },
   "outputs": [],
   "source": [
    "Y_df = melted_df\n",
    "\n",
    "# Y_df"
   ]
  },
  {
   "cell_type": "code",
   "execution_count": 14,
   "id": "462451d8-2fc0-445e-9458-908811011dd9",
   "metadata": {
    "id": "462451d8-2fc0-445e-9458-908811011dd9"
   },
   "outputs": [],
   "source": [
    "Y_test_df = Y_df.groupby('unique_id').tail(7) # Original code\n",
    "Y_train_df = Y_df.drop(Y_test_df.index)\n",
    "\n",
    "Y_test_df = Y_test_df.set_index('unique_id')\n",
    "Y_train_df = Y_train_df.set_index('unique_id')"
   ]
  },
  {
   "cell_type": "code",
   "execution_count": 15,
   "id": "IHADutcWGQRv",
   "metadata": {
    "id": "IHADutcWGQRv"
   },
   "outputs": [
    {
     "name": "stdout",
     "output_type": "stream",
     "text": [
      "                                                           ds  y\n",
      "unique_id                                                       \n",
      "Дальневосточный ФО_ADRIANOL_Adrianol for adults... 2022-05-01  0\n",
      "Дальневосточный ФО_ADRIANOL_Adrianol for adults... 2022-06-01  0\n",
      "Дальневосточный ФО_ADRIANOL_Adrianol for adults... 2022-07-01  0\n",
      "Дальневосточный ФО_ADRIANOL_Adrianol for adults... 2022-08-01  0\n",
      "Дальневосточный ФО_ADRIANOL_Adrianol for adults... 2022-09-01  0\n",
      "                  ds         y\n",
      "unique_id                     \n",
      "Total     2022-07-01  49450935\n",
      "Total     2022-08-01  52831983\n",
      "Total     2022-09-01  52573920\n",
      "Total     2022-10-01  61896441\n",
      "Total     2022-11-01  68698749\n"
     ]
    }
   ],
   "source": [
    "print(Y_test_df.head())\n",
    "print(Y_test_df.tail())"
   ]
  },
  {
   "cell_type": "markdown",
   "id": "c6eb7b54",
   "metadata": {
    "id": "c6eb7b54"
   },
   "source": [
    "## 2. Base Forecasts"
   ]
  },
  {
   "cell_type": "markdown",
   "id": "b7cfb43a-cd16-418c-a04b-e075c176cc9e",
   "metadata": {
    "id": "b7cfb43a-cd16-418c-a04b-e075c176cc9e"
   },
   "source": [
    "The following cell computes the *base forecast* for each time series using the `ETS` and `naive` models. Observe that `Y_hat_df` contains the forecasts but they are not coherent."
   ]
  },
  {
   "cell_type": "code",
   "execution_count": 16,
   "id": "f99e7b7b-f4b8-4f2f-a1a7-c8be98a1e280",
   "metadata": {
    "id": "f99e7b7b-f4b8-4f2f-a1a7-c8be98a1e280"
   },
   "outputs": [],
   "source": [
    "%%capture\n",
    "fcst = StatsForecast(\n",
    "    df=Y_train_df,\n",
    "    models=TSModels,\n",
    "    # models=[ETS(season_length=7, model='ZZA'), Naive()],\n",
    "    freq=TIME_SERIES_FREQ,\n",
    "    n_jobs=-1\n",
    ")\n",
    "Y_hat_df = fcst.forecast(h=7) # TODO What is h=7?"
   ]
  },
  {
   "cell_type": "markdown",
   "id": "8eb06be5-1bf1-4e4f-90ad-4e635dacd640",
   "metadata": {
    "id": "8eb06be5-1bf1-4e4f-90ad-4e635dacd640"
   },
   "source": [
    "Observe that the ETS model computes negative forecasts for some series."
   ]
  },
  {
   "cell_type": "markdown",
   "id": "27YAtIhf2CFs",
   "metadata": {
    "id": "27YAtIhf2CFs"
   },
   "source": [
    "<font color='pink'>Does `Y_hat_df` have a `ds` column in the original code?</font>\n",
    "\n",
    "Yes"
   ]
  },
  {
   "cell_type": "code",
   "execution_count": null,
   "id": "qKO_sp7O9dwL",
   "metadata": {
    "id": "qKO_sp7O9dwL"
   },
   "outputs": [],
   "source": [
    "# Make sure S_df does not have extra entries - TODO I still don't know exactly how S_df is created\n",
    "#   This is jerry-rigged to work\n",
    "rows_to_drop = list(set(S_df.index) - set(Y_test_df.index))\n",
    "# rows_to_drop\n",
    "S_df.drop(rows_to_drop, inplace=True)"
   ]
  },
  {
   "cell_type": "code",
   "execution_count": null,
   "id": "FJ3vXSl2FQIG",
   "metadata": {
    "id": "FJ3vXSl2FQIG"
   },
   "outputs": [],
   "source": [
    "# `S_df` should have 1 entry for each unique row in `Y_hat_df`\n",
    "assert(len(S_df.index) == len(set(Y_hat_df.index)))\n",
    "assert(set(Y_train_df.index) - set(S_df.index) == set())\n",
    "assert(set(S_df.index) - set(Y_train_df.index) == set())"
   ]
  },
  {
   "cell_type": "markdown",
   "id": "752a0a14",
   "metadata": {
    "id": "752a0a14"
   },
   "source": [
    "## 3. Non-Negative Reconciliation"
   ]
  },
  {
   "cell_type": "markdown",
   "id": "cc296762-2009-4aef-8b31-f24aad9d0787",
   "metadata": {
    "id": "cc296762-2009-4aef-8b31-f24aad9d0787"
   },
   "source": [
    "The following cell makes the previous forecasts coherent and nonnegative using the `HierarchicalReconciliation` class."
   ]
  },
  {
   "cell_type": "code",
   "execution_count": null,
   "id": "j3DQesAyT-xk",
   "metadata": {
    "id": "j3DQesAyT-xk"
   },
   "outputs": [],
   "source": [
    "hrec = HierarchicalReconciliation(reconcilers=reconciliation_methods)\n",
    "\n",
    "\n",
    "Y_rec_df = hrec.reconcile(Y_hat_df=Y_hat_df, Y_df=Y_train_df,\n",
    "                          S=S_df, tags=tags)\n",
    "\n",
    "Y_rec_df.head()"
   ]
  },
  {
   "cell_type": "markdown",
   "id": "21a82e2b-03b6-4c0d-ac0c-5fdcca7572f2",
   "metadata": {
    "id": "21a82e2b-03b6-4c0d-ac0c-5fdcca7572f2"
   },
   "source": [
    "Observe that the nonnegative reconciliation method obtains nonnegative forecasts."
   ]
  },
  {
   "cell_type": "markdown",
   "id": "55edb754",
   "metadata": {
    "id": "55edb754"
   },
   "source": [
    "## 4. Evaluation"
   ]
  },
  {
   "cell_type": "markdown",
   "id": "03c4752c-53f8-4b1f-8169-32075b8e4050",
   "metadata": {
    "id": "03c4752c-53f8-4b1f-8169-32075b8e4050"
   },
   "source": [
    "The `HierarchicalForecast` package includes the `HierarchicalEvaluation` class to evaluate the different hierarchies and also is capable of compute scaled metrics compared to a benchmark model."
   ]
  },
  {
   "cell_type": "code",
   "execution_count": null,
   "id": "a793cff0-e6bf-469d-86d8-cf6ce7a8d922",
   "metadata": {
    "id": "a793cff0-e6bf-469d-86d8-cf6ce7a8d922"
   },
   "outputs": [],
   "source": [
    "# TODO enhance this\n",
    "def mse(y, y_hat):\n",
    "    return np.mean((y-y_hat)**2)\n",
    "\n",
    "evaluator = HierarchicalEvaluation(evaluators=[mse, mean_absolute_percentage_error, symmetric_mean_absolute_percentage_error])\n",
    "evaluation = evaluator.evaluate(\n",
    "        Y_hat_df=Y_rec_df, Y_test_df=Y_test_df,\n",
    "        tags=tags#, benchmark='Naive'\n",
    ")\n",
    "evaluation#.filter(like='ETS', axis=1).T"
   ]
  },
  {
   "cell_type": "markdown",
   "id": "c16f960d-77c9-4acc-8438-ee14bf738cf7",
   "metadata": {
    "id": "c16f960d-77c9-4acc-8438-ee14bf738cf7"
   },
   "source": [
    "Observe that the nonnegative reconciliation method performs better that its unconstrained counterpart."
   ]
  },
  {
   "cell_type": "markdown",
   "id": "hHv9H64l4U99",
   "metadata": {
    "id": "hHv9H64l4U99"
   },
   "source": [
    "## Plot Hierarchy & Evaluations"
   ]
  },
  {
   "cell_type": "code",
   "execution_count": null,
   "id": "gjayg2u7-p6c",
   "metadata": {
    "id": "gjayg2u7-p6c"
   },
   "outputs": [],
   "source": [
    "a = Y_test_df.sort_index()#.sort_values(by='ds', ascending=True)\n",
    "\n",
    "# TODO programmatically get these by subtracting column names (set)\n",
    "b = Y_rec_df[['ETS', 'Naive', 'ETS/BottomUp', 'Naive/BottomUp']].sort_index()#.sort_values(by='ds', ascending=True)#.drop(columns=['ds'])\n",
    "\n",
    "b"
   ]
  },
  {
   "cell_type": "code",
   "execution_count": null,
   "id": "zQF4Ng_3EEdi",
   "metadata": {
    "id": "zQF4Ng_3EEdi"
   },
   "outputs": [],
   "source": [
    "merged_test_preds_df = pd.concat([a, b], axis=1)\n",
    "# merged_test_preds_df"
   ]
  },
  {
   "cell_type": "code",
   "execution_count": null,
   "id": "CsMVk5EREcIT",
   "metadata": {
    "id": "CsMVk5EREcIT"
   },
   "outputs": [],
   "source": [
    "merged_test_preds_df = merged_test_preds_df.sort_values(by='ds', ascending=True)\n",
    "merged_test_preds_df"
   ]
  },
  {
   "cell_type": "code",
   "execution_count": null,
   "id": "FEnuvBth4WTL",
   "metadata": {
    "id": "FEnuvBth4WTL"
   },
   "outputs": [],
   "source": [
    "hplt = HierarchicalPlot(S=S_df, tags=tags)\n",
    "\n",
    "hplt.plot_hierarchical_predictions_gap(Y_df=merged_test_preds_df, models = 'ETS')#['ETS', 'Naive', 'ETS/BottomUp', 'Naive/BottomUp'])"
   ]
  },
  {
   "cell_type": "code",
   "execution_count": null,
   "id": "DXI1gdZ_464Q",
   "metadata": {
    "id": "DXI1gdZ_464Q"
   },
   "outputs": [],
   "source": [
    "hplt.plot_hierarchically_linked_series(bottom_series='Южный ФО_VALZ_Valz N FC tabs 80 mg/12.5mg #28', Y_df=Y_train_df)"
   ]
  }
 ],
 "metadata": {
  "colab": {
   "provenance": []
  },
  "kernelspec": {
   "display_name": "Python 3 (ipykernel)",
   "language": "python",
   "name": "python3"
  },
  "language_info": {
   "codemirror_mode": {
    "name": "ipython",
    "version": 3
   },
   "file_extension": ".py",
   "mimetype": "text/x-python",
   "name": "python",
   "nbconvert_exporter": "python",
   "pygments_lexer": "ipython3",
   "version": "3.8.17"
  }
 },
 "nbformat": 4,
 "nbformat_minor": 5
}
