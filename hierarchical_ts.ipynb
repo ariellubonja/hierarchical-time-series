{
  "cells": [
    {
      "cell_type": "markdown",
      "id": "c0a54210",
      "metadata": {},
      "source": [
        "## Upload data under data/ and hts_utils.py under utils/"
      ]
    },
    {
      "cell_type": "code",
      "execution_count": null,
      "id": "AZaCmPwQTsQW",
      "metadata": {
        "id": "AZaCmPwQTsQW"
      },
      "outputs": [],
      "source": [
        "# dataset subset to use? # Use full initially\n",
        "#     deal_w_zeros_method = remove_zero_columns(df, any_or_all='any')\n",
        "\n",
        "# TS_Models = [models()]\n",
        "\n",
        "SELECT_TOP_K_PRODUCTS = None # None = keep all\n",
        "\n",
        "# reconciliation_methods\n",
        "\n",
        "# Other params?"
      ]
    },
    {
      "cell_type": "markdown",
      "id": "jcykmCvNUmgI",
      "metadata": {
        "id": "jcykmCvNUmgI"
      },
      "source": [
        "This notebook was heavily modified from here:\n",
        "\n",
        "<a href=\"https://colab.research.google.com/github/Nixtla/hierarchicalforecast/blob/main/nbs/examples/NonNegativeReconciliation.ipynb\" target=\"_parent\"><img src=\"https://colab.research.google.com/assets/colab-badge.svg\" alt=\"Open In Colab\"/></a>"
      ]
    },
    {
      "cell_type": "code",
      "execution_count": null,
      "id": "B88cc41sMEyr",
      "metadata": {
        "id": "B88cc41sMEyr"
      },
      "outputs": [],
      "source": [
        "dataset_hierarchy_delimiter = ' - ' # The delimiter currently used in the dataset\n",
        "HIERARCHY_DELIMITER = '_' # '_' is needed by HierarchicalForecast. Need to replace"
      ]
    },
    {
      "cell_type": "code",
      "execution_count": null,
      "id": "7f777bdd-dff4-4bc0-8529-b492874de6f0",
      "metadata": {
        "id": "7f777bdd-dff4-4bc0-8529-b492874de6f0"
      },
      "outputs": [],
      "source": [
        "%%capture\n",
        "!pip install hierarchicalforecast statsforecast"
      ]
    },
    {
      "cell_type": "markdown",
      "id": "2a910ea0",
      "metadata": {
        "id": "2a910ea0"
      },
      "source": [
        "## 1. Load Data"
      ]
    },
    {
      "cell_type": "code",
      "execution_count": null,
      "id": "51af708b",
      "metadata": {
        "id": "51af708b"
      },
      "outputs": [],
      "source": [
        "import numpy as np\n",
        "import pandas as pd\n",
        "\n",
        "from utils.hts_eda_utils import *"
      ]
    },
    {
      "cell_type": "markdown",
      "id": "CG3yyeMPxVPr",
      "metadata": {
        "id": "CG3yyeMPxVPr"
      },
      "source": [
        "<font color='blue'>`S_df` is a representation of the Hierarchy - 1 means that column name (item, Drugs in our case), belongs to the Total row. Rows represent totals at each level of the hierarchy, for each node</font>"
      ]
    },
    {
      "cell_type": "markdown",
      "id": "mJO3_qHO8_mN",
      "metadata": {
        "id": "mJO3_qHO8_mN"
      },
      "source": [
        "<font color='blue'>Ariel: Replace ` - ` with `_`. I think `_` is used as Hierarchy level split by HF package (not sure)</font>"
      ]
    },
    {
      "cell_type": "code",
      "execution_count": 53,
      "id": "PwL002u1FgHo",
      "metadata": {
        "colab": {
          "base_uri": "https://localhost:8080/",
          "height": 429
        },
        "id": "PwL002u1FgHo",
        "outputId": "7a0cf476-42cc-47dc-a721-b2e8303bb0a7"
      },
      "outputs": [],
      "source": [
        "df = pd.read_excel('data/Quarterly_smoothing.xlsx', index_col=0)#.iloc[:,:5])\n",
        "\n",
        "df.columns = df.columns.str.replace(' - ', HIERARCHY_DELIMITER) # Replace Hierarchy delimiter"
      ]
    },
    {
      "cell_type": "markdown",
      "id": "764a4aae",
      "metadata": {},
      "source": [
        "##### Columns of all zeros cause errors (Division by zero in Covariance calc.). Need to fix"
      ]
    },
    {
      "cell_type": "code",
      "execution_count": null,
      "id": "71cdf49a",
      "metadata": {},
      "outputs": [],
      "source": [
        "df = add_1_to_all_df_cells(df)\n",
        "\n",
        "df.head()"
      ]
    },
    {
      "cell_type": "markdown",
      "id": "6c2185c1",
      "metadata": {},
      "source": [
        "##### Optional: Select only top Products\n",
        "\n",
        "Saves compute"
      ]
    },
    {
      "cell_type": "code",
      "execution_count": null,
      "id": "JpUI6D2HOgX_",
      "metadata": {
        "colab": {
          "base_uri": "https://localhost:8080/"
        },
        "id": "JpUI6D2HOgX_",
        "outputId": "6197ac74-b843-43a4-bfe0-a8c21f24434e"
      },
      "outputs": [],
      "source": [
        "if SELECT_TOP_K_PRODUCTS is not None:\n",
        "    df = select_top_n_brands(df, n=SELECT_TOP_K_PRODUCTS)\n",
        "\n",
        "df.head(15)"
      ]
    },
    {
      "cell_type": "code",
      "execution_count": null,
      "id": "W2WyxjjiGxKC",
      "metadata": {
        "colab": {
          "base_uri": "https://localhost:8080/"
        },
        "id": "W2WyxjjiGxKC",
        "outputId": "64f9ee67-f695-4f02-9955-352ef0ebc4a7"
      },
      "outputs": [],
      "source": [
        "df_with_aggregates, hierarchy = prep_data_for_scikit_hts(df)\n",
        "\n",
        "df_with_aggregates.head(5)"
      ]
    },
    {
      "cell_type": "markdown",
      "id": "Pf8W_T54OclO",
      "metadata": {
        "id": "Pf8W_T54OclO"
      },
      "source": [
        "<font color='cyan'>HierarchicalForecast likes data to be Drug | Date | Sales, rather than having DrugName as columns</font>\n",
        "\n",
        "\n",
        "### Melt data into format required by HierarchicalForecast\n",
        "\n",
        "Following how their example code's data looks"
      ]
    },
    {
      "cell_type": "code",
      "execution_count": null,
      "id": "qVNVuErdNqrf",
      "metadata": {
        "colab": {
          "base_uri": "https://localhost:8080/"
        },
        "id": "qVNVuErdNqrf",
        "outputId": "06af5f9b-c7f0-48c0-b6ba-0883c885fb50"
      },
      "outputs": [],
      "source": [
        "# Melt the DataFrame - convert ColNames to rows to match input to HierForecast\n",
        "df_with_aggregates.reset_index(inplace=True) # Move Month index to column (package requirement)\n",
        "\n",
        "# TODO Check these for prediction error\n",
        "melted_df = df_with_aggregates.melt(id_vars=['Month'], var_name='Drug', value_name='Sales')\n",
        "\n",
        "# Convert melted DataFrame to the required format\n",
        "melted_df = melted_df[['Drug', 'Month', 'Sales']]\n",
        "\n",
        "# Col names seem to need to be thus for package\n",
        "melted_df.rename(columns={'Drug': 'unique_id', 'Month':'ds', 'Sales':'y'}, inplace=True)\n",
        "\n",
        "\n",
        "print(melted_df.head())\n",
        "print(melted_df.tail())\n"
      ]
    },
    {
      "cell_type": "markdown",
      "id": "vtUguNs09xmE",
      "metadata": {
        "id": "vtUguNs09xmE"
      },
      "source": [
        "### Create `tags`, which is a description of the Hierarchy as `dict`\n",
        "\n",
        "Original `tags` loaded from example Dataset - they didn't create it programmatically"
      ]
    },
    {
      "cell_type": "code",
      "execution_count": null,
      "id": "dlVTOnCmHIjO",
      "metadata": {
        "id": "dlVTOnCmHIjO"
      },
      "outputs": [],
      "source": [
        "# hierarchy"
      ]
    },
    {
      "cell_type": "code",
      "execution_count": null,
      "id": "6F0EQvHuYvnA",
      "metadata": {
        "id": "6F0EQvHuYvnA"
      },
      "outputs": [],
      "source": [
        "transformed_data = { # Need names for hierarchy levels IMO\n",
        "    \"Sales\": [\"Total\"],\n",
        "    \"Sales/Region\": hierarchy['Total'],\n",
        "    \"Sales/Region/DrugName\": sum([hierarchy[region] for region in hierarchy['Total']], []),\n",
        "    \"Sales/Region/DrugName/DrugDosage\": sum([hierarchy[key] for key in sum([hierarchy[region] for region in hierarchy['Total']], [])], []),\n",
        "}\n",
        "\n",
        "# Convert the lists to numpy arrays for consistency with the format\n",
        "for key in transformed_data:\n",
        "    transformed_data[key] = np.array(transformed_data[key], dtype=object)\n",
        "\n",
        "# print(transformed_data)\n",
        "tags = transformed_data"
      ]
    },
    {
      "cell_type": "markdown",
      "id": "56a7aadb-6e2c-456a-a0b5-b29b30deadb5",
      "metadata": {
        "id": "56a7aadb-6e2c-456a-a0b5-b29b30deadb5"
      },
      "source": [
        "We split the dataframe in train/test splits."
      ]
    },
    {
      "cell_type": "code",
      "execution_count": null,
      "id": "0FZ9L2tnPzmW",
      "metadata": {
        "colab": {
          "base_uri": "https://localhost:8080/",
          "height": 424
        },
        "id": "0FZ9L2tnPzmW",
        "outputId": "85133268-779a-42d0-ee24-723d343a2e0b"
      },
      "outputs": [],
      "source": [
        "Y_df = melted_df\n",
        "\n",
        "Y_df"
      ]
    },
    {
      "cell_type": "code",
      "execution_count": null,
      "id": "462451d8-2fc0-445e-9458-908811011dd9",
      "metadata": {
        "id": "462451d8-2fc0-445e-9458-908811011dd9"
      },
      "outputs": [],
      "source": [
        "Y_test_df = Y_df.groupby('unique_id').tail(7) # Original code\n",
        "Y_train_df = Y_df.drop(Y_test_df.index)\n",
        "\n",
        "Y_test_df = Y_test_df.set_index('unique_id')\n",
        "Y_train_df = Y_train_df.set_index('unique_id')"
      ]
    },
    {
      "cell_type": "code",
      "execution_count": null,
      "id": "IHADutcWGQRv",
      "metadata": {
        "colab": {
          "base_uri": "https://localhost:8080/"
        },
        "id": "IHADutcWGQRv",
        "outputId": "36a3c451-f03c-499d-9fda-0662100af86e"
      },
      "outputs": [],
      "source": [
        "print(Y_test_df.head())\n",
        "print(Y_test_df.tail())"
      ]
    },
    {
      "cell_type": "markdown",
      "id": "c6eb7b54",
      "metadata": {
        "id": "c6eb7b54"
      },
      "source": [
        "## 2. Base Forecasts"
      ]
    },
    {
      "cell_type": "markdown",
      "id": "b7cfb43a-cd16-418c-a04b-e075c176cc9e",
      "metadata": {
        "id": "b7cfb43a-cd16-418c-a04b-e075c176cc9e"
      },
      "source": [
        "The following cell computes the *base forecast* for each time series using the `ETS` and `naive` models. Observe that `Y_hat_df` contains the forecasts but they are not coherent."
      ]
    },
    {
      "cell_type": "code",
      "execution_count": null,
      "id": "cb09ba77",
      "metadata": {
        "id": "cb09ba77"
      },
      "outputs": [],
      "source": [
        "%%capture\n",
        "from statsforecast.models import ETS, Naive\n",
        "from statsforecast.core import StatsForecast"
      ]
    },
    {
      "cell_type": "code",
      "execution_count": null,
      "id": "f99e7b7b-f4b8-4f2f-a1a7-c8be98a1e280",
      "metadata": {
        "id": "f99e7b7b-f4b8-4f2f-a1a7-c8be98a1e280"
      },
      "outputs": [],
      "source": [
        "%%capture\n",
        "fcst = StatsForecast(\n",
        "    df=Y_train_df,\n",
        "    models=[ETS(season_length=7, model='ZAA'), Naive()], # TODO add models\n",
        "    freq='M',\n",
        "    n_jobs=-1\n",
        ")\n",
        "Y_hat_df = fcst.forecast(h=7)"
      ]
    },
    {
      "cell_type": "markdown",
      "id": "8eb06be5-1bf1-4e4f-90ad-4e635dacd640",
      "metadata": {
        "id": "8eb06be5-1bf1-4e4f-90ad-4e635dacd640"
      },
      "source": [
        "Observe that the ETS model computes negative forecasts for some series."
      ]
    },
    {
      "cell_type": "markdown",
      "id": "0Kuum0MFCs_o",
      "metadata": {
        "id": "0Kuum0MFCs_o"
      },
      "source": [
        "## Creating `S_df`\n",
        "\n",
        "All colored font is Ariel\n",
        "\n",
        "<font color='turquoise'>We've created `Y_df, tags`. All we need is `S_df`</font>\n",
        "This is like a tree representing the hierarchy, with aggregations at each level"
      ]
    },
    {
      "cell_type": "code",
      "execution_count": null,
      "id": "FfHLMVaDtnEx",
      "metadata": {
        "colab": {
          "base_uri": "https://localhost:8080/",
          "height": 687
        },
        "id": "FfHLMVaDtnEx",
        "outputId": "13bfd903-3140-496d-a8c1-ac63830b363b"
      },
      "outputs": [],
      "source": [
        "S_df = create_S_df(df)\n",
        "\n",
        "S_df"
      ]
    },
    {
      "cell_type": "code",
      "execution_count": null,
      "id": "RhYSN0hgUOlK",
      "metadata": {
        "id": "RhYSN0hgUOlK"
      },
      "outputs": [],
      "source": [
        "# TODO Not dropping this causes problems. Figure out why\n",
        "\n",
        "S_df.drop(\"Month\", inplace=True)"
      ]
    },
    {
      "cell_type": "code",
      "execution_count": null,
      "id": "FJ3vXSl2FQIG",
      "metadata": {
        "id": "FJ3vXSl2FQIG"
      },
      "outputs": [],
      "source": [
        "# `S_df` should have 1 entry for each unique row in `Y_hat_df`\n",
        "assert(len(S_df.index) == len(set(Y_hat_df.index)))\n",
        "assert(set(Y_train_df.index) - set(S_df.index) == set())\n",
        "assert(set(S_df.index) - set(Y_train_df.index) == set())"
      ]
    },
    {
      "cell_type": "markdown",
      "id": "752a0a14",
      "metadata": {
        "id": "752a0a14"
      },
      "source": [
        "## 3. Non-Negative Reconciliation"
      ]
    },
    {
      "cell_type": "markdown",
      "id": "cc296762-2009-4aef-8b31-f24aad9d0787",
      "metadata": {
        "id": "cc296762-2009-4aef-8b31-f24aad9d0787"
      },
      "source": [
        "The following cell makes the previous forecasts coherent and nonnegative using the `HierarchicalReconciliation` class."
      ]
    },
    {
      "cell_type": "code",
      "execution_count": null,
      "id": "c8e683ac",
      "metadata": {
        "id": "c8e683ac"
      },
      "outputs": [],
      "source": [
        "from hierarchicalforecast.methods import MinTrace, BottomUp, TopDown, MiddleOut\n",
        "from hierarchicalforecast.core import HierarchicalReconciliation"
      ]
    },
    {
      "cell_type": "code",
      "execution_count": null,
      "id": "j3DQesAyT-xk",
      "metadata": {
        "id": "j3DQesAyT-xk"
      },
      "outputs": [],
      "source": [
        "reconcilers = [\n",
        "    BottomUp(),\n",
        "    # TopDown(method='forecast_proportions'),\n",
        "    # MiddleOut(middle_level='Country/Purpose/State', # ValueError here\n",
        "            #   top_down_method='forecast_proportions')\n",
        "]\n",
        "hrec = HierarchicalReconciliation(reconcilers=reconcilers)\n",
        "Y_rec_df = hrec.reconcile(Y_hat_df=Y_hat_df, Y_df=Y_train_df,\n",
        "                          S=S_df, tags=tags)"
      ]
    },
    {
      "cell_type": "markdown",
      "id": "21a82e2b-03b6-4c0d-ac0c-5fdcca7572f2",
      "metadata": {
        "id": "21a82e2b-03b6-4c0d-ac0c-5fdcca7572f2"
      },
      "source": [
        "Observe that the nonnegative reconciliation method obtains nonnegative forecasts."
      ]
    },
    {
      "cell_type": "markdown",
      "id": "55edb754",
      "metadata": {
        "id": "55edb754"
      },
      "source": [
        "## 4. Evaluation"
      ]
    },
    {
      "cell_type": "markdown",
      "id": "03c4752c-53f8-4b1f-8169-32075b8e4050",
      "metadata": {
        "id": "03c4752c-53f8-4b1f-8169-32075b8e4050"
      },
      "source": [
        "The `HierarchicalForecast` package includes the `HierarchicalEvaluation` class to evaluate the different hierarchies and also is capable of compute scaled metrics compared to a benchmark model."
      ]
    },
    {
      "cell_type": "code",
      "execution_count": null,
      "id": "ad8e34d4",
      "metadata": {
        "id": "ad8e34d4"
      },
      "outputs": [],
      "source": [
        "from hierarchicalforecast.evaluation import HierarchicalEvaluation"
      ]
    },
    {
      "cell_type": "code",
      "execution_count": null,
      "id": "a793cff0-e6bf-469d-86d8-cf6ce7a8d922",
      "metadata": {
        "colab": {
          "base_uri": "https://localhost:8080/",
          "height": 181
        },
        "id": "a793cff0-e6bf-469d-86d8-cf6ce7a8d922",
        "outputId": "9f68f1c5-0e65-4dc4-ea58-f1459d017af4"
      },
      "outputs": [],
      "source": [
        "# TODO enhance this\n",
        "def mse(y, y_hat):\n",
        "    return np.mean((y-y_hat)**2)\n",
        "\n",
        "evaluator = HierarchicalEvaluation(evaluators=[mse])\n",
        "evaluation = evaluator.evaluate(\n",
        "        Y_hat_df=Y_rec_df, Y_test_df=Y_test_df,\n",
        "        tags=tags, benchmark='Naive'\n",
        ")\n",
        "evaluation.filter(like='ETS', axis=1).T"
      ]
    },
    {
      "cell_type": "markdown",
      "id": "c16f960d-77c9-4acc-8438-ee14bf738cf7",
      "metadata": {
        "id": "c16f960d-77c9-4acc-8438-ee14bf738cf7"
      },
      "source": [
        "Observe that the nonnegative reconciliation method performs better that its unconstrained counterpart."
      ]
    },
    {
      "cell_type": "markdown",
      "id": "hHv9H64l4U99",
      "metadata": {
        "id": "hHv9H64l4U99"
      },
      "source": [
        "## Plot Hierarchy & Evaluations"
      ]
    },
    {
      "cell_type": "code",
      "execution_count": null,
      "id": "gjayg2u7-p6c",
      "metadata": {
        "colab": {
          "base_uri": "https://localhost:8080/",
          "height": 455
        },
        "id": "gjayg2u7-p6c",
        "outputId": "e638fb80-86f9-4ce5-e383-ad43db1ba03a"
      },
      "outputs": [],
      "source": [
        "a = Y_test_df.sort_index()#.sort_values(by='ds', ascending=True)\n",
        "\n",
        "# TODO programmatically get these by subtracting column names (set)\n",
        "b = Y_rec_df[['ETS', 'Naive', 'ETS/BottomUp', 'Naive/BottomUp']].sort_index()#.sort_values(by='ds', ascending=True)#.drop(columns=['ds'])\n",
        "\n",
        "b"
      ]
    },
    {
      "cell_type": "code",
      "execution_count": null,
      "id": "zQF4Ng_3EEdi",
      "metadata": {
        "id": "zQF4Ng_3EEdi"
      },
      "outputs": [],
      "source": [
        "merged_test_preds_df = pd.concat([a, b], axis=1)\n",
        "# merged_test_preds_df"
      ]
    },
    {
      "cell_type": "code",
      "execution_count": null,
      "id": "CsMVk5EREcIT",
      "metadata": {
        "colab": {
          "base_uri": "https://localhost:8080/",
          "height": 646
        },
        "id": "CsMVk5EREcIT",
        "outputId": "ba0d0e32-f5e3-4e52-8fc7-977d44683892"
      },
      "outputs": [],
      "source": [
        "merged_test_preds_df = merged_test_preds_df.sort_values(by='ds', ascending=True)\n",
        "merged_test_preds_df"
      ]
    },
    {
      "cell_type": "code",
      "execution_count": null,
      "id": "FEnuvBth4WTL",
      "metadata": {
        "colab": {
          "base_uri": "https://localhost:8080/",
          "height": 467
        },
        "id": "FEnuvBth4WTL",
        "outputId": "a641899e-f025-4671-9f11-157824b69673"
      },
      "outputs": [],
      "source": [
        "hplt = HierarchicalPlot(S=S_df, tags=tags)\n",
        "\n",
        "hplt.plot_hierarchical_predictions_gap(Y_df=merged_test_preds_df, models = 'ETS')#['ETS', 'Naive', 'ETS/BottomUp', 'Naive/BottomUp'])"
      ]
    },
    {
      "cell_type": "code",
      "execution_count": null,
      "id": "DXI1gdZ_464Q",
      "metadata": {
        "colab": {
          "base_uri": "https://localhost:8080/",
          "height": 396
        },
        "id": "DXI1gdZ_464Q",
        "outputId": "4f4caf07-984a-490c-b58c-00136df6e0bd"
      },
      "outputs": [],
      "source": [
        "hplt.plot_hierarchically_linked_series(bottom_series='Южный ФО_VALZ_Valz N FC tabs 80 mg/12.5mg #28', Y_df=Y_train_df)"
      ]
    },
    {
      "cell_type": "markdown",
      "id": "a51830f5",
      "metadata": {
        "id": "a51830f5"
      },
      "source": [
        "### References\n",
        "- [Hyndman, R.J., & Athanasopoulos, G. (2021). \"Forecasting: principles and practice, 3rd edition:\n",
        "Chapter 11: Forecasting hierarchical and grouped series.\". OTexts: Melbourne, Australia. OTexts.com/fpp3\n",
        "Accessed on July 2022.](https://otexts.com/fpp3/hierarchical.html)\n",
        "- [Wickramasuriya, S. L., Athanasopoulos, G., & Hyndman, R. J. (2019). \\\"Optimal forecast reconciliation for\n",
        "    hierarchical and grouped time series through trace minimization\\\". Journal of the American Statistical Association,\n",
        "    114 , 804–819. doi:10.1080/01621459.2018.1448825.](https://robjhyndman.com/publications/mint/).\n",
        "- [Wickramasuriya, S.L., Turlach, B.A. & Hyndman, R.J. (2020). \\\"Optimal non-negative\n",
        "    forecast reconciliation\". Stat Comput 30, 1167–1182,\n",
        "    https://doi.org/10.1007/s11222-020-09930-0](https://robjhyndman.com/publications/nnmint/)."
      ]
    }
  ],
  "metadata": {
    "colab": {
      "collapsed_sections": [
        "c6eb7b54"
      ],
      "provenance": []
    },
    "kernelspec": {
      "display_name": "python3",
      "language": "python",
      "name": "python3"
    },
    "language_info": {
      "codemirror_mode": {
        "name": "ipython",
        "version": 3
      },
      "file_extension": ".py",
      "mimetype": "text/x-python",
      "name": "python",
      "nbconvert_exporter": "python",
      "pygments_lexer": "ipython3",
      "version": "3.9.6"
    }
  },
  "nbformat": 4,
  "nbformat_minor": 5
}
