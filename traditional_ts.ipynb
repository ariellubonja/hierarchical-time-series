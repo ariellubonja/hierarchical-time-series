{
 "cells": [
  {
   "cell_type": "code",
   "execution_count": 8,
   "metadata": {},
   "outputs": [],
   "source": [
    "import pandas as pd\n",
    "import numpy as np\n",
    "from utils.hts_eda_utils import get_zero_columns, remove_zero_columns\n",
    "from utils import hts_eda_utils"
   ]
  },
  {
   "cell_type": "code",
   "execution_count": 4,
   "metadata": {},
   "outputs": [
    {
     "name": "stdout",
     "output_type": "stream",
     "text": [
      "Removing 30 columns with all zeros\n"
     ]
    }
   ],
   "source": [
    "original_df = pd.read_excel('data/Quarterly_smoothing.xlsx', index_col=0)\n",
    "\n",
    "original_df = remove_zero_columns(original_df)"
   ]
  },
  {
   "cell_type": "markdown",
   "metadata": {},
   "source": [
    "## Let's Try MA, AR and ARIMA models separately, compare performance"
   ]
  },
  {
   "cell_type": "code",
   "execution_count": 5,
   "metadata": {},
   "outputs": [],
   "source": [
    "df = original_df.copy()\n",
    "\n",
    "# Set period type to Month Start (MS)\n",
    "df.index = pd.date_range(start='2018-03-01', periods=len(df), freq='MS')  # Month start\n"
   ]
  },
  {
   "cell_type": "code",
   "execution_count": 6,
   "metadata": {},
   "outputs": [],
   "source": [
    "from statsmodels.tsa.arima.model import ARIMA\n",
    "from sklearn.metrics import mean_squared_error, mean_absolute_error\n",
    "\n",
    "def evaluate_arima_model(order):\n",
    "    model = ARIMA(train, order=order)\n",
    "    model_fit = model.fit()\n",
    "    predictions = model_fit.predict(start=len(train), end=len(train) + len(test) - 1)\n",
    "    mse = mean_squared_error(test, predictions)\n",
    "    mae = mean_absolute_error(test, predictions)\n",
    "    rmse = np.sqrt(mse)\n",
    "    return mse, mae, rmse"
   ]
  },
  {
   "cell_type": "code",
   "execution_count": 12,
   "metadata": {},
   "outputs": [],
   "source": [
    "def evaluate_series(series):\n",
    "    train_size = int(len(series) * 0.7)\n",
    "    train, test = series[:train_size], data[train_size:]\n",
    "\n",
    "\n",
    "    print('Auto Regressive')\n",
    "    mse_ar, mae_ar, rmse_ar = evaluate_arima_model((1, 0, 0))\n",
    "    print('AR MSE:', mse_ar, '|', 'AR MAE:', mae_ar, '|', 'AR RMSE:', rmse_ar)\n",
    "\n",
    "    print('Moving Average')\n",
    "    mse_ma, mae_ma, rmse_ma = evaluate_arima_model((0, 0, 1))\n",
    "    print('MSE:', mse_ma, '|', 'MAE:', mae_ma, '|', 'RMSE:', rmse_ma)\n",
    "\n",
    "    print('Auto Regressive Integrated Moving Average')\n",
    "    mse_arima, mae_arima, rmse_arima = evaluate_arima_model((1, 0, 1))\n",
    "    print('ARIMA MSE:', mse_arima, '|', 'ARIMA MAE:', mae_arima, '|', 'ARIMA RMSE:', rmse_arima)\n",
    "\n",
    "    return {\n",
    "        'AR': {'MSE': mse_ar, 'MAE': mae_ar, 'RMSE': rmse_ar},\n",
    "        'MA': {'MSE': mse_ma, 'MAE': mae_ma, 'RMSE': rmse_ma},\n",
    "        'ARIMA': {'MSE': mse_arima, 'MAE': mae_arima, 'RMSE': rmse_arima}\n",
    "    }\n"
   ]
  },
  {
   "cell_type": "code",
   "execution_count": 14,
   "metadata": {},
   "outputs": [],
   "source": [
    "from sklearn.metrics import mean_absolute_error\n",
    "\n",
    "def mean_absolute_percentage_error(y_true, y_pred): \n",
    "    return np.mean(np.abs((y_true - y_pred) / y_true)) * 100\n",
    "\n",
    "def symmetric_mean_absolute_percentage_error(y_true, y_pred):\n",
    "    return 100/len(y_true) * np.sum(2 * np.abs(y_pred - y_true) / (np.abs(y_true) + np.abs(y_pred)))\n",
    "\n",
    "def evaluate_arima_model(order):\n",
    "    model = ARIMA(train, order=order)\n",
    "    model_fit = model.fit()\n",
    "    predictions = model_fit.predict(start=len(train), end=len(train) + len(test) - 1)\n",
    "    mae = mean_absolute_error(test, predictions)\n",
    "    rmse = np.sqrt(mean_squared_error(test, predictions))\n",
    "    mape = mean_absolute_percentage_error(test, predictions)\n",
    "    smape = symmetric_mean_absolute_percentage_error(test, predictions)\n",
    "    return mae, rmse, mape, smape\n",
    "\n",
    "def evaluate_series(series):\n",
    "    train_size = int(len(series) * 0.7)\n",
    "    train, test = series[:train_size], series[train_size:]\n",
    "\n",
    "    print('Auto Regressive')\n",
    "    mae_ar, rmse_ar, mape_ar, smape_ar = evaluate_arima_model((1, 0, 0))\n",
    "    print('AR MAE:', mae_ar, '|', 'AR RMSE:', rmse_ar, '|', 'AR MAPE:', mape_ar, '|', 'AR SMAPE:', smape_ar)\n",
    "\n",
    "    print('Moving Average')\n",
    "    mae_ma, rmse_ma, mape_ma, smape_ma = evaluate_arima_model((0, 0, 1))\n",
    "    print('MA MAE:', mae_ma, '|', 'MA RMSE:', rmse_ma, '|', 'MA MAPE:', mape_ma, '|', 'MA SMAPE:', smape_ma)\n",
    "\n",
    "    print('Auto Regressive Integrated Moving Average')\n",
    "    mae_arima, rmse_arima, mape_arima, smape_arima = evaluate_arima_model((1, 0, 1))\n",
    "    print('ARIMA MAE:', mae_arima, '|', 'ARIMA RMSE:', rmse_arima, '|', 'ARIMA MAPE:', mape_arima, '|', 'ARIMA SMAPE:', smape_arima)\n",
    "\n",
    "    return {\n",
    "        'AR': {'MAE': mae_ar, 'RMSE': rmse_ar, 'MAPE': mape_ar, 'SMAPE': smape_ar},\n",
    "        'MA': {'MAE': mae_ma, 'RMSE': rmse_ma, 'MAPE': mape_ma, 'SMAPE': smape_ma},\n",
    "        'ARIMA': {'MAE': mae_arima, 'RMSE': rmse_arima, 'MAPE': mape_arima, 'SMAPE': smape_arima}\n",
    "    }\n"
   ]
  },
  {
   "cell_type": "code",
   "execution_count": 16,
   "metadata": {},
   "outputs": [
    {
     "name": "stdout",
     "output_type": "stream",
     "text": [
      "Auto Regressive\n",
      "AR MAE: 990.4492721364645 | AR RMSE: 1019.4562565642592 | AR MAPE: inf | AR SMAPE: 200.0\n",
      "Moving Average\n",
      "MA MAE: 1144.0659262527527 | MA RMSE: 1148.8763467482672 | MA MAPE: inf | MA SMAPE: 200.0\n",
      "Auto Regressive Integrated Moving Average\n",
      "ARIMA MAE: 1051.3554520795733 | ARIMA RMSE: 1074.7787669843053 | ARIMA MAPE: inf | ARIMA SMAPE: 200.0\n"
     ]
    },
    {
     "name": "stderr",
     "output_type": "stream",
     "text": [
      "/Users/ariellubonja/Library/Python/3.9/lib/python/site-packages/statsmodels/tsa/statespace/sarimax.py:978: UserWarning: Non-invertible starting MA parameters found. Using zeros as starting parameters.\n",
      "  warn('Non-invertible starting MA parameters found.'\n"
     ]
    },
    {
     "data": {
      "text/plain": [
       "{'AR': {'MAE': 990.4492721364645,\n",
       "  'RMSE': 1019.4562565642592,\n",
       "  'MAPE': inf,\n",
       "  'SMAPE': 200.0},\n",
       " 'MA': {'MAE': 1144.0659262527527,\n",
       "  'RMSE': 1148.8763467482672,\n",
       "  'MAPE': inf,\n",
       "  'SMAPE': 200.0},\n",
       " 'ARIMA': {'MAE': 1051.3554520795733,\n",
       "  'RMSE': 1074.7787669843053,\n",
       "  'MAPE': inf,\n",
       "  'SMAPE': 200.0}}"
      ]
     },
     "execution_count": 16,
     "metadata": {},
     "output_type": "execute_result"
    }
   ],
   "source": [
    "evaluate_series(df.iloc[:,0])"
   ]
  },
  {
   "cell_type": "code",
   "execution_count": null,
   "metadata": {},
   "outputs": [],
   "source": []
  }
 ],
 "metadata": {
  "kernelspec": {
   "display_name": "venv",
   "language": "python",
   "name": "python3"
  },
  "language_info": {
   "codemirror_mode": {
    "name": "ipython",
    "version": 3
   },
   "file_extension": ".py",
   "mimetype": "text/x-python",
   "name": "python",
   "nbconvert_exporter": "python",
   "pygments_lexer": "ipython3",
   "version": "3.9.6"
  },
  "orig_nbformat": 4
 },
 "nbformat": 4,
 "nbformat_minor": 2
}
